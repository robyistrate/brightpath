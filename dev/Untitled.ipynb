{
 "cells": [
  {
   "cell_type": "code",
   "execution_count": 4,
   "id": "6d93e33a-b89e-4e56-bfb7-5a8a0a232053",
   "metadata": {},
   "outputs": [],
   "source": [
    "from brightpath import SimaproConverter\n",
    "fp=\"/Users/romain/Documents/ESA_LCA_DB_1.2.0f_e3.9.1_-_EXTERNAL_csv_original.CSV\"\n",
    "fp = \"/Users/romain/GitHub/brightpath/dev/simapro_13-06-2023.csv\""
   ]
  },
  {
   "cell_type": "code",
   "execution_count": 5,
   "id": "77d7e60b-81af-499b-9453-26cbf93301f4",
   "metadata": {},
   "outputs": [
    {
     "ename": "ValueError",
     "evalue": "math domain error",
     "output_type": "error",
     "traceback": [
      "\u001b[0;31m---------------------------------------------------------------------------\u001b[0m",
      "\u001b[0;31mValueError\u001b[0m                                Traceback (most recent call last)",
      "Cell \u001b[0;32mIn[5], line 1\u001b[0m\n\u001b[0;32m----> 1\u001b[0m c \u001b[38;5;241m=\u001b[39m \u001b[43mSimaproConverter\u001b[49m\u001b[43m(\u001b[49m\n\u001b[1;32m      2\u001b[0m \u001b[43m    \u001b[49m\u001b[43mfilepath\u001b[49m\u001b[38;5;241;43m=\u001b[39;49m\u001b[43mfp\u001b[49m\u001b[43m,\u001b[49m\n\u001b[1;32m      3\u001b[0m \u001b[43m)\u001b[49m\n",
      "File \u001b[0;32m~/GitHub/brightpath/brightpath/simaproconverter.py:199\u001b[0m, in \u001b[0;36mSimaproConverter.__init__\u001b[0;34m(self, filepath, ecoinvent_version)\u001b[0m\n\u001b[1;32m    196\u001b[0m     \u001b[38;5;28;01mraise\u001b[39;00m \u001b[38;5;167;01mFileNotFoundError\u001b[39;00m(\u001b[38;5;124mf\u001b[39m\u001b[38;5;124m\"\u001b[39m\u001b[38;5;124mFile \u001b[39m\u001b[38;5;132;01m{\u001b[39;00mfilepath\u001b[38;5;132;01m}\u001b[39;00m\u001b[38;5;124m not found.\u001b[39m\u001b[38;5;124m\"\u001b[39m)\n\u001b[1;32m    198\u001b[0m \u001b[38;5;28mself\u001b[39m\u001b[38;5;241m.\u001b[39mfilepath \u001b[38;5;241m=\u001b[39m search_for_forbidden_units(filepath)\n\u001b[0;32m--> 199\u001b[0m \u001b[38;5;28mself\u001b[39m\u001b[38;5;241m.\u001b[39mi \u001b[38;5;241m=\u001b[39m \u001b[43mbw2io\u001b[49m\u001b[38;5;241;43m.\u001b[39;49m\u001b[43mSimaProCSVImporter\u001b[49m\u001b[43m(\u001b[49m\u001b[38;5;28;43mself\u001b[39;49m\u001b[38;5;241;43m.\u001b[39;49m\u001b[43mfilepath\u001b[49m\u001b[43m)\u001b[49m\n\u001b[1;32m    200\u001b[0m \u001b[38;5;28mself\u001b[39m\u001b[38;5;241m.\u001b[39mi\u001b[38;5;241m.\u001b[39mapply_strategies()\n\u001b[1;32m    201\u001b[0m \u001b[38;5;28mself\u001b[39m\u001b[38;5;241m.\u001b[39mecoinvent_version \u001b[38;5;241m=\u001b[39m ecoinvent_version\n",
      "File \u001b[0;32m/opt/homebrew/Caskroom/miniforge/base/envs/brightpath/lib/python3.11/site-packages/bw2io/importers/simapro_csv.py:45\u001b[0m, in \u001b[0;36mSimaProCSVImporter.__init__\u001b[0;34m(self, filepath, name, delimiter, encoding, normalize_biosphere, biosphere_db)\u001b[0m\n\u001b[1;32m     35\u001b[0m \u001b[38;5;28;01mdef\u001b[39;00m \u001b[38;5;21m__init__\u001b[39m(\n\u001b[1;32m     36\u001b[0m     \u001b[38;5;28mself\u001b[39m,\n\u001b[1;32m     37\u001b[0m     filepath,\n\u001b[0;32m   (...)\u001b[0m\n\u001b[1;32m     42\u001b[0m     biosphere_db\u001b[38;5;241m=\u001b[39m\u001b[38;5;28;01mNone\u001b[39;00m,\n\u001b[1;32m     43\u001b[0m ):\n\u001b[1;32m     44\u001b[0m     start \u001b[38;5;241m=\u001b[39m time()\n\u001b[0;32m---> 45\u001b[0m     \u001b[38;5;28mself\u001b[39m\u001b[38;5;241m.\u001b[39mdata, \u001b[38;5;28mself\u001b[39m\u001b[38;5;241m.\u001b[39mglobal_parameters, \u001b[38;5;28mself\u001b[39m\u001b[38;5;241m.\u001b[39mmetadata \u001b[38;5;241m=\u001b[39m \u001b[43mSimaProCSVExtractor\u001b[49m\u001b[38;5;241;43m.\u001b[39;49m\u001b[43mextract\u001b[49m\u001b[43m(\u001b[49m\n\u001b[1;32m     46\u001b[0m \u001b[43m        \u001b[49m\u001b[43mfilepath\u001b[49m\u001b[38;5;241;43m=\u001b[39;49m\u001b[43mfilepath\u001b[49m\u001b[43m,\u001b[49m\u001b[43m \u001b[49m\u001b[43mdelimiter\u001b[49m\u001b[38;5;241;43m=\u001b[39;49m\u001b[43mdelimiter\u001b[49m\u001b[43m,\u001b[49m\u001b[43m \u001b[49m\u001b[43mname\u001b[49m\u001b[38;5;241;43m=\u001b[39;49m\u001b[43mname\u001b[49m\u001b[43m,\u001b[49m\u001b[43m \u001b[49m\u001b[43mencoding\u001b[49m\u001b[38;5;241;43m=\u001b[39;49m\u001b[43mencoding\u001b[49m\u001b[43m,\u001b[49m\n\u001b[1;32m     47\u001b[0m \u001b[43m    \u001b[49m\u001b[43m)\u001b[49m\n\u001b[1;32m     48\u001b[0m     \u001b[38;5;28mprint\u001b[39m(\n\u001b[1;32m     49\u001b[0m         \u001b[38;5;124mu\u001b[39m\u001b[38;5;124m\"\u001b[39m\u001b[38;5;124mExtracted \u001b[39m\u001b[38;5;132;01m{}\u001b[39;00m\u001b[38;5;124m unallocated datasets in \u001b[39m\u001b[38;5;132;01m{:.2f}\u001b[39;00m\u001b[38;5;124m seconds\u001b[39m\u001b[38;5;124m\"\u001b[39m\u001b[38;5;241m.\u001b[39mformat(\n\u001b[1;32m     50\u001b[0m             \u001b[38;5;28mlen\u001b[39m(\u001b[38;5;28mself\u001b[39m\u001b[38;5;241m.\u001b[39mdata), time() \u001b[38;5;241m-\u001b[39m start\n\u001b[1;32m     51\u001b[0m         )\n\u001b[1;32m     52\u001b[0m     )\n\u001b[1;32m     53\u001b[0m     \u001b[38;5;28;01mif\u001b[39;00m name:\n",
      "File \u001b[0;32m/opt/homebrew/Caskroom/miniforge/base/envs/brightpath/lib/python3.11/site-packages/bw2io/extractors/simapro_csv.py:120\u001b[0m, in \u001b[0;36mSimaProCSVExtractor.extract\u001b[0;34m(cls, filepath, delimiter, name, encoding)\u001b[0m\n\u001b[1;32m    118\u001b[0m \u001b[38;5;28;01mwhile\u001b[39;00m \u001b[38;5;28;01mTrue\u001b[39;00m:\n\u001b[1;32m    119\u001b[0m     \u001b[38;5;28;01mtry\u001b[39;00m:\n\u001b[0;32m--> 120\u001b[0m         ds, index \u001b[38;5;241m=\u001b[39m \u001b[38;5;28;43mcls\u001b[39;49m\u001b[38;5;241;43m.\u001b[39;49m\u001b[43mread_data_set\u001b[49m\u001b[43m(\u001b[49m\n\u001b[1;32m    121\u001b[0m \u001b[43m            \u001b[49m\u001b[43mlines\u001b[49m\u001b[43m,\u001b[49m\n\u001b[1;32m    122\u001b[0m \u001b[43m            \u001b[49m\u001b[43mindex\u001b[49m\u001b[43m,\u001b[49m\n\u001b[1;32m    123\u001b[0m \u001b[43m            \u001b[49m\u001b[43mproject_name\u001b[49m\u001b[43m,\u001b[49m\n\u001b[1;32m    124\u001b[0m \u001b[43m            \u001b[49m\u001b[43mfilepath\u001b[49m\u001b[43m,\u001b[49m\n\u001b[1;32m    125\u001b[0m \u001b[43m            \u001b[49m\u001b[43mglobal_parameters\u001b[49m\u001b[43m,\u001b[49m\n\u001b[1;32m    126\u001b[0m \u001b[43m            \u001b[49m\u001b[43mproject_metadata\u001b[49m\u001b[43m,\u001b[49m\n\u001b[1;32m    127\u001b[0m \u001b[43m        \u001b[49m\u001b[43m)\u001b[49m\n\u001b[1;32m    128\u001b[0m         datasets\u001b[38;5;241m.\u001b[39mappend(ds)\n\u001b[1;32m    129\u001b[0m         index \u001b[38;5;241m=\u001b[39m \u001b[38;5;28mcls\u001b[39m\u001b[38;5;241m.\u001b[39mget_next_process_index(lines, index)\n",
      "File \u001b[0;32m/opt/homebrew/Caskroom/miniforge/base/envs/brightpath/lib/python3.11/site-packages/bw2io/extractors/simapro_csv.py:514\u001b[0m, in \u001b[0;36mSimaProCSVExtractor.read_data_set\u001b[0;34m(cls, data, index, db_name, filepath, gp, pm)\u001b[0m\n\u001b[1;32m    509\u001b[0m     index \u001b[38;5;241m+\u001b[39m\u001b[38;5;241m=\u001b[39m \u001b[38;5;241m1\u001b[39m  \u001b[38;5;66;03m# Advance to data lines\u001b[39;00m\n\u001b[1;32m    510\u001b[0m     \u001b[38;5;28;01mwhile\u001b[39;00m (\n\u001b[1;32m    511\u001b[0m         index \u001b[38;5;241m<\u001b[39m \u001b[38;5;28mlen\u001b[39m(data) \u001b[38;5;129;01mand\u001b[39;00m data[index] \u001b[38;5;129;01mand\u001b[39;00m data[index][\u001b[38;5;241m0\u001b[39m]\n\u001b[1;32m    512\u001b[0m     ):  \u001b[38;5;66;03m# Stop on blank line\u001b[39;00m\n\u001b[1;32m    513\u001b[0m         ds[\u001b[38;5;124m\"\u001b[39m\u001b[38;5;124mexchanges\u001b[39m\u001b[38;5;124m\"\u001b[39m]\u001b[38;5;241m.\u001b[39mappend(\n\u001b[0;32m--> 514\u001b[0m             \u001b[38;5;28;43mcls\u001b[39;49m\u001b[38;5;241;43m.\u001b[39;49m\u001b[43mparse_input_line\u001b[49m\u001b[43m(\u001b[49m\u001b[43mdata\u001b[49m\u001b[43m[\u001b[49m\u001b[43mindex\u001b[49m\u001b[43m]\u001b[49m\u001b[43m,\u001b[49m\u001b[43m \u001b[49m\u001b[43mcategory\u001b[49m\u001b[43m,\u001b[49m\u001b[43m \u001b[49m\u001b[43mpm\u001b[49m\u001b[43m)\u001b[49m\n\u001b[1;32m    515\u001b[0m         )\n\u001b[1;32m    516\u001b[0m         index \u001b[38;5;241m+\u001b[39m\u001b[38;5;241m=\u001b[39m \u001b[38;5;241m1\u001b[39m\n\u001b[1;32m    517\u001b[0m \u001b[38;5;28;01melif\u001b[39;00m data[index][\u001b[38;5;241m0\u001b[39m] \u001b[38;5;129;01min\u001b[39;00m SIMAPRO_BIOSPHERE:\n",
      "File \u001b[0;32m/opt/homebrew/Caskroom/miniforge/base/envs/brightpath/lib/python3.11/site-packages/bw2io/extractors/simapro_csv.py:362\u001b[0m, in \u001b[0;36mSimaProCSVExtractor.parse_input_line\u001b[0;34m(cls, line, category, pm)\u001b[0m\n\u001b[1;32m    360\u001b[0m     ds \u001b[38;5;241m=\u001b[39m {\u001b[38;5;124m\"\u001b[39m\u001b[38;5;124mformula\u001b[39m\u001b[38;5;124m\"\u001b[39m: normalize_simapro_formulae(amount, pm)}\n\u001b[1;32m    361\u001b[0m \u001b[38;5;28;01melse\u001b[39;00m:\n\u001b[0;32m--> 362\u001b[0m     ds \u001b[38;5;241m=\u001b[39m \u001b[38;5;28;43mcls\u001b[39;49m\u001b[38;5;241;43m.\u001b[39;49m\u001b[43mcreate_distribution\u001b[49m\u001b[43m(\u001b[49m\u001b[43mamount\u001b[49m\u001b[43m,\u001b[49m\u001b[43m \u001b[49m\u001b[38;5;241;43m*\u001b[39;49m\u001b[43mline\u001b[49m\u001b[43m[\u001b[49m\u001b[38;5;241;43m3\u001b[39;49m\u001b[43m:\u001b[49m\u001b[38;5;241;43m7\u001b[39;49m\u001b[43m]\u001b[49m\u001b[43m)\u001b[49m\n\u001b[1;32m    363\u001b[0m ds\u001b[38;5;241m.\u001b[39mupdate(\n\u001b[1;32m    364\u001b[0m     {\n\u001b[1;32m    365\u001b[0m         \u001b[38;5;124m\"\u001b[39m\u001b[38;5;124mcategories\u001b[39m\u001b[38;5;124m\"\u001b[39m: (category,),\n\u001b[0;32m   (...)\u001b[0m\n\u001b[1;32m    372\u001b[0m     }\n\u001b[1;32m    373\u001b[0m )\n\u001b[1;32m    374\u001b[0m \u001b[38;5;28;01mreturn\u001b[39;00m ds\n",
      "File \u001b[0;32m/opt/homebrew/Caskroom/miniforge/base/envs/brightpath/lib/python3.11/site-packages/bw2io/extractors/simapro_csv.py:233\u001b[0m, in \u001b[0;36mSimaProCSVExtractor.create_distribution\u001b[0;34m(cls, amount, kind, field1, field2, field3)\u001b[0m\n\u001b[1;32m    225\u001b[0m     \u001b[38;5;28;01mreturn\u001b[39;00m {\n\u001b[1;32m    226\u001b[0m         \u001b[38;5;124m\"\u001b[39m\u001b[38;5;124muncertainty type\u001b[39m\u001b[38;5;124m\"\u001b[39m: UndefinedUncertainty\u001b[38;5;241m.\u001b[39mid,\n\u001b[1;32m    227\u001b[0m         \u001b[38;5;124m\"\u001b[39m\u001b[38;5;124mloc\u001b[39m\u001b[38;5;124m\"\u001b[39m: amount,\n\u001b[1;32m    228\u001b[0m         \u001b[38;5;124m\"\u001b[39m\u001b[38;5;124mamount\u001b[39m\u001b[38;5;124m\"\u001b[39m: amount,\n\u001b[1;32m    229\u001b[0m     }\n\u001b[1;32m    230\u001b[0m \u001b[38;5;28;01melif\u001b[39;00m kind \u001b[38;5;241m==\u001b[39m \u001b[38;5;124m\"\u001b[39m\u001b[38;5;124mLognormal\u001b[39m\u001b[38;5;124m\"\u001b[39m:\n\u001b[1;32m    231\u001b[0m     \u001b[38;5;28;01mreturn\u001b[39;00m {\n\u001b[1;32m    232\u001b[0m         \u001b[38;5;124m\"\u001b[39m\u001b[38;5;124muncertainty type\u001b[39m\u001b[38;5;124m\"\u001b[39m: LognormalUncertainty\u001b[38;5;241m.\u001b[39mid,\n\u001b[0;32m--> 233\u001b[0m         \u001b[38;5;124m\"\u001b[39m\u001b[38;5;124mscale\u001b[39m\u001b[38;5;124m\"\u001b[39m: \u001b[43mmath\u001b[49m\u001b[38;5;241;43m.\u001b[39;49m\u001b[43mlog\u001b[49m\u001b[43m(\u001b[49m\u001b[43mmath\u001b[49m\u001b[38;5;241;43m.\u001b[39;49m\u001b[43msqrt\u001b[49m\u001b[43m(\u001b[49m\u001b[43mto_number\u001b[49m\u001b[43m(\u001b[49m\u001b[43mfield1\u001b[49m\u001b[43m)\u001b[49m\u001b[43m)\u001b[49m\u001b[43m)\u001b[49m,\n\u001b[1;32m    234\u001b[0m         \u001b[38;5;124m\"\u001b[39m\u001b[38;5;124mloc\u001b[39m\u001b[38;5;124m\"\u001b[39m: math\u001b[38;5;241m.\u001b[39mlog(\u001b[38;5;28mabs\u001b[39m(amount)),\n\u001b[1;32m    235\u001b[0m         \u001b[38;5;124m\"\u001b[39m\u001b[38;5;124mnegative\u001b[39m\u001b[38;5;124m\"\u001b[39m: amount \u001b[38;5;241m<\u001b[39m \u001b[38;5;241m0\u001b[39m,\n\u001b[1;32m    236\u001b[0m         \u001b[38;5;124m\"\u001b[39m\u001b[38;5;124mamount\u001b[39m\u001b[38;5;124m\"\u001b[39m: amount,\n\u001b[1;32m    237\u001b[0m     }\n\u001b[1;32m    238\u001b[0m \u001b[38;5;28;01melif\u001b[39;00m kind \u001b[38;5;241m==\u001b[39m \u001b[38;5;124m\"\u001b[39m\u001b[38;5;124mNormal\u001b[39m\u001b[38;5;124m\"\u001b[39m:\n\u001b[1;32m    239\u001b[0m     \u001b[38;5;28;01mreturn\u001b[39;00m {\n\u001b[1;32m    240\u001b[0m         \u001b[38;5;124m\"\u001b[39m\u001b[38;5;124muncertainty type\u001b[39m\u001b[38;5;124m\"\u001b[39m: NormalUncertainty\u001b[38;5;241m.\u001b[39mid,\n\u001b[1;32m    241\u001b[0m         \u001b[38;5;124m\"\u001b[39m\u001b[38;5;124mscale\u001b[39m\u001b[38;5;124m\"\u001b[39m: math\u001b[38;5;241m.\u001b[39msqrt(to_number(field1)),\n\u001b[0;32m   (...)\u001b[0m\n\u001b[1;32m    244\u001b[0m         \u001b[38;5;124m\"\u001b[39m\u001b[38;5;124mamount\u001b[39m\u001b[38;5;124m\"\u001b[39m: amount,\n\u001b[1;32m    245\u001b[0m     }\n",
      "\u001b[0;31mValueError\u001b[0m: math domain error"
     ]
    }
   ],
   "source": [
    "c = SimaproConverter(\n",
    "    filepath=fp,\n",
    ")"
   ]
  },
  {
   "cell_type": "code",
   "execution_count": 3,
   "id": "b586e97a-0d58-4019-ad0f-84dca4bb1b09",
   "metadata": {},
   "outputs": [
    {
     "name": "stdout",
     "output_type": "stream",
     "text": [
      "- format exchanges\n",
      "- remove empty datasets\n",
      "- remove empty exchanges\n",
      "- check inventories\n",
      "Done!\n"
     ]
    }
   ],
   "source": [
    "c.convert_to_brightway()"
   ]
  },
  {
   "cell_type": "code",
   "execution_count": 4,
   "id": "2a28ae80-e014-4652-912e-4fc94f07922c",
   "metadata": {},
   "outputs": [],
   "source": [
    "import bw2data\n",
    "bw2data.projects.set_current(\"simapro\")"
   ]
  },
  {
   "cell_type": "code",
   "execution_count": 5,
   "id": "54e6fb89-d191-45f8-b652-5c6c06ad5025",
   "metadata": {},
   "outputs": [
    {
     "name": "stdout",
     "output_type": "stream",
     "text": [
      "Applying strategy: link_iterable_by_fields\n",
      "Applying strategy: link_iterable_by_fields\n",
      "Applying strategy: link_iterable_by_fields\n"
     ]
    }
   ],
   "source": [
    "c.i.match_database(fields=[\"name\", \"reference product\", \"location\"])\n",
    "c.i.match_database(\"ecoinvent 3.9.1 cutoff\" ,fields=[\"name\", \"reference product\", \"location\"])\n",
    "c.i.match_database(\"biosphere3\" ,fields=[\"name\", \"categories\"])\n"
   ]
  },
  {
   "cell_type": "code",
   "execution_count": 6,
   "id": "fd3d1449",
   "metadata": {},
   "outputs": [
    {
     "name": "stdout",
     "output_type": "stream",
     "text": [
      "774 datasets\n",
      "31787 exchanges\n",
      "2661 unlinked exchanges\n",
      "  Type biosphere: 480 unique unlinked exchanges\n",
      "  Type technosphere: 14 unique unlinked exchanges\n"
     ]
    },
    {
     "data": {
      "text/plain": [
       "(774, 31787, 2661)"
      ]
     },
     "execution_count": 6,
     "metadata": {},
     "output_type": "execute_result"
    }
   ],
   "source": [
    "c.i.statistics()"
   ]
  },
  {
   "cell_type": "code",
   "execution_count": 7,
   "id": "6ec5f24a-219f-4264-8167-dc9b47e83379",
   "metadata": {},
   "outputs": [
    {
     "name": "stdout",
     "output_type": "stream",
     "text": [
      "recycling of pe PE (waste treatment) GLO\n",
      "recycling of steel and iron Steel and iron (waste treatment) GLO\n",
      "recycling of aluminium Aluminium (waste treatment) GLO\n",
      "dross for recycling Dross for recycling GLO\n",
      "refractory Refractory GLO\n",
      "dust, unspecified Dust, unspecified GLO\n",
      "waste water - untreated, slightly organic and anorganic contaminated eu-27 s Waste water - untreated, slightly organic and anorganic contaminated EU-27 S GLO\n",
      "slags Slags GLO\n",
      "organic carbon, placed in landfill Organic carbon, placed in landfill GLO\n",
      "waste mass, total, placed in landfill Waste mass, total, placed in landfill GLO\n",
      "ethene (ethylene), from steam cracking, production mix, at plant, gaseous eu-27 s Ethene (ethylene), from steam cracking, production mix, at plant, gaseous EU-27 S GLO\n",
      "continuous filament glass fibre (assembled rovings), at plant rer s Continuous filament glass fibre (assembled rovings), at plant RER S GLO\n",
      "waste water - untreated, organic contaminated eu-27 s Waste water - untreated, organic contaminated EU-27 S GLO\n",
      "recycling of mixed plastics Mixed plastics (waste treatment) GLO\n"
     ]
    }
   ],
   "source": [
    "for x in list(c.i.unlinked):\n",
    "    if x[\"type\"] == \"technosphere\":\n",
    "        print(x[\"name\"], x[\"reference product\"], x[\"location\"])"
   ]
  },
  {
   "cell_type": "code",
   "execution_count": 8,
   "id": "dbc9ddfa-9fcb-4110-8f40-ef964db64247",
   "metadata": {},
   "outputs": [
    {
     "name": "stdout",
     "output_type": "stream",
     "text": [
      "Mineral oil ('air',)\n",
      "Aliphatic aldehydes ('air',)\n",
      "Nitrogen dioxide ('air',)\n",
      "Hydrogen cyanide ('air',)\n",
      "Particulates, unspecified ('air',)\n",
      "Hydrazine, methyl- ('air',)\n",
      "2-Methyl-4-chlorophenoxyacetic acid ('air', 'non-urban air or from high stacks')\n",
      "Benzene, dichloro ('air', 'urban air close to ground')\n",
      "Benzo(a)anthracene ('air',)\n",
      "Butyric acid, 4-(2,4-dichlorophenoxy)- ('air', 'non-urban air or from high stacks')\n",
      "Methyl amine ('air',)\n",
      "Methyl amine ('air', 'urban air close to ground')\n",
      "Nitrogen monoxide ('air',)\n",
      "2-Methyl pentane ('air', 'urban air close to ground')\n",
      "Nickel compounds ('air',)\n",
      "Benzene, dichloro ('air',)\n",
      "Hydrazine ('air',)\n",
      "Hydrazine, 2-hydroxyethyl- ('air',)\n",
      "Zinc, fume or dust ('air', 'non-urban air or from high stacks')\n",
      "Oxygen ('air', 'non-urban air or from high stacks')\n",
      "1-Methyl-2-pyrrolidinone ('air',)\n",
      "Sodium sulfate ('air',)\n",
      "aluminum oxide ('air',)\n",
      "Fatty acid methyl ester ('air',)\n",
      "Hexamethylene diamine ('air',)\n",
      "Kaolin ('air',)\n",
      "Methyl 2,2-dimethylpropanoate ('air',)\n",
      "Methyl perfluoroisopropyl ether ('air',)\n",
      "Nitrogen (atmospheric nitrogen) ('air',)\n",
      "Tetramethylenedisulfotetramine ('air',)\n",
      "Trichloroethane ('air',)\n",
      "Chlorinated fluorocarbons, soft ('air',)\n",
      "Dioxins (TEQ) ('air',)\n",
      "Polybrominated biphenyls ('air',)\n",
      "Anisole, pentachloro- ('air',)\n",
      "Polycyclic organic matter, unspecified ('air',)\n",
      "Hydrazine, 1,1-dimethyl- ('air',)\n"
     ]
    }
   ],
   "source": [
    "for x in list(c.i.unlinked):\n",
    "    if x[\"type\"] == \"biosphere\":\n",
    "        if x[\"categories\"][0] == \"air\":\n",
    "            print(x[\"name\"], x[\"categories\"], )"
   ]
  },
  {
   "cell_type": "code",
   "execution_count": 9,
   "id": "39b2c385-6768-4589-ae23-e740f3ddc328",
   "metadata": {},
   "outputs": [
    {
     "name": "stdout",
     "output_type": "stream",
     "text": [
      "Applying strategy: drop_unlinked\n",
      "Applied 1 strategies in 0.02 seconds\n"
     ]
    }
   ],
   "source": [
    "c.i.drop_unlinked(i_am_reckless=True)"
   ]
  },
  {
   "cell_type": "code",
   "execution_count": 10,
   "id": "03c40460-e849-42ee-ba8b-ece3a104ce92",
   "metadata": {},
   "outputs": [
    {
     "name": "stdout",
     "output_type": "stream",
     "text": [
      "Vacuuming database \n"
     ]
    },
    {
     "name": "stderr",
     "output_type": "stream",
     "text": [
      "Writing activities to SQLite3 database:\n",
      "0% [##############################] 100% | ETA: 00:00:00\n",
      "Total time elapsed: 00:00:00\n"
     ]
    },
    {
     "name": "stdout",
     "output_type": "stream",
     "text": [
      "Title: Writing activities to SQLite3 database:\n",
      "  Started: 05/15/2024 20:30:44\n",
      "  Finished: 05/15/2024 20:30:45\n",
      "  Total time elapsed: 00:00:00\n",
      "  CPU %: 100.20\n",
      "  Memory %: 2.78\n",
      "Created database: ESA LCA External 1.2.0f e3.9.1\n"
     ]
    },
    {
     "data": {
      "text/plain": [
       "Brightway2 SQLiteBackend: ESA LCA External 1.2.0f e3.9.1"
      ]
     },
     "execution_count": 10,
     "metadata": {},
     "output_type": "execute_result"
    }
   ],
   "source": [
    "if \"ESA LCA External 1.2.0f e3.9.1\" in bw2data.databases:\n",
    "    del bw2data.databases[\"ESA LCA External 1.2.0f e3.9.1\"]\n",
    "c.i.write_database()"
   ]
  },
  {
   "cell_type": "code",
   "execution_count": 12,
   "id": "84a49b27-7fb0-4148-ab22-605b1be00848",
   "metadata": {},
   "outputs": [
    {
     "data": {
      "text/plain": [
       "'Laser Cutting, Titanium alloys, Nd:YAG laser (processing)'"
      ]
     },
     "execution_count": 12,
     "metadata": {},
     "output_type": "execute_result"
    }
   ],
   "source": [
    "bw2data.get_activity(('ESA LCA External 1.2.0f e3.9.1', '096a57a16a8003388f2a16d98392ac2a'))[\"name\"]"
   ]
  },
  {
   "cell_type": "code",
   "execution_count": 17,
   "id": "453773b9-2931-4a9e-b21b-02e97babf69e",
   "metadata": {},
   "outputs": [
    {
     "name": "stdout",
     "output_type": "stream",
     "text": [
      "{'uncertainty type': 2, 'scale': 0.06551413120320204, 'loc': -10.24316492010629, 'negative': False, 'amount': 3.56e-05, 'categories': ('Waste to treatment',), 'name': 'recycling of titanium', 'unit': 'kilogram', 'comment': '(2,2,1,5,2,na)', 'type': 'technosphere', 'input': ('ESA LCA External 1.2.0f e3.9.1', '3bed37dae7421ef0e122d52a7bf0d64b'), 'product': 'Titanium (waste treatment) (dummy)', 'location': 'GLO', 'reference product': 'Titanium (waste treatment) (dummy)', 'output': ('ESA LCA External 1.2.0f e3.9.1', '096a57a16a8003388f2a16d98392ac2a')}\n"
     ]
    }
   ],
   "source": [
    "for ds in c.i.data:\n",
    "    if ds[\"name\"] == \"Laser Cutting, Titanium alloys, Nd:YAG laser (processing)\":\n",
    "        for e in ds[\"exchanges\"]:\n",
    "            if e[\"name\"].startswith(\"recycling of titanium\"):\n",
    "                print(e)"
   ]
  },
  {
   "cell_type": "code",
   "execution_count": 16,
   "id": "9a80e972-bd8f-43fb-811f-0255f6839459",
   "metadata": {},
   "outputs": [],
   "source": [
    "for ds in c.i.data:\n",
    "    if ds[\"name\"].startswith(\"recycling of titanium\"):\n",
    "        for e in ds[\"exchanges\"]:\n",
    "            print(e[\"name\"], e[\"amount\"], e.get(\"product\"), e.get(\"location\"), e[\"input\"][-1])"
   ]
  },
  {
   "cell_type": "code",
   "execution_count": 17,
   "id": "2496717f-3014-4c26-af37-b2cb8b51fc4a",
   "metadata": {},
   "outputs": [],
   "source": [
    "import bw2calc\n",
    "lca = bw2calc.LCA({bw2data.Database(\"ESA LCA External 1.2.0f e3.9.1\").random(): 1})"
   ]
  },
  {
   "cell_type": "code",
   "execution_count": 18,
   "id": "95714d14-919b-4216-b1e0-ae39633d958e",
   "metadata": {},
   "outputs": [
    {
     "ename": "NonsquareTechnosphere",
     "evalue": "Technosphere matrix is not square: 22006 activities (columns) and 22008 products (rows). Use LeastSquaresLCA to solve this system, or fix the input data",
     "output_type": "error",
     "traceback": [
      "\u001b[0;31m---------------------------------------------------------------------------\u001b[0m",
      "\u001b[0;31mNonsquareTechnosphere\u001b[0m                     Traceback (most recent call last)",
      "Cell \u001b[0;32mIn[18], line 1\u001b[0m\n\u001b[0;32m----> 1\u001b[0m \u001b[43mlca\u001b[49m\u001b[38;5;241;43m.\u001b[39;49m\u001b[43mlci\u001b[49m\u001b[43m(\u001b[49m\u001b[43m)\u001b[49m\n",
      "File \u001b[0;32m/opt/homebrew/Caskroom/miniforge/base/envs/brightpath/lib/python3.11/site-packages/bw2calc/lca.py:338\u001b[0m, in \u001b[0;36mLCA.lci\u001b[0;34m(self, factorize, builder)\u001b[0m\n\u001b[1;32m    320\u001b[0m     \u001b[38;5;28;01mdef\u001b[39;00m \u001b[38;5;21mlci\u001b[39m(\u001b[38;5;28mself\u001b[39m, factorize\u001b[38;5;241m=\u001b[39m\u001b[38;5;28;01mFalse\u001b[39;00m,\n\u001b[1;32m    321\u001b[0m             builder\u001b[38;5;241m=\u001b[39mTBMBuilder):\n\u001b[1;32m    322\u001b[0m \u001b[38;5;250m        \u001b[39m\u001b[38;5;124;03m\"\"\"\u001b[39;00m\n\u001b[1;32m    323\u001b[0m \u001b[38;5;124;03mCalculate a life cycle inventory.\u001b[39;00m\n\u001b[1;32m    324\u001b[0m \n\u001b[0;32m   (...)\u001b[0m\n\u001b[1;32m    336\u001b[0m \n\u001b[1;32m    337\u001b[0m \u001b[38;5;124;03m        \"\"\"\u001b[39;00m\n\u001b[0;32m--> 338\u001b[0m         \u001b[38;5;28;43mself\u001b[39;49m\u001b[38;5;241;43m.\u001b[39;49m\u001b[43mload_lci_data\u001b[49m\u001b[43m(\u001b[49m\u001b[43mbuilder\u001b[49m\u001b[38;5;241;43m=\u001b[39;49m\u001b[43mbuilder\u001b[49m\u001b[43m)\u001b[49m\n\u001b[1;32m    339\u001b[0m         \u001b[38;5;28mself\u001b[39m\u001b[38;5;241m.\u001b[39mbuild_demand_array()\n\u001b[1;32m    340\u001b[0m         \u001b[38;5;28;01mif\u001b[39;00m factorize:\n",
      "File \u001b[0;32m/opt/homebrew/Caskroom/miniforge/base/envs/brightpath/lib/python3.11/site-packages/bw2calc/lca.py:219\u001b[0m, in \u001b[0;36mLCA.load_lci_data\u001b[0;34m(self, fix_dictionaries, builder)\u001b[0m\n\u001b[1;32m    213\u001b[0m \u001b[38;5;28mself\u001b[39m\u001b[38;5;241m.\u001b[39mbio_params, \u001b[38;5;28mself\u001b[39m\u001b[38;5;241m.\u001b[39mtech_params, \\\n\u001b[1;32m    214\u001b[0m     \u001b[38;5;28mself\u001b[39m\u001b[38;5;241m.\u001b[39mbiosphere_dict, \u001b[38;5;28mself\u001b[39m\u001b[38;5;241m.\u001b[39mactivity_dict, \\\n\u001b[1;32m    215\u001b[0m     \u001b[38;5;28mself\u001b[39m\u001b[38;5;241m.\u001b[39mproduct_dict, \u001b[38;5;28mself\u001b[39m\u001b[38;5;241m.\u001b[39mbiosphere_matrix, \\\n\u001b[1;32m    216\u001b[0m     \u001b[38;5;28mself\u001b[39m\u001b[38;5;241m.\u001b[39mtechnosphere_matrix \u001b[38;5;241m=\u001b[39m \\\n\u001b[1;32m    217\u001b[0m     builder\u001b[38;5;241m.\u001b[39mbuild(\u001b[38;5;28mself\u001b[39m\u001b[38;5;241m.\u001b[39mdatabase_filepath)\n\u001b[1;32m    218\u001b[0m \u001b[38;5;28;01mif\u001b[39;00m \u001b[38;5;28mlen\u001b[39m(\u001b[38;5;28mself\u001b[39m\u001b[38;5;241m.\u001b[39mactivity_dict) \u001b[38;5;241m!=\u001b[39m \u001b[38;5;28mlen\u001b[39m(\u001b[38;5;28mself\u001b[39m\u001b[38;5;241m.\u001b[39mproduct_dict):\n\u001b[0;32m--> 219\u001b[0m     \u001b[38;5;28;01mraise\u001b[39;00m NonsquareTechnosphere((\n\u001b[1;32m    220\u001b[0m         \u001b[38;5;124m\"\u001b[39m\u001b[38;5;124mTechnosphere matrix is not square: \u001b[39m\u001b[38;5;132;01m{}\u001b[39;00m\u001b[38;5;124m activities (columns) and \u001b[39m\u001b[38;5;132;01m{}\u001b[39;00m\u001b[38;5;124m products (rows). \u001b[39m\u001b[38;5;124m\"\u001b[39m\n\u001b[1;32m    221\u001b[0m         \u001b[38;5;124m\"\u001b[39m\u001b[38;5;124mUse LeastSquaresLCA to solve this system, or fix the input \u001b[39m\u001b[38;5;124m\"\u001b[39m\n\u001b[1;32m    222\u001b[0m         \u001b[38;5;124m\"\u001b[39m\u001b[38;5;124mdata\u001b[39m\u001b[38;5;124m\"\u001b[39m)\u001b[38;5;241m.\u001b[39mformat(\u001b[38;5;28mlen\u001b[39m(\u001b[38;5;28mself\u001b[39m\u001b[38;5;241m.\u001b[39mactivity_dict), \u001b[38;5;28mlen\u001b[39m(\u001b[38;5;28mself\u001b[39m\u001b[38;5;241m.\u001b[39mproduct_dict))\n\u001b[1;32m    223\u001b[0m     )\n\u001b[1;32m    224\u001b[0m \u001b[38;5;28;01mif\u001b[39;00m fix_dictionaries:\n\u001b[1;32m    225\u001b[0m     \u001b[38;5;28mself\u001b[39m\u001b[38;5;241m.\u001b[39mfix_dictionaries()\n",
      "\u001b[0;31mNonsquareTechnosphere\u001b[0m: Technosphere matrix is not square: 22006 activities (columns) and 22008 products (rows). Use LeastSquaresLCA to solve this system, or fix the input data"
     ]
    }
   ],
   "source": [
    "lca.lci()"
   ]
  },
  {
   "cell_type": "code",
   "execution_count": 21,
   "id": "397eca99-0cfa-4750-bdbb-1d7b4130b63a",
   "metadata": {},
   "outputs": [],
   "source": [
    "act, prod, bio = lca.reverse_dict()"
   ]
  },
  {
   "cell_type": "code",
   "execution_count": 23,
   "id": "72ed8034-306d-4b00-a0d3-7805983752e1",
   "metadata": {},
   "outputs": [
    {
     "data": {
      "text/plain": [
       "(22008, 22006)"
      ]
     },
     "execution_count": 23,
     "metadata": {},
     "output_type": "execute_result"
    }
   ],
   "source": [
    "lca.technosphere_matrix.shape"
   ]
  },
  {
   "cell_type": "code",
   "execution_count": 26,
   "id": "de06a870-7bde-4083-a4db-37b3105986c4",
   "metadata": {},
   "outputs": [
    {
     "data": {
      "text/plain": [
       "17289"
      ]
     },
     "execution_count": 26,
     "metadata": {},
     "output_type": "execute_result"
    }
   ],
   "source": [
    "lca.product_dict[22008]"
   ]
  },
  {
   "cell_type": "code",
   "execution_count": 27,
   "id": "6ce57e75-9cd8-4d08-8224-51724ffa0082",
   "metadata": {},
   "outputs": [
    {
     "data": {
      "text/plain": [
       "('ESA LCA External 1.2.0f e3.9.1', 'c8a2e79fa5780adbb6fc9b7cb2f3b9f0')"
      ]
     },
     "execution_count": 27,
     "metadata": {},
     "output_type": "execute_result"
    }
   ],
   "source": [
    "bw2data.Database(\"ESA LCA External 1.2.0f e3.9.1\").random().key"
   ]
  },
  {
   "cell_type": "code",
   "execution_count": 28,
   "id": "e1bf6cae-9354-4b02-ab29-3d32a009fa18",
   "metadata": {},
   "outputs": [],
   "source": [
    "acts = [(a[\"name\"], a[\"reference product\"], a[\"location\"]) for a in bw2data.Database(\"ESA LCA External 1.2.0f e3.9.1\")]"
   ]
  },
  {
   "cell_type": "code",
   "execution_count": 31,
   "id": "28916601-9605-4955-a2ce-f95cfac24d74",
   "metadata": {},
   "outputs": [
    {
     "data": {
      "text/plain": [
       "768"
      ]
     },
     "execution_count": 31,
     "metadata": {},
     "output_type": "execute_result"
    }
   ],
   "source": [
    "prods = []\n",
    "for ds in bw2data.Database(\"ESA LCA External 1.2.0f e3.9.1\"):\n",
    "    for e in ds.exchanges():\n",
    "        if e[\"type\"] == \"production\":\n",
    "            prods.append((e[\"name\"], e[\"product\"], e[\"location\"]))\n",
    "len(prods)"
   ]
  },
  {
   "cell_type": "code",
   "execution_count": 32,
   "id": "83ed7be4-a789-440b-b45e-b7550b109a7c",
   "metadata": {},
   "outputs": [
    {
     "data": {
      "text/plain": [
       "[]"
      ]
     },
     "execution_count": 32,
     "metadata": {},
     "output_type": "execute_result"
    }
   ],
   "source": [
    "[x for x in acts if x not in prods]"
   ]
  },
  {
   "cell_type": "code",
   "execution_count": 33,
   "id": "53a4b8b2-9e1e-4b7e-a0a7-ddcfdde3565d",
   "metadata": {},
   "outputs": [
    {
     "data": {
      "text/plain": [
       "[]"
      ]
     },
     "execution_count": 33,
     "metadata": {},
     "output_type": "execute_result"
    }
   ],
   "source": [
    "[x for x in prods if x not in acts]"
   ]
  },
  {
   "cell_type": "code",
   "execution_count": 38,
   "id": "7e6128cf-d9b4-423c-af48-cb1d1db19008",
   "metadata": {},
   "outputs": [
    {
     "name": "stdout",
     "output_type": "stream",
     "text": [
      "768\n",
      "768\n"
     ]
    }
   ],
   "source": [
    "code_a = [a[\"code\"] for a in bw2data.Database(\"ESA LCA External 1.2.0f e3.9.1\")]\n",
    "print(len(code_a))\n",
    "print(len(list(set(code_a))))"
   ]
  },
  {
   "cell_type": "code",
   "execution_count": 39,
   "id": "89cb0742-5b4e-41dd-82a7-80aa2ca3350e",
   "metadata": {},
   "outputs": [
    {
     "name": "stdout",
     "output_type": "stream",
     "text": [
      "768\n",
      "768\n"
     ]
    }
   ],
   "source": [
    "code_p = []\n",
    "for ds in bw2data.Database(\"ESA LCA External 1.2.0f e3.9.1\"):\n",
    "    for e in ds.exchanges():\n",
    "        if e[\"type\"] == \"production\":\n",
    "            code_p.append(e[\"input\"][-1])\n",
    "print(len(code_p))\n",
    "print(len(list(set(code_p))))"
   ]
  },
  {
   "cell_type": "code",
   "execution_count": 40,
   "id": "88ac3934-9ba2-4080-b452-4e0b825ba268",
   "metadata": {},
   "outputs": [
    {
     "data": {
      "text/plain": [
       "[]"
      ]
     },
     "execution_count": 40,
     "metadata": {},
     "output_type": "execute_result"
    }
   ],
   "source": [
    "[x for x in code_a if x not in code_p]"
   ]
  },
  {
   "cell_type": "code",
   "execution_count": 41,
   "id": "f867c60c-4a0e-4408-8ee8-9bceec5d6c07",
   "metadata": {},
   "outputs": [
    {
     "data": {
      "text/plain": [
       "[]"
      ]
     },
     "execution_count": 41,
     "metadata": {},
     "output_type": "execute_result"
    }
   ],
   "source": [
    "[x for x in code_p if x not in code_a]"
   ]
  },
  {
   "cell_type": "code",
   "execution_count": 45,
   "id": "d4a73a76-3d7d-444a-b9e7-35cf477e930c",
   "metadata": {},
   "outputs": [
    {
     "data": {
      "text/plain": [
       "True"
      ]
     },
     "execution_count": 45,
     "metadata": {},
     "output_type": "execute_result"
    }
   ],
   "source": [
    "lca.fix_dictionaries()"
   ]
  },
  {
   "cell_type": "code",
   "execution_count": 47,
   "id": "1ea40dfa-4a20-4416-863b-83392bd0eeac",
   "metadata": {},
   "outputs": [],
   "source": [
    "act, prod, bio = lca.reverse_dict()"
   ]
  },
  {
   "cell_type": "code",
   "execution_count": 51,
   "id": "2c9a420f-ddb8-4387-963e-36229052124e",
   "metadata": {},
   "outputs": [],
   "source": [
    "code_acts = list(act.values())"
   ]
  },
  {
   "cell_type": "code",
   "execution_count": 52,
   "id": "14f148f5-01aa-4f53-a140-a888af4fc2c9",
   "metadata": {},
   "outputs": [
    {
     "name": "stdout",
     "output_type": "stream",
     "text": [
      "('ESA LCA External 1.2.0f e3.9.1', 'fcaf2adc469a2a2b525e68af29a0b8d5')\n",
      "('ESA LCA External 1.2.0f e3.9.1', '3bed37dae7421ef0e122d52a7bf0d64b')\n"
     ]
    }
   ],
   "source": [
    "for k, v in prod.items():\n",
    "    if v not in code_acts:\n",
    "        print(v)"
   ]
  },
  {
   "cell_type": "code",
   "execution_count": 59,
   "id": "bef4fe91-7d7e-4432-9ba0-1ec676addf75",
   "metadata": {},
   "outputs": [],
   "source": [
    "for ds in c.i.data:\n",
    "    if ds[\"code\"] == \"3bed37dae7421ef0e122d52a7bf0d64b\":\n",
    "        print(ds[\"name\"])"
   ]
  },
  {
   "cell_type": "code",
   "execution_count": 61,
   "id": "08d695e8-a080-44fd-a875-8e69de4723d0",
   "metadata": {},
   "outputs": [
    {
     "name": "stdout",
     "output_type": "stream",
     "text": [
      "d067d9db2e60e6e58410da2bff825754\n",
      "52cdfc70bdb717393b98a6f7d142e617\n",
      "32a681241a2a746d2a5e146a6542d3f4\n",
      "52ddfab8525295d6ea6699016588affc\n",
      "32fbc5be8f12d20a4593bfca44da4380\n",
      "f8fbe3fb3acbffcdb5643ea82b480840\n",
      "c352a1226ce7ae5ebe8e0370849c0af8\n",
      "1d196e727734b0e4ccf116652f8dae06\n",
      "0eec3a37ce3fded0cc126f1270833cbe\n",
      "d5c532dee94793be5768bbbf1eff93cd\n",
      "abba572f5185707ac50212dabb615556\n",
      "a3f79a3bae4978b9d25dd2765baee7dc\n",
      "770163335bab312febbd07efb90a01ce\n",
      "be768fe278d55aa712e4a7365a8d359f\n",
      "0117e119f0b087578ffff0e5074badd7\n",
      "cdbb802f781e71e3c3dde9525c5f0bcb\n",
      "62aaa83328c1b2e603821d2c37213bc3\n",
      "2b3a2b7adcaef03a3b17ecfd262049f4\n",
      "1eb15127794b0ee987651419462b13c6\n",
      "701c62d5a2f4eab6059361ab5c351471\n",
      "ee6003ca89113e7acff683f7c9e96994\n",
      "0854a576bdabd84867006ad571210d3d\n",
      "fab5e2f7ad2ab1af5588ddf860b68071\n",
      "0787bdb615d846a80aee50cdecd3608e\n",
      "4635c51f9e8e779112758bdfdab7f8fc\n",
      "d844ed71bec213d2ff0ab7f1793caaeb\n",
      "84776350e2a6f48db412ebdb7728db82\n",
      "906e20dc8d160ec3229304638736e80f\n",
      "08d17a13cc35bc60f4f6d5ee7ed71563\n",
      "328105d05bde1ca457ec26f4251c6a1e\n",
      "544dede3d4827e5bff299544f8d0e0c0\n",
      "64b14717f6551b90b729fc07b2c787b7\n",
      "63eb74aeb382d6c1376fcdaaa84786f8\n",
      "d7ed61ff962cfbc34fd14357eed955cb\n",
      "b10f1da3cd8e48f5afd200ad6f31480f\n",
      "67edad23a6f32f1c8636ca3fdf72a92c\n",
      "1579d018a98c0c883b0b2b8287fe1aad\n",
      "99e33bc085981f018b1f8dfe2a19b3e8\n",
      "7add835f9ecdacbbe7c41a98fe9e9670\n",
      "e569b5d3251532cb6eb53118ea098abb\n",
      "061780548a022c0d25243ed3692494ce\n",
      "95a235f087f4e832bbb7b1b82d283c46\n",
      "ff34eddd9a1d4255fea250b38a910d18\n",
      "bbc81c1cc3d9d7ca878672550e5cbcb2\n",
      "b693e9a688edf6321b76f79a3bbc3ec6\n",
      "180f387b2836fe6f2242d6499650f600\n",
      "c6eab58deee673427850d741b7bb466a\n",
      "05d9bb1bccb30caa92d3c2b62154052c\n",
      "7aae6e97f2e76d96f7ec7be0a4f11c4e\n",
      "f979a5b11dd9721917899ed5c8632ee4\n",
      "46fb02a4470d1f32226646731595f329\n",
      "8519ed27215c797dd1e4abfee52fdaa5\n",
      "c97488f75f841f12b3a58319dfa2ab27\n",
      "a1adbcb9ba9794d97b59ef4dc873028e\n",
      "110883c11fdb074bf1df93c2137a0345\n",
      "fe488abe54029c46534beb9b22ef9366\n",
      "e355a805d8cc6842c63b4a63ba710e13\n",
      "4150f710477819fde7778364ab4abcc4\n",
      "50d52d1b880e6c3f64fe0e2438155d8f\n",
      "c0690cfbfbe7c407e2f636e2aae2cdd5\n",
      "6d8c69a3e28973fa4de579e0fb0c0fe8\n",
      "1d9bc522a4a4bb150963944f7409e9e7\n",
      "049f4e125a824711f52bade7771cbcc0\n",
      "054265c34dde0f98cb49ce43b76fa9ee\n",
      "6796770331b19dbe74acedd027e07a4f\n",
      "c9df3e21d3d10f989afe90887e8d131e\n",
      "cd4ae78f5e55a8403ffd2147fbd531c4\n",
      "afb9d6c9f4f7716dfa954616b4848621\n",
      "6b18ae276e7c3828fbf440a9325709bf\n",
      "05634acbc2ccd75885d4753049b62a56\n",
      "9bfb3d0155eca23b8a4f8087277631da\n",
      "fa15369cb42087a1d6342ea728713090\n",
      "c98f4065c4f4e1b0e04acb6eb46e81cd\n",
      "9408cf09993a0989e7536f18ecbe4db1\n",
      "c7eed391e6096bb22c2609002f9349a8\n",
      "05aba28785bcceed207dea051aa334dd\n",
      "3c281e76f4b4efb896cede56cf44995d\n",
      "55173553c5cacf22b6b8ee77b4eff935\n",
      "9f7036abaa3670953496c042dbd1e75a\n",
      "e86f3cd5c83dd17fc921fe455c16b977\n",
      "01794d2ac5d361b27371add6cfe8b7bd\n",
      "e8232f71034d2fd565aa216ed42fa214\n",
      "cf2db15b2509490666a36251241c02f4\n",
      "5b6611595a3d857cdd8ea80f57d4c8af\n",
      "9cc347d78c52d945c8685f9c1f0b1d90\n",
      "85a918b13abd6ce9fa58c5afecace4b8\n",
      "f2e04ad6f98df7e20165480549dff18e\n",
      "ea088f65826908857203aa1c2edeba91\n",
      "0e73175ddfd72342bcb3272c3f30ff88\n",
      "6ad6fb45c372657e8c4fe339c91ed82e\n",
      "765a9b60b6fa9cfc3ba33fecef33e37c\n",
      "4f7452d770fd2b64fb3b20d0e7e98df8\n",
      "920adfcef51bdc7c4d613ae3f81ca098\n",
      "aaefdc54669d794ea6ddc2df9f1f0381\n",
      "3e2b04500beb4e5707e318d6acb9b91c\n",
      "e860938cd4f5e6ba9817e3053aafb2ba\n",
      "f6a671373bfa7fb3a0bfd9d48b4d781c\n",
      "8e40e67b0724a0b00f89448a90bc3dd7\n",
      "1fc5460fc17737084ffeeff859c8d5c3\n",
      "792b38656203af11e9e6c398b58e94e5\n",
      "fab7b58497289450af55f6564c74b9d1\n",
      "2e4605ce2eae6a0e3680c6eb82260c54\n",
      "f4b37ebe7e416087696f1c63c2213728\n",
      "1f41b4a5b7d36e647c154ea643eec1e6\n",
      "c8a2e79fa5780adbb6fc9b7cb2f3b9f0\n",
      "cc4c076d90e283becb84c33aac97d6e7\n",
      "1b10ab35575cf9e1f73c70dce32dc895\n",
      "3c3c3aac6f7e4a103c98871703c7a880\n",
      "833550cb5caf91261c47938c8025fb40\n",
      "887bf386c44a39d1e4f17ee7ba4d01a1\n",
      "a5d6fdbbbd9bc34785f3057bda15b183\n",
      "ffdbadc2c56b8ce8bae3e5a3c41885ac\n",
      "a3f870a2fb3d414b22a2042c574f93de\n",
      "37e91825f597f54fe9d5791ed60ab4e6\n",
      "0b4f3e68a4fc2dcc802f7a5a6d066147\n",
      "047e965701eb28bc64d44378735d525f\n",
      "0132ce386e1303646036b388037485ee\n",
      "37068631e7484c5617c315c4514c7c85\n",
      "16b63d3136a40bb6e21e0f776cc031e3\n",
      "59efafb1cee6ecc36db82057846aa2b4\n",
      "9d4e6a760c832502fbfb69f09559f63a\n",
      "671e811eb274f60a67a4b5803691b642\n",
      "3b6dc66249c106db5393695a42e6d8dc\n",
      "cad88f29fec8eb0089eeda820105af89\n",
      "673121c5ec7b76af3fc7478ae1c3ef01\n",
      "124e257309fb7a1ae7b171c7222475ac\n",
      "a50a69abbd6f1228c495076ce5af522f\n",
      "edc3c3cb78fc2d41d2e9f1297eb6836d\n",
      "d4f993eb91e4eace87fb976088dbb17c\n",
      "5ab9a645ddbedd19eba0d3e48df5ad07\n",
      "8bebd742393ad560e40961d403eaedd0\n",
      "e58d89ddd217b6e6cf7ef8ee3880dbcb\n",
      "6061a5d8bafad029266dd2aca7b7ba77\n",
      "02681e84cdc230b423b7ab7ad41d38e5\n",
      "57a534dd7da7a2f30b47ea323c5f2723\n",
      "f3678600ac6c861f768e81ab102a3ad7\n",
      "2ed82ecdb1186835419be87f63ce7dbb\n",
      "6549a0fd22d556ba3ef32e7546ecfcd8\n",
      "07beea6be136c7b3ae8139554dd20b6a\n",
      "952ca526f34a6f9182c9da8132987412\n",
      "0ab0850508e5dc03207503d67ae80595\n",
      "46c8ed623cac225d45c801a8ff544dd6\n",
      "1920877e26ded50b4caac98aae276bfa\n",
      "6e9864b80c849d4ba5140fe0b12dfbaf\n",
      "f61ff1d1b3e42efd8686d95062c69d89\n",
      "0ee838ec51d204807587f33b047416a9\n",
      "ddd241559fc261322d5da19a61866c6b\n",
      "c301dfb8c4a31eab0384b636c6fd8d20\n",
      "8d83c264d9447307ef9174b3974f415e\n",
      "75ada895da8c4b75080c08de5a5a765e\n",
      "b21cc46b0f6b615014186a42dc40ab44\n",
      "77b9f17d5037221e189b283539576dba\n",
      "7e679a5e60a86f6f34e81a383e421cc4\n",
      "77577aba928b3cac194b85438bec388f\n",
      "92787c49ab60bb6f56fc538975f8e1d5\n",
      "dbcb41126f170776a6899a90f9ba8a85\n",
      "b496397ebec75b4121b03d0b3a960601\n",
      "78b4f42d209d58f34ac5795bbdacb39e\n",
      "a517458b7cdc5d53493fd74a8f7454f5\n",
      "a1a0faca7a0c54e24101107d03827d4e\n",
      "8d233c1a4cccda18767807e7b6ea3ca4\n",
      "ec34e6e190dd4085c3457959758837f9\n",
      "16de3a129ef9c1411a992ec50b817d8f\n",
      "f216c36c093a0649ae2d6581d2326f8b\n",
      "c1aa9ec5af829422a73f8a8061f4ce3c\n",
      "e53cb0f65b43149b4ab057639ce9e458\n",
      "0b0bb6a53e56eda9b19204f432e32d22\n",
      "1e45f5663282d03c51cf872689e4856d\n",
      "9a9be56ea24de0b80e57831e9816cec7\n",
      "e79ce2124a8f9682bf1f865bb926a2c4\n",
      "e103b329dbaeb34e108bb2b995438abb\n",
      "006a75a4bfef188dca68bd9dc2f6a0e6\n",
      "d7f68dec4a828d53ceb17a3e3a6650bb\n",
      "9554deae326508c00ebe792e30a4bd6e\n",
      "cd9b4cba7e69ec309d1d2e962b099424\n",
      "2880906f9512f7ea5ec0b0dbacd2ce15\n",
      "d7862cbe91becbc158f550b5520692c8\n",
      "b026b46f1ab4e17552f28077d1326f61\n",
      "e66a0677491906ffffbeb156ef0d06f8\n",
      "5f68bd24809c1f919b54ea00f349ecb6\n",
      "d147704a92c9c42905aa5778d84608b0\n",
      "64173783ff468cbff3009666194215a3\n",
      "bfad486f4d5d223fc95058c6fb34c7fc\n",
      "66800570111c7a23eb641b773dc23c05\n",
      "be54fd352dde4c63b140540d27d5560d\n",
      "69570ee814f3a181f40351e64acbc5ee\n",
      "26d03e07c3eecf5d6e37a7f5aed0e2c9\n",
      "549ce0be58f58720ec720e6860f6a771\n",
      "0dd0ed98ce44abcf803bbfcf64d0e3b7\n",
      "e9bf8e296364f73cce51fe84052d2beb\n",
      "46c67354f55e875734fcb1aecf81e6bc\n",
      "f16c71a7a40a19dc0d2cad20f5280332\n",
      "3bc0a46db2944999dc221e45e0707ea3\n",
      "41ac69515de466d48d15928018614ac7\n",
      "3ac4e1506340349c90454a803422039d\n",
      "19b84d10c7ffab6364a41428b76c4936\n",
      "d348dbf2cf79bf5fc4a93778e5c24d17\n",
      "4d934a4e9a2bc33cdc81228079209ef3\n",
      "08d729877d385bc9b71f09d4480c0598\n",
      "4fefe9b653fc852945c510b085c1ff37\n",
      "d3caa37f67060a10da3678ab83217f19\n",
      "dfc1f4cccc6d1070991575c5e3979070\n",
      "c1684db7674c1127b557d73dedc83fe4\n",
      "28ebe6f50a70a4fd2e3963eabf7b17ad\n",
      "198c015fb6119e89833702e03b90de79\n",
      "e16b6ed9ae6d5b87b28f1c64ae2358c0\n",
      "2c0fe706835242583aa711280d0e0522\n",
      "56b68ffca731d1af4aa228ebdf74dc8b\n",
      "67303c0dace629471ee308bc712cb943\n",
      "c5e5b0da0c908215a80017e35417c03a\n",
      "786d2cb7d0f9ea129be0d8e8ebeb73aa\n",
      "deef9a49f5eb498c9e6aca4541ec2bbc\n",
      "28f6ef2ac32f31e234e9a9b3eda76da1\n",
      "f045c913fb97e6fa156946c8765a794e\n",
      "10778f3da933436b29e0ed5413ee2d09\n",
      "85fa5fe62666085486e057fb4a44a495\n",
      "be0211cbf218b89dcb7d153bc387f048\n",
      "b6236710d8e7609a83cee7e415d79f26\n",
      "2c5851b33b0bbd0cbe95e1c9681a1637\n",
      "351e1c37a8fbfb3ef80206769c0c2190\n",
      "260cfdeb590f7135ee20538a0ca5a470\n",
      "ccdaf19d0b0c05f362b1ae4844d2221f\n",
      "efbcf154ff796e31ae1926cefc137db3\n",
      "6953c1c7d113753ff9cbdf9e633c99f8\n",
      "58f8b72170a835d8aa56dbe7d0a7bf57\n",
      "b1f6628cfb4e197afd6043b10b8c98e0\n",
      "924ead55d172d598117b01094fb69979\n",
      "17849483af84cceffa8ba5694479e971\n",
      "c0483c7b357d2ea979ae60119196f33a\n",
      "1aa835c87c1e9a0e801cc9037eced9b6\n",
      "2be9d95b57d4a549f966170092f1e30f\n",
      "fcd5022da5c6d4052d8f6b841ee787aa\n",
      "f0fe80fd1cbe03007cbb71e4970d18df\n",
      "a2987b59bee74020e72527d710b402e7\n",
      "39d751788cea10779c95539ab53d2438\n",
      "6acd9c652cb00fa85a25045f9d44f129\n",
      "e3890adf9c04ca22fcee722a1fb28d89\n",
      "b7c523edaec389cd39789c2f6f1ef772\n",
      "9ab667f0acdcb432dd4f904bf0883f54\n",
      "0083e6daeb162971bd55fff884a3b44c\n",
      "1b11dedbbb732adee71e0bf6aa2a301a\n",
      "851582c798d4d48ed7c39954a6234b57\n",
      "7de4227beefdbf4710f535bc7f383472\n",
      "41aaccc3eb694a9fc0a4f792676dd292\n",
      "407e4134de1bd1e04cfbd527c01f2b73\n",
      "51fa40d3526d6e43dd919e9844a87617\n",
      "aacb338a720e8e401eef1ae7a0cc1b76\n",
      "8e8a00c9a46bdccc57be6b85863140d7\n",
      "fc535be37d9ceb3649bab827d52bb051\n",
      "67838bedbf4310912d80a5178d68f11b\n",
      "6a6626a6f292486a5c014b0b8ed7f5a8\n",
      "ced7ff10c12b6ae8d08ddcece3f5e62a\n",
      "710138f7b95a8eb242fafff162366536\n",
      "ef6df93a6f623b7dec27675bb35ea9c6\n",
      "e50024f384731b8fff731bc0246faa55\n",
      "69e363f3b5f2c9cf8e9781aa1919abc8\n",
      "c21ff09d5f0b0019b4bd18b17ff75f4d\n",
      "605fde634e49e301f589b8d507129b06\n",
      "75cb79663c3a8505fba174b1fb2d2454\n",
      "52c4218ba04835468d8121fb8a0a0184\n",
      "5cdac4cdffafeed5b9e8a457382c6bc6\n",
      "d49d4a8f169a988b057800445cb9d595\n",
      "8194cb523efe70d71e44d8c9106d2da7\n",
      "4679cb86ed54fc925cc97a9eaa3e85c4\n",
      "9d658c60694d74199c7826d83b4d0a4f\n",
      "efaaaf86788771b214e0a70fa2fafd8b\n",
      "ae2cc5b55e913bc3f0d8d69f0f63ac0b\n",
      "39e522970ad64532fc1c53e9364acca0\n",
      "3adbf320cbc3bbd4648716dda00f196c\n",
      "6d07f12d8800d74e0c01e2811923ea1e\n",
      "15e62d7704c47558a3638f10206f4f48\n",
      "51237850ae5137df2c78059b49a1b75d\n",
      "62a0e914b2112e4beaa586264899b18e\n",
      "ae95b4994eba4ce2c87c151ced6640cd\n",
      "8874972591b58c157b8138620f102e91\n",
      "f57ac92073993731280e4b9cfe81fead\n",
      "a3a721382de65cfaf389fa5f5089f6c5\n",
      "bbf1b493609aea9db90ca4643d3aed61\n",
      "dcb955e8fa2fb6dfcbc37590f6ccb1ea\n",
      "55a550d94dfb4b6d857af50909e1f670\n",
      "ec9b231380ae5c1b500d682da8b0b93f\n",
      "05fc0855f81a9e291aa44c39358cfbbb\n",
      "9a081780a1e1e2ac816bac6349e8c8da\n",
      "d8993534274a8f00594421a11e30ff46\n",
      "87d62df074e94f9453cb03d55c2e8a6c\n",
      "e3bcaba17cbd4d8ed67d512d8e6e4be5\n",
      "11aaa5e0f943a8761ae909b6cafe1659\n",
      "f8b2e36c20d109ac919e185097ae2c04\n",
      "674b2949b5e6bdbe2c9b8b0f75ca271d\n",
      "b992b4866aa55e5973e5465044f5eb0c\n",
      "a42e3c55b65716944a2194fb18575dc4\n",
      "e92a9c8c9b254407deeec9ab51b9ef2c\n",
      "f601b81f19bcf2980d431f801cc3cc9f\n",
      "9c603e5a2a71a05b870d088eca176c38\n",
      "0bf0eefb78c8502bce2b48a576746d79\n",
      "1256c49fc5c2b3b357d9bc53bfe722f6\n",
      "b4044c705e289e5470357ec6123ee116\n",
      "75c6d3898128bd4105ae1f1302d24cce\n",
      "1d312d38a0f7dc4b9a6a435809de9f4b\n",
      "ec4b87bb8c63c2a7e91953cf68b9fc78\n",
      "b9ddf98cdf29273392d2f3c394eee323\n",
      "f779d8f9f5a3218bc8fccc5c14dcd7af\n",
      "ee00fa2c94352a587a0480546c996724\n",
      "8872fd312adc0705b7eee500cd2b29bd\n",
      "acddef96402e641afa8b8490becac03a\n",
      "046d7a167cc97fcafc4ef7de75fd68f2\n",
      "2bd6258b624e27b1b455745d2aa0bca9\n",
      "b3cf485fc2d7fdbe6faf87d8ca2d5012\n",
      "eb36e62077c657122131031c12b60a27\n",
      "04272715553aa545e934dfdb6725d6f2\n",
      "77fe90205f94023ac77c56e8b7d11417\n",
      "dd1598310d5c6e9ab03833eb200cfb0e\n",
      "9505d6fba4049f8036f7fcd7cb5aa7ac\n",
      "fd9af8659ea10150443671b5d8b080ed\n",
      "5897e30efb1409e72580469016f990e2\n",
      "5e0ca4ecc7fb9025b5653d2cd0d2a516\n",
      "84961d985ae3f706ab90ef100d1337cf\n",
      "691325bc207fa4909f2d41ac75d56658\n",
      "5d0c2f21912f6596aab7574b465c5d6b\n",
      "6678756a1d2fe5a2d7e8020c92a4ad34\n",
      "b863d051d065cf59769842494ff905ad\n",
      "8251e03a043cd2017389f32d8bd01150\n",
      "a8607d73f4bcd3ae28fdf030e0449af3\n",
      "9398d0c4cde1efe11a8d4b6f20fe4613\n",
      "c5f3b6f622126d0c2f8318f6848c3e9c\n",
      "520aaf21699d1f9c7d0dccedcc66d00e\n",
      "dcfd2a2d8cff80cc66eadc7f2014b62d\n",
      "00903d608c518ae0f2c8ab95bd679d39\n",
      "23cea47b9b1bf06d6c5f9542878a399c\n",
      "93bd406887d3bb82a05e5677676f9ee9\n",
      "d1ef220af4541e7a71d71d54374433d9\n",
      "7a7ee6deda28b0591714565a8ae98fa1\n",
      "303a444d8cd9da040f3d17cbf77639a2\n",
      "254016de62d7eab0dda79a2a04bb80e3\n",
      "844f6e218c9e0dff263e14b0b85d0faa\n",
      "2e8b71613cdac9aa5a5a2c850bc99cff\n",
      "5ea82b56d9890439adbcf8c2730b3d33\n",
      "c0f4370acf1a64654f1dbf307b6b977d\n",
      "7598ee940039933fd1e7d537413bcf7f\n",
      "143b24d588e302cfde2120200cf38929\n",
      "0abde7448f4f363aa09ea011563383ed\n",
      "1f982059e97f9a39cf5e2cbecc8e86e8\n",
      "c855885df18e0a3444d10d74ae75c27b\n",
      "16b747dd022205ff968c1dca4e80a540\n",
      "ee5e2c5ec535b1c193ed2d51a2b72e9c\n",
      "ff1a108c08157dbbe325fc21df0b953f\n",
      "41faff3d6925e96876053e7b412a1361\n",
      "ccccdd7e889200f20ae59483f7f45c56\n",
      "695fee3308558904d25b425e1f6f4754\n",
      "078cc5085d48154f8ecb6da92fd451a6\n",
      "900030419ec7a1bd928b20867f2dfbe1\n",
      "c68f776aca263e592654adc3734a0da8\n",
      "fc1d18090d3d77f7bae92a190ce1c78b\n",
      "020c9e9dbd57bddba59f003ba16b5373\n",
      "cd8a771b5d31e37c1b93450b08e49527\n",
      "345bb361c8a848ae2454b0cd1458a3e2\n",
      "7d8bf6306294191d4e7f2d48f5b46881\n",
      "45381dcb9752967ead88c594444b1497\n",
      "e419ae106499af9f7de4f9d41e5e1b1a\n",
      "d725ef3331162bf7bbc03a456f3c6284\n",
      "775c2ffa41dde37641ff8204a7d2aa8a\n",
      "d45a4c23d40661f0baedb2dd89af6d41\n",
      "4806acb32149ccd2dc26746fb4f1c8b9\n",
      "a2a02e6fc8fe801bba709c8f484e32cc\n",
      "6bb2904b18efdd5d69ccd6dd86e5dcb6\n",
      "ebe5f5f94a941e9044c8cb5559edd3c0\n",
      "2cc46fdd010370118652e85a43251cb0\n",
      "54d596199de7c7209b6342203644cd15\n",
      "25fee1b23e6e0234cf22839f618b517d\n",
      "b1d43d3cc5de8811c955fa89167ee139\n",
      "1852e4c379d88ff1e26bc96f1ee54b23\n",
      "7a1cc213557c4915934eb71185783e49\n",
      "ead2c805863ea8498c50b3514a1d6852\n",
      "8117f51e0753c77c5f6c7f91793dd664\n",
      "49699d543acded54ef315e5e25be1300\n",
      "08a181650ae7daf56dbbbaeb6a7364f7\n",
      "2e47c164935f745d81121f1ce362894a\n",
      "7e8eb7e06f3726fbaf025bc8b56134ae\n",
      "9fb9e9c9fe0888853d7da5a5c06bbfb5\n",
      "66288437744a9af652ff830b6b6c76af\n",
      "c8463bdd1c81530f7db642ae1bcd8902\n",
      "a37d3c70344f4500484d8e345de6bd3e\n",
      "b738bd638c045e6a5701ccd96e243c8e\n",
      "b09788609b2ec4b20c79c525b7bca2ea\n",
      "0720648da240ea446d1ed2430534e954\n",
      "4d720f2605fdc4f2528c785694b7a841\n",
      "b91a2cc7a490ea0239c3719a7f5739d7\n",
      "9f3cbf72f0e6582d174d26ebf88c9dc4\n",
      "d212e5d128f2e950d978553c6ba50bb2\n",
      "07ac12cb3a3f134d86f628c58bdb5521\n",
      "b1226f2815d8e393649e3c993a5d8c1b\n",
      "7e7963bcb357e3a4af9374c019e058b9\n",
      "e6fc0fee5dddc886a679cb24dd98e90d\n",
      "12de8a0daf473710457b85104846ecfa\n",
      "c2247ecbda5cd2d82171b86e1025a0d0\n",
      "ac220b8d33bbfb12ef575ca052b2ad63\n",
      "6fe6296168b2a6e2f9df17f4eef4038a\n",
      "1fb3c33ae9f1fc4d0450fd1a702fe1ac\n",
      "5a7c28eda7b0564c51acb8dd04492b49\n",
      "74b11548101623d27e5b64f9e0d6b738\n",
      "4ee74a8e73502831b9ddf112eb986344\n",
      "77cdeb4834e71757adb454a678ceee5f\n",
      "12ee99bda5a15293eb3b96c338a2aca6\n",
      "912058dd224cde18082bf7bf4d71d64b\n",
      "50f3a6642f4d38f7029649eeacf7c8f4\n",
      "4df6d148247136be5d3713de4df9cb51\n",
      "fa3b1e9c038c4ed7ac345e54bec05125\n",
      "0a6c6608c0b121229a20b4e1a700e194\n",
      "96ee6b503fdb6daf9df3740e65801798\n",
      "46f87de9346a515b9980d07e8ab74793\n",
      "741c7fc7636b66ae163a4d3d95517f81\n",
      "74d61b14d546adf7e1d44d4bc8321227\n",
      "326d695239f71dba89a6b021b238da1e\n",
      "1237823f67bf1bad926b593dc8f263ed\n",
      "b9205af6a9b58c1c86e19a0c5c648831\n",
      "55daa029815ebe27c253ee76d29b778d\n",
      "cd73d54a089298aa6032b6fff60f4e63\n",
      "aa74857c3f696a75342aa26df643d99d\n",
      "83216439c617df3fcf71aec69f99b8fd\n",
      "b63f4c41f36abadfe0380616c95cc4b4\n",
      "3ff1592588de453118d069199f5ce311\n",
      "201c4cb7e195025520f9efb6add61fac\n",
      "a49369414242337dab9cda8788594a59\n",
      "24caf48a91cee070a00bafb04155b4d8\n",
      "a4389574106e633c45fa181d43cf56d7\n",
      "739bbf935af87e2ce3f044a8e7203932\n",
      "acb0762059dee2ce24efa20a2db2340b\n",
      "1b9df273c38da24a3d3dc8f27172d8c6\n",
      "bee657915fe41bf82d2387af8edfab3a\n",
      "096a57a16a8003388f2a16d98392ac2a\n",
      "257033b163d621e53ddb58577ea180f0\n",
      "f7576fc7dec2619f4a15d617a1388795\n",
      "618975778ffe034b37b86c112b87a7e2\n",
      "6b92bb9e61a855051454342fbf13b2af\n",
      "9a7eb332d035032998d2ea20548cba24\n",
      "62a7920241e290b84c8664d758aca6c7\n",
      "d9b47b3512b23f4bccc5fa02b3142783\n",
      "4b78c92a8093a0633f654504e76605b4\n",
      "06f5dbc6b5d7b28d9397f802906b7fa0\n",
      "678a5f4758800fa17700661ab1d238a9\n",
      "af7a5e5f9687ef6a2bee5d4db0fc7b4b\n",
      "3b6433f93496001826731811528f3412\n",
      "64a59bf360a6a6a50a77a0ace6f37bcb\n",
      "12d30d72a1a3bb3423c21a004cb02e4d\n",
      "be9db6903a34e6dc3b4578dd50c636a1\n",
      "627b879256f897338d880d779082be95\n",
      "3e170ffbb0b206542b9366550f073f0e\n",
      "49f149e389e54115eedf2b9ee50f05f1\n",
      "ca581fd13ba25a008c066efc21b2ba84\n",
      "24816f40f45c02b0091fa0d63a39dd45\n",
      "c993581794435cb0af19b5081ac5891f\n",
      "4135c8ef6c01523f67694e8b14702523\n",
      "99d1504977b308c8b7e37b4d58e3d308\n",
      "1fa2a586c68a39c0214c02dcbbd81038\n",
      "ac000d184adb60e6a11765b99da1b408\n",
      "d6ae38b4a8f326df3ff6e92c625b13a5\n",
      "b57122a1f9379c3dc453deb915e8ba2a\n",
      "ce795838d9e2b41f7817b83a7450079d\n",
      "a1936ec090aa24f82c45a030767946e3\n",
      "14504ba1b19ab9076f565a972099e34a\n",
      "2ad43df790bcb6d08ba23788a1d08fa4\n",
      "e643e6ca60a6f401884bdb718d64a9fa\n",
      "63929afef090abafab32d7ade92876c6\n",
      "26227ca34f78d5f327ea75ea2538a456\n",
      "d8ef4a965f4cf98be5621fc316d3bd61\n",
      "6145ea430fb329cd2977cb33a4cca3b2\n",
      "9402bef43a8c9df161c408f266114c40\n",
      "ef214985bcdb1e4dd109591970e78385\n",
      "b959f1eebf803414e52fd2bfb5d5f89b\n",
      "c878804854308bb3591dfc079bbb85ca\n",
      "eb17cf6fe06a1f28f63fdeb702329d93\n",
      "9468800538a3c918fc5a789f0682646f\n",
      "ab6be930a2a11a76847f56872eee9a09\n",
      "c3607d1756bf37036fab8735316d23fd\n",
      "c206ed533705ba03605cb78c404d91c1\n",
      "ef27e4b3fa463d975a38ae63968d2227\n",
      "7f1aa5d45ad62e733ae799275f82b500\n",
      "6f17e864a9d985bae9d675e577ee66c5\n",
      "aabac1861a67504ced644a213ef8edaa\n",
      "c2c3ac664a7a3178f7b68f7c80056d5b\n",
      "ee97909bdf50c75516996368d073489b\n",
      "cea213dbc49a325be2712c9b4175ee04\n",
      "659e57e5b5704cb4fe48bdcf1ae98c2b\n",
      "ff9131159ccfa5004f26d333cd0ce5d4\n",
      "58d216d6059aa2f25abcfa8edf0daf5b\n",
      "589055f1ed8055bd94364df53c6a7833\n",
      "9d5e92e5693ed920fd46946257851947\n",
      "06a7353ba1d74c5b0ee3e6e1f6652581\n",
      "c633e40933543b912141b22e981a40bc\n",
      "454ae879c165d85aa7290f3c87fcbb98\n",
      "f4d47388f1d070197fea2b343fe51cce\n",
      "9eb1ae688b8f56fa7e34e304ddc2eba3\n",
      "c9ec6e8926587c460b10d6b333a53291\n",
      "d1f5c9462de7c1d06c03961474349de0\n",
      "e1fcbb74d8dee560ec8fac9215e20435\n",
      "2d881e8ff224dea15c3d42cce13168a7\n",
      "b754ee7de19b5e6d83d3ee504b451468\n",
      "0c9c06fa13131ec966e409cad7a6f693\n",
      "3e75b568115cab864ef20525e4aeaaae\n",
      "b1dfab715d51bdf0f34fd2dc8f36898d\n",
      "499509b7ceb1061ccb35c709391c84e7\n",
      "8cc6b9182a414214aabee8ea5f82c42d\n",
      "46fe66f7058aa094c2c351b91734fff3\n",
      "7fd3e20ff97e1e644d5f6e759a98b3aa\n",
      "b0145a82935ee35a9d31be865ce7c925\n",
      "13ee3085c7e135349941aa1a15a1b912\n",
      "4f2f1da019744a90516007daef8def64\n",
      "d3857fcac23469d88db47c98c28bb8b1\n",
      "6880c6670405852a11fe64cad6f4598c\n",
      "340e79bb38d6e3b1de147f4ed4f3199f\n",
      "7e26fa2a1999330ecb347ba3981b1d98\n",
      "e897519897064c9ac3463f898c914b0a\n",
      "fb05984e781ddc5849fbef5b48514340\n",
      "016e2939b978c298fce083237b47f85f\n",
      "98166b35b97e2fb311188db7370e669c\n",
      "b14480300bfe7adadc39d5f3f31bc8f3\n",
      "c911885e1af64cade1224571f6d1007a\n",
      "2d9d84c1635e3a510eabc4663673820a\n",
      "cb715ffaa473c6ca1fb922ef08ee985c\n",
      "30426cf7e43e2f562e55b27f5617867d\n",
      "e7608094a931e4e8fae35c903759785e\n",
      "04988231d75aba6e183bc41a4e11fd15\n",
      "2192c6792ef3c6d877850882bfae16cd\n",
      "06face056ce0e9e7bf8b0b25f5563d4c\n",
      "7fa42efd21b4092d403d5407427717bd\n",
      "af5958bcb328bba4667ef21aed49ded8\n",
      "b20ad425f3e06d4b2a3186e0ff16b569\n",
      "17bb4a41ad53012bdd0e86d46fef77c4\n",
      "2678a08d508e3414398e96fecf0232c9\n",
      "573f2338abf9dda039dbf3745469bb27\n",
      "6e31fd6c9dbed18d6920a1372be7ceb7\n",
      "76fadf8a55f7ec8d5c6b5cbd9656fd93\n",
      "5411da5daef7be44d0e96d267ddc88cd\n",
      "3b8c548a9b44545b6e76c755575cd9de\n",
      "c3d2adc6221145dec79ca3a9aab031f9\n",
      "52c62c4d321a6e4d478c0aafe593fec6\n",
      "a3a251fa88cbc03f29cd3be4d000bc12\n",
      "a5c5f92931dd4611225e9809fbd9c0f3\n",
      "150a909367dc599164c0871a2566e3bc\n",
      "4bfe94f92fdd3a2b8f0b9393255a817d\n",
      "d442a918e62ed6e7f8688c8b678f7d0c\n",
      "4202a589b71f484442cee615baf36083\n",
      "9fd69ee0d1b57865979c6e44f1780bf0\n",
      "e5e5218b7fcb7cd56cf5b21d3b3b1104\n",
      "06ca3f475f92b1e82e6f70fa06a4d73f\n",
      "bf8a3755535d527041482cc9a4b8bc47\n",
      "a69e04e3f2d895130305450eb5c0a4dd\n",
      "f53ea190c1486d38bad5b68967605968\n",
      "e2730f910c0bfb73a7f277c7240402bb\n",
      "db3ab0ff4ca55072c33f4cb105485a49\n",
      "ac7e9f5acd25ff082df99b0f78f21769\n",
      "16e0e75cf281b1e0768b7957c08f11cd\n",
      "30aee897597bc3d3ecba05d584b45666\n",
      "e13e8c416a754d08e1091091442b0190\n",
      "c15ae194296e2e0598a75fc5c88d8ff3\n",
      "34defbcf2e3f9094342ce91e474fd23c\n",
      "79364e3850b7faffcef41b2ae2bda163\n",
      "ddd3c2b9157daa8be742337bb785b800\n",
      "900323c0cc437efa138813e6bd095dbf\n",
      "95d7b8e21ae411b4cf714fd1cc7a0cf8\n",
      "6a6df425d57f45b5878d6269b3f73b2c\n",
      "e76671f9cac74ca88d83fb3193743bfe\n",
      "4b01740f4925123facdb589ab8d5870d\n",
      "c6ddee2528a71fb55a366b295ecef014\n",
      "bb75de7455bbf29c4633bce785402697\n",
      "57b3f326bd5eb5620a4eec6b2912f7e5\n",
      "657ab23238991a1e4a609ae288ab98f6\n",
      "22e0cedddce523dbc26d5ebebda2ec0c\n",
      "df2e84609f623b870a1c7fcb6594b8a4\n",
      "fad3431b6430b2764d53080a93c1b132\n",
      "fb15db81274a5ac76826ea17e7a94595\n",
      "92def676e119d63ef56130258843a5d0\n",
      "32e8d7560439174c3e9eed414a689471\n",
      "356ae248bbb17cc08ee465a5ad23eb38\n",
      "f9ddb878e6fe427fa97bc8cf340dbf8c\n",
      "121f700656e6f1ffbaba157cd1fa1e25\n",
      "b84a283485ef3db6eda1ffa025ac1ee0\n",
      "b8e11d66eace9923024a43edd595f438\n",
      "2f38caf1cea502d730ec8569ae001534\n",
      "d19a441b7be7b08b0e827dc0f3369c8e\n",
      "d95e7e5835490522feab1cb473e548fd\n",
      "eb9cc01dac27d6855f3c2930948bce92\n",
      "3b68cf85cd1f6ffc2babf1e96d2200d1\n",
      "4e641cb7324a6199c0ca1ef0b8c3cdf1\n",
      "3297d2c34e10a7c6e647033ba088887d\n",
      "5719f73f70981a7751d3500cd1fee9cc\n",
      "2597bb2e9eee927e8683b465f7d9e184\n",
      "ef6ecfade1eeabf5c594cfc21d4f17e3\n",
      "90103850aa3d681bf3cb16eb70c94260\n",
      "7abcc587721453ef30dd7691df910895\n",
      "62340bd42bdc655e34fff38a39756a9e\n",
      "68dc0db44da17ffb71f384a6b496b5ee\n",
      "a355a86aead0c82b88357a0cca5e6eb2\n",
      "ba0ace769428b59ceaac5ad205f8044a\n",
      "e730ae5aadbedc53559cf85ce4a7bd02\n",
      "8afa625ba0f1ddf8aa65b4fc08097775\n",
      "280ff5a1e0af814dd6a643b15ec907fc\n",
      "dbfe27c2c85384b233fb354516193695\n",
      "a2067be432ad4b98ba3c13c3881c0edb\n",
      "dae149b21962cab8dff96636275a9943\n",
      "0aae27b7de2ef2a83cecafc0e03bd6d5\n",
      "55cf14d2c42296dfdcc34eefd9425c5a\n",
      "21a5d2e5cf8834826302d2321cfa0247\n",
      "02742e362d6dd3c9b147562c422219fc\n",
      "b963b951fa3f2e9d1a681221756bfdab\n",
      "83897f8560a361c001212e8fdda3d2de\n",
      "0212b560d9dcd9f8973226698adfb5f8\n",
      "f84e30b8b5e1985dee79b0007d1dfdc4\n",
      "b2ec206961612b291e4e778c32e72146\n",
      "de89ba9f59f91b5932a93f5cfe709df0\n",
      "ed949c35fec2107d616fa3c2df93e1a9\n",
      "807984e4d146b64e154df544c11b274c\n",
      "341df09b6bf2f73d87a3a9b40080b215\n",
      "937e16945f59311052f4da2dbd9e1fc0\n",
      "674f1858656cce78861b75a4321a261e\n",
      "f887cda9d9f9f476dfeb5883e7e2864a\n",
      "a685e8b73de3b7297d4c329df49c1a82\n",
      "3f60a8860373a93affa744816bb1ff33\n",
      "039b5e52edce18b877f92535b5fb4e0c\n",
      "c28d4d9f0dacebaf4c426eb1c04e400d\n",
      "f170eb6c8e29b6f327c7fbb9b5ff2478\n",
      "38ccdf770e23fbbd2c555edda88691e4\n",
      "bafe4944976d80fb9321cff2352413f4\n",
      "03adb5b15c4a6194788ebe0a0076b851\n",
      "405eefa5e456cf08033553cb9a042add\n",
      "f8c28ec5a4e48a65a8a83b5cb708f514\n",
      "17a825336043fd29a64c39955a243a2e\n",
      "41749970792f4fc4131dd742c35d12ce\n",
      "fa84c83baa784f0ecd5dc4a03f5d94ba\n",
      "9f2f7a695f6accac0c67131cb3c83ed0\n",
      "517255092eec5bc03839287d091b1464\n",
      "7fbcfa450f9be838a0ee589d8a764b2d\n",
      "522579b5c56304733b436c13e9091fe5\n",
      "106500c95ba75a66da75076abcf5100d\n",
      "7ed78d5edbf497a65bac27771d63080d\n",
      "2c462a72a8580f5649ce2e190f3b1af9\n",
      "246e9c50cabdc6ae836ccdc6ba936b62\n",
      "9a1bf323d173651a4ad6421b8cfb94b2\n",
      "86c1be06234579600bdffb9ad5eee186\n",
      "559709941f7ad768fd8be7778713ddb7\n",
      "b5b9b794b81b1f347edc2dcc8701e025\n",
      "2ecaa73e1a45326e575de9077da032c7\n",
      "02c575b4ce6d6e38b178aeb6d4e3bed0\n",
      "e1783d2decab6da42347b30f060e6d8c\n",
      "f352ad1e832f864de2e77e5ff08faf4a\n",
      "9b956a2cb465a3a74a1ccfbcbda9d140\n",
      "d0ea9d585c6df5ba81b64f1c80855309\n",
      "0dfdb06d0caa49abf9594e8a1c487f40\n",
      "940c43f7b27a219124d528461b57d8f0\n",
      "d34999874d50da1f55be56dfddb27d21\n",
      "7776cbd96f75d674db624069a73762e3\n",
      "ff7b72655cc8fc46d8e0016518b7e7d7\n",
      "edf799a994efa4473df31be108458efb\n",
      "a8c66d99a10dc302ff47e079c4c119f6\n",
      "e72fe8ff9b5b5f68c9925220e3935d02\n",
      "d91a51f013f8599fc02a729197380779\n",
      "777a8ac8b7d24f9cff48f070077a7d58\n",
      "5009e10fb460cf559c069c60d9556741\n",
      "fbf36107f1a4fe5da29beaa37652834d\n",
      "d9b16eacedbe5f96f80537e72093f21c\n",
      "8be7e6b38e21aa608744eb9e42531a4f\n",
      "c386f86b9eb9e18c48c6dd9715a37cbd\n",
      "229fdc85d2734fa375137237a8321f07\n",
      "65b305606fcf60e6869efa421d7d99d1\n",
      "69fb472527e3f22d00e50bfc283c36a8\n",
      "15e12493156db540be336ae78336052d\n",
      "e964436a5d6e5cc4854627e1ea582a5a\n",
      "9cb8a84fa4682572716ed074ea4d3ab2\n",
      "480da9c95e648f22e334a9681ae406de\n",
      "305776d2e13ab04c5fd9b62b70607df1\n",
      "35100ebfca8c6bcad426004af7fb8279\n",
      "f61373485c5c42716071a14e931e0adb\n",
      "b8dcceaa9a662dbae22bb9758d490c7c\n",
      "a6257d77af3a43c061639f05a4a21442\n",
      "4d7f82e9b84fef7147628e375e08b8dc\n",
      "a28f4a05523952e108348e81e54a8d4e\n",
      "6492d67fbe7825cd12da2ca8d24be63c\n",
      "3e84b66378163d31e4e6c14128fd06b0\n",
      "71b1c6e6c61795e07b230bb0d6711dbc\n",
      "20a868b970b5b8c09dd4ca32827daf27\n",
      "df6fe6ee17d6a60cb41c92cfe53d5e63\n",
      "f97a7bb8a2d64665846e41bd32261a07\n",
      "eefd5db53f4a8f9c0b00681ab4c92a9f\n",
      "820589859cf064f3e4dc0e77200ba06e\n",
      "28a26877656a5a405d8bb8c73bbf12b5\n",
      "7f094b2f0ee985d3283527ffbca2e64e\n",
      "c7c3e8a8ec7cd2e59b17bfa48f33121a\n",
      "accc7a8bf58d400799ecdd2cfc22691b\n",
      "f690621e2b23097213f626012274d287\n",
      "5cca2a660e92ba5cd7d154c5abf47bb0\n",
      "3bc7b3cf3305a2454f86593b08ebd7c5\n",
      "f40c361bd6d222ccd8d7709f3826fb64\n",
      "496f17cef771ace5f557f674882f634d\n",
      "5604395e402f8ed9441c379f77b5d628\n",
      "142e7388aaded412771c95bfcaa986c4\n",
      "bcb2eaf5c0f7f869875d41807ff529b9\n",
      "1eb4f2736df652184cc9ef2cccf15550\n",
      "5ee03938ac3fdefd794a7edcfdcfeb27\n",
      "e251d393398dfe01721620008b877c1f\n",
      "f1f6fe357efa91b627b587ead124f1fa\n",
      "4d104d1eba9dceff9fda8c1b432cb08b\n",
      "73e179abe7151b0a51d118a42dceea10\n",
      "b82ce99f0b514c999348284893502746\n",
      "28ed151571973620eb2cffcc0bebc96d\n",
      "2f9e54e68ac0bf8c1d13d62936404e0d\n",
      "679b168ea3797a46fd888b951ea9cd4a\n",
      "7d9ca47033f609f1241643d5966deb47\n",
      "8bd9ca994a2fdeb828eea9fc5a6d4bbf\n",
      "d1aa8a34b4d1d1ab418f8df0369e587e\n",
      "cb88e91a8b5460bc3bbfa8512cc3902d\n",
      "0c8fc51289a04e6e7b6a8f6fa0257d52\n",
      "7ace60092876ecb98133aca97c9f7d74\n",
      "71fc9ff1cd01437be0c5cefb9e4521ef\n",
      "0311b8f1a260e189357fc105453f5878\n",
      "63c4d42fe40223adef8974ef16e2bbbe\n",
      "2a4ed6ee2fa3ce9547af12fe6b09bdf9\n",
      "8f7cc918e7cddfdb566e66ad40003dd5\n",
      "0821bceb1c2d165c88065f12356be8c4\n",
      "c173220c379d0cc9c53e59d4159d8cd8\n",
      "9aefe423fcc24502165ae3090b56964a\n",
      "33b5c8da83e9d8b17df64771c01299a5\n",
      "07d932f6868adbf4116b33650a4c0c97\n",
      "074ff3baa70c7a981b6704118c1566c1\n",
      "14ed0dc80b8ddff9bbd73a2d863e0152\n",
      "296b7d876b4ca21719c792c50086547c\n",
      "25192eb165835d0d646e77452210b94e\n",
      "4bf3764cc7afa2a3d978cef553b17ec0\n",
      "d1fd49390ab6d0e18fea50c8d8384dac\n",
      "2209709045596d14fd2143e8b81d749b\n",
      "bc23a1c8335faf532dd7ecdf3428ad2b\n",
      "cc77741a3526c4c663faf8b016500f71\n",
      "c41d0f00bcea05b66184091d4bc82579\n",
      "c276cc0408a542b60fa0db52a0a5212d\n",
      "bacab25535ea049d71cfd152bb29dd95\n",
      "de4a22491e2e00476b77436e4bfc2771\n",
      "0672497c16413defb77bad59280febb5\n",
      "26c92526827aa935871077d2c692e6a1\n",
      "ea4f4894623c78e38cf311db7b42d42f\n",
      "56ff82b2387c30de69ad55a0b35e178b\n",
      "4ed3e6fec74288a6f7ad402e7e8760ee\n",
      "9130b435d02ace8eabde81cd44ad558e\n",
      "20800143a50cc24e82d1093dfe054c42\n",
      "2c5821bf05a2b9a8f67b566428406579\n",
      "ae9484e863fc549df77f8544c595bb32\n",
      "84e90c9090fb3fd0ac56cbeb476ded64\n",
      "02eb71362e69bbd79db8d337c882d3f7\n",
      "85cc65c9289f70eb43409e55da265912\n",
      "8910901f953814cf273ffe7dad301ded\n",
      "c262f5c766b4b9636ba06a6023760e92\n",
      "1f71ff7979e093aa30d32cdf886fbfcb\n",
      "088d56988ef9064b6250e8bd756b978b\n",
      "4b6e017993a54a65ff93caa7ef49edcd\n",
      "3369e3d1c4b6ce666e6cd9013e6ba671\n",
      "56e49b1ab1a875ed036db65942f7d547\n",
      "7314b46b300cee9b492d0f45ea534292\n",
      "fd6fd0bec3fd27b2082cba0f02eefabf\n",
      "1307938f42b83f34e4acb1209d1c86e0\n",
      "460aad2e7131f91c472fe9290b9c0c97\n",
      "c9da3459d11123982d071de2acc95fc9\n",
      "27cbf83be371f4ed4d1bd533d8510332\n",
      "1c562eb370f6ed34dd6eae48a1447a0a\n",
      "d6fdf360431584343585a8492d180ee8\n",
      "8a2b6ec8e8ad2d8aaa25091388d3b6b2\n",
      "e754b038bdf9f1cc83f8f38fcfe84a99\n",
      "cc8e3f7d13fbb43c9b49c8038d7cbb50\n",
      "410d6cb77bfa674aa8bb1431fcd32562\n",
      "c99d348e3f0a9ea3a909eb8291da7ded\n",
      "3786a472ca75258f73c5cb932348f0a1\n"
     ]
    }
   ],
   "source": [
    "for ds in bw2data.Database(\"ESA LCA External 1.2.0f e3.9.1\"):\n",
    "    if ds[\"code\"] == \"3bed37dae7421ef0e122d52a7bf0d64b\":\n",
    "        print(ds[\"name\"])"
   ]
  },
  {
   "cell_type": "code",
   "execution_count": 57,
   "id": "6a1af85a-25f7-4345-8cb3-5980d1167647",
   "metadata": {},
   "outputs": [
    {
     "ename": "ActivityDatasetDoesNotExist",
     "evalue": "<Model: ActivityDataset> instance matching query does not exist:\nSQL: SELECT \"t1\".\"id\", \"t1\".\"data\", \"t1\".\"code\", \"t1\".\"database\", \"t1\".\"location\", \"t1\".\"name\", \"t1\".\"product\", \"t1\".\"type\" FROM \"activitydataset\" AS \"t1\" WHERE ((\"t1\".\"database\" = ?) AND (\"t1\".\"code\" = ?)) ORDER BY Random() LIMIT ? OFFSET ?\nParams: ['ESA LCA External 1.2.0f e3.9.1', '3bed37dae7421ef0e122d52a7bf0d64b', 1, 0]",
     "output_type": "error",
     "traceback": [
      "\u001b[0;31m---------------------------------------------------------------------------\u001b[0m",
      "\u001b[0;31mIndexError\u001b[0m                                Traceback (most recent call last)",
      "File \u001b[0;32m/opt/homebrew/Caskroom/miniforge/base/envs/brightpath/lib/python3.11/site-packages/peewee.py:7270\u001b[0m, in \u001b[0;36mBaseModelSelect.get\u001b[0;34m(self, database)\u001b[0m\n\u001b[1;32m   7269\u001b[0m \u001b[38;5;28;01mtry\u001b[39;00m:\n\u001b[0;32m-> 7270\u001b[0m     \u001b[38;5;28;01mreturn\u001b[39;00m \u001b[43mclone\u001b[49m\u001b[38;5;241;43m.\u001b[39;49m\u001b[43mexecute\u001b[49m\u001b[43m(\u001b[49m\u001b[43mdatabase\u001b[49m\u001b[43m)\u001b[49m\u001b[43m[\u001b[49m\u001b[38;5;241;43m0\u001b[39;49m\u001b[43m]\u001b[49m\n\u001b[1;32m   7271\u001b[0m \u001b[38;5;28;01mexcept\u001b[39;00m \u001b[38;5;167;01mIndexError\u001b[39;00m:\n",
      "File \u001b[0;32m/opt/homebrew/Caskroom/miniforge/base/envs/brightpath/lib/python3.11/site-packages/peewee.py:4570\u001b[0m, in \u001b[0;36mCursorWrapper.__getitem__\u001b[0;34m(self, item)\u001b[0m\n\u001b[1;32m   4569\u001b[0m     \u001b[38;5;28mself\u001b[39m\u001b[38;5;241m.\u001b[39mfill_cache(item \u001b[38;5;28;01mif\u001b[39;00m item \u001b[38;5;241m>\u001b[39m \u001b[38;5;241m0\u001b[39m \u001b[38;5;28;01melse\u001b[39;00m \u001b[38;5;241m0\u001b[39m)\n\u001b[0;32m-> 4570\u001b[0m     \u001b[38;5;28;01mreturn\u001b[39;00m \u001b[38;5;28;43mself\u001b[39;49m\u001b[38;5;241;43m.\u001b[39;49m\u001b[43mrow_cache\u001b[49m\u001b[43m[\u001b[49m\u001b[43mitem\u001b[49m\u001b[43m]\u001b[49m\n\u001b[1;32m   4571\u001b[0m \u001b[38;5;28;01melse\u001b[39;00m:\n",
      "\u001b[0;31mIndexError\u001b[0m: list index out of range",
      "\nDuring handling of the above exception, another exception occurred:\n",
      "\u001b[0;31mActivityDatasetDoesNotExist\u001b[0m               Traceback (most recent call last)",
      "Cell \u001b[0;32mIn[57], line 1\u001b[0m\n\u001b[0;32m----> 1\u001b[0m \u001b[43mbw2data\u001b[49m\u001b[38;5;241;43m.\u001b[39;49m\u001b[43mget_activity\u001b[49m\u001b[43m(\u001b[49m\u001b[43m(\u001b[49m\u001b[38;5;124;43m'\u001b[39;49m\u001b[38;5;124;43mESA LCA External 1.2.0f e3.9.1\u001b[39;49m\u001b[38;5;124;43m'\u001b[39;49m\u001b[43m,\u001b[49m\u001b[43m \u001b[49m\u001b[38;5;124;43m'\u001b[39;49m\u001b[38;5;124;43m3bed37dae7421ef0e122d52a7bf0d64b\u001b[39;49m\u001b[38;5;124;43m'\u001b[39;49m\u001b[43m)\u001b[49m\u001b[43m)\u001b[49m\n",
      "File \u001b[0;32m/opt/homebrew/Caskroom/miniforge/base/envs/brightpath/lib/python3.11/site-packages/bw2data/utils.py:335\u001b[0m, in \u001b[0;36mget_activity\u001b[0;34m(key)\u001b[0m\n\u001b[1;32m    333\u001b[0m \u001b[38;5;28;01mfrom\u001b[39;00m \u001b[38;5;21;01m.\u001b[39;00m\u001b[38;5;21;01mdatabase\u001b[39;00m \u001b[38;5;28;01mimport\u001b[39;00m Database\n\u001b[1;32m    334\u001b[0m \u001b[38;5;28;01mtry\u001b[39;00m:\n\u001b[0;32m--> 335\u001b[0m     \u001b[38;5;28;01mreturn\u001b[39;00m \u001b[43mDatabase\u001b[49m\u001b[43m(\u001b[49m\u001b[43mkey\u001b[49m\u001b[43m[\u001b[49m\u001b[38;5;241;43m0\u001b[39;49m\u001b[43m]\u001b[49m\u001b[43m)\u001b[49m\u001b[38;5;241;43m.\u001b[39;49m\u001b[43mget\u001b[49m\u001b[43m(\u001b[49m\u001b[43mkey\u001b[49m\u001b[43m[\u001b[49m\u001b[38;5;241;43m1\u001b[39;49m\u001b[43m]\u001b[49m\u001b[43m)\u001b[49m\n\u001b[1;32m    336\u001b[0m \u001b[38;5;28;01mexcept\u001b[39;00m \u001b[38;5;167;01mTypeError\u001b[39;00m:\n\u001b[1;32m    337\u001b[0m     \u001b[38;5;28;01mraise\u001b[39;00m UnknownObject(\u001b[38;5;124m\"\u001b[39m\u001b[38;5;124mKey \u001b[39m\u001b[38;5;132;01m{}\u001b[39;00m\u001b[38;5;124m cannot be understood as an activity\u001b[39m\u001b[38;5;124m\"\u001b[39m\n\u001b[1;32m    338\u001b[0m                         \u001b[38;5;124m\"\u001b[39m\u001b[38;5;124m or `(database, code)` tuple.\u001b[39m\u001b[38;5;124m\"\u001b[39m)\n",
      "File \u001b[0;32m/opt/homebrew/Caskroom/miniforge/base/envs/brightpath/lib/python3.11/site-packages/bw2data/backends/peewee/database.py:133\u001b[0m, in \u001b[0;36mSQLiteBackend.get\u001b[0;34m(self, code)\u001b[0m\n\u001b[1;32m    130\u001b[0m \u001b[38;5;28;01mdef\u001b[39;00m \u001b[38;5;21mget\u001b[39m(\u001b[38;5;28mself\u001b[39m, code):\n\u001b[1;32m    131\u001b[0m     \u001b[38;5;28;01mreturn\u001b[39;00m Activity(\n\u001b[1;32m    132\u001b[0m         \u001b[38;5;28;43mself\u001b[39;49m\u001b[38;5;241;43m.\u001b[39;49m\u001b[43m_get_queryset\u001b[49m\u001b[43m(\u001b[49m\u001b[43mfilters\u001b[49m\u001b[38;5;241;43m=\u001b[39;49m\u001b[38;5;28;43;01mFalse\u001b[39;49;00m\u001b[43m)\u001b[49m\u001b[38;5;241;43m.\u001b[39;49m\u001b[43mwhere\u001b[49m\u001b[43m(\u001b[49m\n\u001b[0;32m--> 133\u001b[0m \u001b[43m            \u001b[49m\u001b[43mActivityDataset\u001b[49m\u001b[38;5;241;43m.\u001b[39;49m\u001b[43mcode\u001b[49m\u001b[43m \u001b[49m\u001b[38;5;241;43m==\u001b[39;49m\u001b[43m \u001b[49m\u001b[43mcode\u001b[49m\u001b[43m)\u001b[49m\u001b[38;5;241;43m.\u001b[39;49m\u001b[43mget\u001b[49m\u001b[43m(\u001b[49m\u001b[43m)\u001b[49m\n\u001b[1;32m    134\u001b[0m     )\n",
      "File \u001b[0;32m/opt/homebrew/Caskroom/miniforge/base/envs/brightpath/lib/python3.11/site-packages/peewee.py:7273\u001b[0m, in \u001b[0;36mBaseModelSelect.get\u001b[0;34m(self, database)\u001b[0m\n\u001b[1;32m   7271\u001b[0m \u001b[38;5;28;01mexcept\u001b[39;00m \u001b[38;5;167;01mIndexError\u001b[39;00m:\n\u001b[1;32m   7272\u001b[0m     sql, params \u001b[38;5;241m=\u001b[39m clone\u001b[38;5;241m.\u001b[39msql()\n\u001b[0;32m-> 7273\u001b[0m     \u001b[38;5;28;01mraise\u001b[39;00m \u001b[38;5;28mself\u001b[39m\u001b[38;5;241m.\u001b[39mmodel\u001b[38;5;241m.\u001b[39mDoesNotExist(\u001b[38;5;124m'\u001b[39m\u001b[38;5;132;01m%s\u001b[39;00m\u001b[38;5;124m instance matching query does \u001b[39m\u001b[38;5;124m'\u001b[39m\n\u001b[1;32m   7274\u001b[0m                                   \u001b[38;5;124m'\u001b[39m\u001b[38;5;124mnot exist:\u001b[39m\u001b[38;5;130;01m\\n\u001b[39;00m\u001b[38;5;124mSQL: \u001b[39m\u001b[38;5;132;01m%s\u001b[39;00m\u001b[38;5;130;01m\\n\u001b[39;00m\u001b[38;5;124mParams: \u001b[39m\u001b[38;5;132;01m%s\u001b[39;00m\u001b[38;5;124m'\u001b[39m \u001b[38;5;241m%\u001b[39m\n\u001b[1;32m   7275\u001b[0m                                   (clone\u001b[38;5;241m.\u001b[39mmodel, sql, params))\n",
      "\u001b[0;31mActivityDatasetDoesNotExist\u001b[0m: <Model: ActivityDataset> instance matching query does not exist:\nSQL: SELECT \"t1\".\"id\", \"t1\".\"data\", \"t1\".\"code\", \"t1\".\"database\", \"t1\".\"location\", \"t1\".\"name\", \"t1\".\"product\", \"t1\".\"type\" FROM \"activitydataset\" AS \"t1\" WHERE ((\"t1\".\"database\" = ?) AND (\"t1\".\"code\" = ?)) ORDER BY Random() LIMIT ? OFFSET ?\nParams: ['ESA LCA External 1.2.0f e3.9.1', '3bed37dae7421ef0e122d52a7bf0d64b', 1, 0]"
     ]
    }
   ],
   "source": [
    "bw2data.get_activity(('ESA LCA External 1.2.0f e3.9.1', '3bed37dae7421ef0e122d52a7bf0d64b'))"
   ]
  },
  {
   "cell_type": "code",
   "execution_count": null,
   "id": "24edf4f9-e530-4228-af2f-2c99d4888781",
   "metadata": {},
   "outputs": [],
   "source": []
  }
 ],
 "metadata": {
  "kernelspec": {
   "display_name": "Python 3 (ipykernel)",
   "language": "python",
   "name": "python3"
  },
  "language_info": {
   "codemirror_mode": {
    "name": "ipython",
    "version": 3
   },
   "file_extension": ".py",
   "mimetype": "text/x-python",
   "name": "python",
   "nbconvert_exporter": "python",
   "pygments_lexer": "ipython3",
   "version": "3.11.9"
  }
 },
 "nbformat": 4,
 "nbformat_minor": 5
}
