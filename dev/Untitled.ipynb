{
 "cells": [
  {
   "cell_type": "code",
   "execution_count": 1,
   "id": "6d93e33a-b89e-4e56-bfb7-5a8a0a232053",
   "metadata": {},
   "outputs": [],
   "source": [
    "import brightpath"
   ]
  },
  {
   "cell_type": "code",
   "execution_count": 2,
   "id": "78d7a866-3371-42e5-b1d2-6b8df2a801a4",
   "metadata": {},
   "outputs": [
    {
     "name": "stdout",
     "output_type": "stream",
     "text": [
      "Extracted 10 worksheets in 0.80 seconds\n",
      "Applying strategy: csv_restore_tuples\n",
      "Applying strategy: csv_restore_booleans\n",
      "Applying strategy: csv_numerize\n",
      "Applying strategy: csv_drop_unknown\n",
      "Applying strategy: csv_add_missing_exchanges_section\n",
      "Applying strategy: normalize_units\n",
      "Applying strategy: normalize_biosphere_categories\n",
      "Applying strategy: normalize_biosphere_names\n",
      "Applying strategy: strip_biosphere_exc_locations\n",
      "Applying strategy: set_code_by_activity_hash\n",
      "Applying strategy: link_iterable_by_fields\n",
      "Applying strategy: assign_only_product_as_production\n",
      "Applying strategy: link_technosphere_by_activity_hash\n",
      "Applying strategy: drop_falsey_uncertainty_fields_but_keep_zeros\n",
      "Applying strategy: convert_uncertainty_types_to_integers\n",
      "Applying strategy: convert_activity_parameters_to_list\n",
      "Applied 16 strategies in 6.47 seconds\n"
     ]
    }
   ],
   "source": [
    "c = brightpath.Converter(filepath=\"sample.xlsx\", metadata=\"meta_sample.yaml\")"
   ]
  },
  {
   "cell_type": "code",
   "execution_count": 3,
   "id": "fd3d1449",
   "metadata": {},
   "outputs": [
    {
     "data": {
      "text/plain": [
       "'Inventories export to: /Users/romain/GitHub/brightpath/dev/simapro_13-06-2023.csv'"
      ]
     },
     "execution_count": 3,
     "metadata": {},
     "output_type": "execute_result"
    }
   ],
   "source": [
    "c.convert_to_simapro()"
   ]
  },
  {
   "cell_type": "code",
   "execution_count": 6,
   "id": "8391f239",
   "metadata": {},
   "outputs": [
    {
     "data": {
      "text/plain": [
       "_Migrations dictionary with 0 objects"
      ]
     },
     "execution_count": 6,
     "metadata": {},
     "output_type": "execute_result"
    }
   ],
   "source": [
    "bw2io.create_core_migrations"
   ]
  },
  {
   "cell_type": "code",
   "execution_count": null,
   "id": "02beee62",
   "metadata": {},
   "outputs": [],
   "source": []
  }
 ],
 "metadata": {
  "kernelspec": {
   "display_name": "Python 3 (ipykernel)",
   "language": "python",
   "name": "python3"
  },
  "language_info": {
   "codemirror_mode": {
    "name": "ipython",
    "version": 3
   },
   "file_extension": ".py",
   "mimetype": "text/x-python",
   "name": "python",
   "nbconvert_exporter": "python",
   "pygments_lexer": "ipython3",
   "version": "3.10.8"
  }
 },
 "nbformat": 4,
 "nbformat_minor": 5
}
