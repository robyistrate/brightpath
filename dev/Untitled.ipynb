{
 "cells": [
  {
   "cell_type": "code",
   "execution_count": 1,
   "id": "6d93e33a-b89e-4e56-bfb7-5a8a0a232053",
   "metadata": {},
   "outputs": [],
   "source": [
    "import brightpath"
   ]
  },
  {
   "cell_type": "code",
   "execution_count": 10,
   "id": "b586e97a-0d58-4019-ad0f-84dca4bb1b09",
   "metadata": {},
   "outputs": [],
   "source": [
    "fp=\"/Users/romain/OneDrive/Documents/Power2X/bw_ei39_120823.xlsx\""
   ]
  },
  {
   "cell_type": "code",
   "execution_count": 11,
   "id": "78d7a866-3371-42e5-b1d2-6b8df2a801a4",
   "metadata": {},
   "outputs": [
    {
     "name": "stdout",
     "output_type": "stream",
     "text": [
      "Extracted 8 worksheets in 1.04 seconds\n",
      "Applying strategy: csv_restore_tuples\n",
      "Applying strategy: csv_restore_booleans\n",
      "Applying strategy: csv_numerize\n",
      "Applying strategy: csv_drop_unknown\n",
      "Applying strategy: csv_add_missing_exchanges_section\n",
      "Applying strategy: normalize_units\n",
      "Applying strategy: normalize_biosphere_categories\n",
      "Applying strategy: normalize_biosphere_names\n",
      "Applying strategy: strip_biosphere_exc_locations\n",
      "Applying strategy: set_code_by_activity_hash\n",
      "Applying strategy: link_iterable_by_fields\n",
      "Applying strategy: assign_only_product_as_production\n",
      "Applying strategy: link_technosphere_by_activity_hash\n",
      "Applying strategy: drop_falsey_uncertainty_fields_but_keep_zeros\n",
      "Applying strategy: convert_uncertainty_types_to_integers\n",
      "Applying strategy: convert_activity_parameters_to_list\n",
      "Applied 16 strategies in 0.24 seconds\n"
     ]
    }
   ],
   "source": [
    "c = brightpath.Converter(\n",
    "    filepath=fp,\n",
    "    metadata=\"/Users/romain/OneDrive/Documents/Power2X/meta_power2X_simapro.yaml\",\n",
    "    export_dir=\"/Users/romain/OneDrive/Documents/Power2X\"\n",
    ")"
   ]
  },
  {
   "cell_type": "code",
   "execution_count": 12,
   "id": "fd3d1449",
   "metadata": {},
   "outputs": [
    {
     "name": "stdout",
     "output_type": "stream",
     "text": [
      "The following exchanges have not been used:\n",
      "+----------------------------------------+----------+----------+------------+\n",
      "|                Exchange                |  Amount  | Location | Categories |\n",
      "+----------------------------------------+----------+----------+------------+\n",
      "|         market for polysulfone         | kilogram |   GLO    |    None    |\n",
      "|     market for strontium carbonate     | kilogram |   GLO    |    None    |\n",
      "| market for fly ash and scrubber sludge | kilogram |    CH    |    None    |\n",
      "|        market for barium oxide         | kilogram |   GLO    |    None    |\n",
      "| market for activated carbon, granular  | kilogram |   GLO    |    None    |\n",
      "|     market for molybdenum trioxide     | kilogram |   GLO    |    None    |\n",
      "|                 Oxygen                 | kilogram |   GLO    |  ('air',)  |\n",
      "+----------------------------------------+----------+----------+------------+\n"
     ]
    },
    {
     "data": {
      "text/plain": [
       "'Inventories export to: /Users/romain/OneDrive/Documents/Power2X/simapro_uvek_16-08-2023.csv'"
      ]
     },
     "execution_count": 12,
     "metadata": {},
     "output_type": "execute_result"
    }
   ],
   "source": [
    "c.convert_to_simapro(database=\"uvek\")"
   ]
  },
  {
   "cell_type": "code",
   "execution_count": 13,
   "id": "02beee62",
   "metadata": {},
   "outputs": [],
   "source": [
    "import pandas as pd\n",
    "\n",
    "fp=\"/Users/romain/OneDrive/Documents/Power2X/simapro_uvek_16-08-2023.csv\"\n",
    "exp_dir = \"/Users/romain/OneDrive/Documents/Power2X/formatted_simapro_lci.xlsx\"\n",
    "\n",
    "# Function to parse individual lines\n",
    "def parse_line_final_corrected(line, category):\n",
    "    \"\"\"Parses a line of data into various columns, corrected for resource flows, float precision, and amount extraction.\"\"\"\n",
    "    parts = line.split(\";\")\n",
    "    name = parts[0] if len(parts) > 0 else None\n",
    "    location = name.rsplit(\"/\", 1)[1].split()[0] if \"/\" in name else \"RER\"\n",
    "    category_name = category if name else None\n",
    "    subcategory = \"high population density\" if \"Emissions\" in category else \"-\"\n",
    "    infrastructure_process = \"1\" if \"Products\" in category else \"0\"\n",
    "    unit = parts[1] if len(parts) > 1 else None\n",
    "    product_name = None\n",
    "    \n",
    "    # Adjusting the position for resource flow amounts\n",
    "    if \"Resources\" in category:\n",
    "        amount = \"{:.2e}\".format(float(parts[3]))\n",
    "    elif \"Emissions\" in category and len(parts) > 3:\n",
    "        amount = \"{:.2e}\".format(float(parts[3]))\n",
    "    elif len(parts) > 2:\n",
    "        amount = \"{:.2e}\".format(float(parts[2]))\n",
    "    else:\n",
    "        amount = None\n",
    "        \n",
    "    uncertainty_type = 1 if name else None\n",
    "    standard_deviation = None\n",
    "    general_comment = parts[-1] if len(parts) > 3 else None\n",
    "    return name, location, category_name, subcategory, infrastructure_process, unit, product_name, amount, uncertainty_type, standard_deviation, general_comment\n",
    "\n",
    "# Function to parse the entire dataset into a DataFrame\n",
    "def parse_dataset_to_df_updated(dataset):\n",
    "    \"\"\"Parses a dataset into a DataFrame with the specified format, adding headers.\"\"\"\n",
    "    categories = {\n",
    "        \"Products\": \"Output\",\n",
    "        \"Materials/fuels\": \"Material inputs\",\n",
    "        \"Electricity/heat\": \"Energy inputs\",\n",
    "        \"Resources\": \"Resources\",\n",
    "        \"Emissions to air\": \"Emissions to air\",\n",
    "        \"Emissions to water\": \"Emissions to water\",\n",
    "        \"Emissions to soil\": \"Emissions to soil\",\n",
    "        \"Waste to treatment\": \"Waste treatment\",\n",
    "        \"Final waste flows\": \"Final waste flows\",\n",
    "        \"Non material emission\": \"Non material emission\",\n",
    "        \"Social issues\": \"Social issues\",\n",
    "        \"Economic issues\": \"Economic issues\",\n",
    "        \"End\": None\n",
    "    }\n",
    "    \n",
    "    parsed_data = []\n",
    "    current_category = None\n",
    "    \n",
    "    for line in dataset:\n",
    "        line = line.strip()\n",
    "        if line in categories:\n",
    "            current_category = line\n",
    "            if categories[current_category] is not None:\n",
    "                parsed_data.append((categories[current_category], None, None, None, None, None, None, None, None, None, None))\n",
    "                categories[current_category] = None\n",
    "        elif current_category and line:\n",
    "            parsed_line = parse_line_final_corrected(line, current_category)\n",
    "            parsed_data.append(parsed_line)\n",
    "        elif not line and parsed_data:\n",
    "            parsed_data.append((None, None, None, None, None, None, None, None, None, None, None))\n",
    "    \n",
    "    df = pd.DataFrame(parsed_data, columns=[\"Name\", \"Location\", \"Category\", \"SubCategory\", \"InfrastructureProcess\", \"Unit\", \"Product\", \"Amount\", \"UncertaintyType\", \"StandardDeviation95%\", \"GeneralComment\"])\n",
    "    return df\n",
    "\n",
    "# Splitting the uploaded file into individual datasets\n",
    "with open(fp, \"r\") as file:\n",
    "    lines = file.readlines()\n",
    "\n",
    "datasets = []\n",
    "current_dataset = []\n",
    "for line in lines:\n",
    "    if \"Process:\" in line:\n",
    "        if current_dataset:\n",
    "            datasets.append(current_dataset)\n",
    "        current_dataset = [line]\n",
    "    else:\n",
    "        current_dataset.append(line)\n",
    "datasets.append(current_dataset)\n",
    "\n",
    "# Parsing and saving the datasets into an Excel file\n",
    "all_tables_final_corrected = pd.DataFrame()\n",
    "\n",
    "for i, dataset in enumerate(datasets):\n",
    "    df = parse_dataset_to_df_updated(dataset)\n",
    "    df.index = df.index + len(all_tables_final_corrected) + 2\n",
    "    all_tables_final_corrected = pd.concat([all_tables_final_corrected, df])\n",
    "    all_tables_final_corrected = pd.concat([all_tables_final_corrected, pd.DataFrame([[\"\",\"\",\"\",\"\",\"\",\"\",\"\",\"\",\"\",\"\",\"\"]], columns=[\"Name\", \"Location\", \"Category\", \"SubCategory\", \"InfrastructureProcess\", \"Unit\", \"Product\", \"Amount\", \"UncertaintyType\", \"StandardDeviation95%\", \"GeneralComment\"])])\n",
    "\n",
    "all_tables_final_corrected.to_excel(exp_dir, index=False)\n"
   ]
  },
  {
   "cell_type": "code",
   "execution_count": null,
   "id": "eabcf79b-3bc2-4e6d-98f0-fc51c9caebad",
   "metadata": {},
   "outputs": [],
   "source": []
  }
 ],
 "metadata": {
  "kernelspec": {
   "display_name": "Python 3 (ipykernel)",
   "language": "python",
   "name": "python3"
  },
  "language_info": {
   "codemirror_mode": {
    "name": "ipython",
    "version": 3
   },
   "file_extension": ".py",
   "mimetype": "text/x-python",
   "name": "python",
   "nbconvert_exporter": "python",
   "pygments_lexer": "ipython3",
   "version": "3.9.12"
  }
 },
 "nbformat": 4,
 "nbformat_minor": 5
}
