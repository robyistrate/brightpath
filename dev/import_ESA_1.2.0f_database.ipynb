{
 "cells": [
  {
   "cell_type": "code",
   "execution_count": null,
   "id": "f50d7b87-859f-409f-aad2-a1cfce899760",
   "metadata": {},
   "outputs": [],
   "source": [
    "import bw2io\n",
    "from pathlib import Path\n",
    "import bw2data\n",
    "from brightpath import SimaproConverter\n",
    "fp=\"ESA db/ESA_LCA_DB_1.2.0f_e3.9.1_-_EXTERNAL_csv_original.CSV\"\n",
    "bw2data.projects.set_current(\"ecoinvent-3.9.1-cutoff\")\n",
    "c = SimaproConverter(fp, ecoinvent_version=\"3.9\")"
   ]
  },
  {
   "cell_type": "code",
   "execution_count": null,
   "id": "59f94943-c16b-41f9-abc2-d4ec642fecaf",
   "metadata": {},
   "outputs": [],
   "source": [
    "c.convert_to_brightway()"
   ]
  },
  {
   "cell_type": "code",
   "execution_count": null,
   "id": "d3bf92c6-91ad-4546-bbd3-79d9456cdc86",
   "metadata": {},
   "outputs": [],
   "source": [
    "# if links to EI 35\n",
    "#c.i.data = bw2io.strategies.migrate_exchanges(\n",
    "#    db=c.i.data,\n",
    "#    migration=\"ESA-ei-3.5\"\n",
    "#)"
   ]
  },
  {
   "cell_type": "code",
   "execution_count": null,
   "id": "ade1bc8a-8a84-4670-82bc-d8e71fd89d3c",
   "metadata": {},
   "outputs": [],
   "source": [
    "c.i.match_database(fields=[\"name\", \"reference product\", \"location\"])\n",
    "c.i.match_database(\"ecoinvent-3.9.1-cutoff\", fields=[\"name\", \"reference product\", \"location\"])\n",
    "c.i.match_database(\"ecoinvent-3.9.1-biosphere\", fields=[\"name\", \"categories\"])"
   ]
  },
  {
   "cell_type": "code",
   "execution_count": null,
   "id": "b586e97a-0d58-4019-ad0f-84dca4bb1b09",
   "metadata": {},
   "outputs": [],
   "source": [
    "c.i.statistics()"
   ]
  },
  {
   "cell_type": "code",
   "execution_count": null,
   "id": "9ffd87f7-6c6a-4208-83c9-6a5f9b146828",
   "metadata": {},
   "outputs": [],
   "source": [
    "c.i.drop_unlinked(i_am_reckless=True)\n",
    "if c.i.db_name in bw2data.databases:\n",
    "    del bw2data.databases[c.i.db_name]\n",
    "c.i.write_database()"
   ]
  },
  {
   "cell_type": "code",
   "execution_count": null,
   "id": "dbe8031d-afef-4df5-965b-fe3c8d2c76c5",
   "metadata": {},
   "outputs": [],
   "source": [
    "# this is to build a migration file\n",
    "migration = {\n",
    "    \"fields\": [\"name\", \"reference product\", \"location\", ],\n",
    "}\n",
    "\n",
    "migration[\"data\"] = [\n",
    "    (\n",
    "        (u[\"name\"], u[\"reference product\"], u[\"location\"], ),\n",
    "        {}\n",
    "    )\n",
    "    for u in c.i.unlinked\n",
    "    if u[\"type\"] == \"technosphere\"\n",
    "]"
   ]
  },
  {
   "cell_type": "code",
   "execution_count": null,
   "id": "71a380ec-3b8a-453f-88a6-7674ce5e5be7",
   "metadata": {},
   "outputs": [],
   "source": [
    "import json\n",
    "with open(\"ESA-ei-3.5_migration.json\", 'w') as fp:\n",
    "    json.dump(migration, fp, indent=2)"
   ]
  },
  {
   "cell_type": "code",
   "execution_count": null,
   "id": "2c212578-bfb8-4499-b638-b954acde015e",
   "metadata": {},
   "outputs": [],
   "source": [
    "with open(\"ESA-ei-3.5_migration.json\") as f_in:\n",
    "    migration = json.load(f_in)"
   ]
  },
  {
   "cell_type": "code",
   "execution_count": null,
   "id": "63369eae-c3f8-4449-b0b8-71ed56b32c3c",
   "metadata": {},
   "outputs": [],
   "source": [
    "import pandas as pd\n",
    "pd.DataFrame.from_dict(c.i.unlinked)[[\"name\", \"reference product\", \"location\", \"categories\", \"unit\", \"simapro name\", \"type\"]].to_excel(\"unlinked_exchanges.xlsx\")"
   ]
  },
  {
   "cell_type": "code",
   "execution_count": null,
   "id": "24edf4f9-e530-4228-af2f-2c99d4888781",
   "metadata": {},
   "outputs": [],
   "source": [
    "import bw2io\n",
    "from pathlib import Path\n",
    "import bw2data\n",
    "from brightpath import SimaproConverter\n",
    "fp=\"lci-ESA-LCA-External-120f-ei391.xlsx\"\n",
    "bw2data.projects.set_current(\"ecoinvent-3.10-cutoff\")"
   ]
  },
  {
   "cell_type": "code",
   "execution_count": null,
   "id": "33c40b83-ae83-43b0-844a-4fb6c1851517",
   "metadata": {},
   "outputs": [],
   "source": [
    "i = bw2io.ExcelImporter(fp)"
   ]
  },
  {
   "cell_type": "code",
   "execution_count": null,
   "id": "9590e2bb-5185-48a6-9fda-d3e8d0915027",
   "metadata": {},
   "outputs": [],
   "source": [
    "i.apply_strategies()"
   ]
  },
  {
   "cell_type": "code",
   "execution_count": null,
   "id": "ed399374-d7d8-4ec1-ba6a-64fb23e2fcf8",
   "metadata": {},
   "outputs": [],
   "source": [
    "i.match_database(fields=[\"name\", \"reference product\", \"location\"])\n",
    "i.match_database(\"ecoinvent-3.10-cutoff\", fields=[\"name\", \"reference product\", \"location\"])\n",
    "i.match_database(\"ecoinvent-3.10-biosphere\", fields=[\"name\", \"categories\"])"
   ]
  },
  {
   "cell_type": "code",
   "execution_count": null,
   "id": "f7a8785d-dd0e-4506-a7d8-f24cc627b467",
   "metadata": {},
   "outputs": [],
   "source": [
    "i.statistics()"
   ]
  },
  {
   "cell_type": "code",
   "execution_count": null,
   "id": "38b78d26-fd5a-49a1-81eb-536a0a906b2b",
   "metadata": {},
   "outputs": [],
   "source": [
    "import json\n",
    "with open(\"ecoinvent-3.9.1-cutoff-ecoinvent-3.10-cutoff.json\") as f_in:\n",
    "    migration = json.load(f_in)"
   ]
  },
  {
   "cell_type": "code",
   "execution_count": null,
   "id": "787b064e-60ac-4d90-93c8-d916548bee74",
   "metadata": {},
   "outputs": [],
   "source": [
    "migration = {\n",
    "    (\n",
    "        a[\"source\"][\"name\"],\n",
    "        a[\"source\"][\"reference product\"],\n",
    "        a[\"source\"][\"location\"],\n",
    "        #a[\"source\"][\"unit\"]\n",
    "    ): a[\"target\"]\n",
    "    for a in migration[\"replace\"]\n",
    "}"
   ]
  },
  {
   "cell_type": "code",
   "execution_count": null,
   "id": "8123344e-be9f-403a-8bd9-e523a468a6a2",
   "metadata": {},
   "outputs": [],
   "source": [
    "for act in i.data:\n",
    "    for exc in act[\"exchanges\"]:\n",
    "        if exc[\"type\"] == \"technosphere\":\n",
    "            key = (\n",
    "                exc[\"name\"],\n",
    "                exc[\"reference product\"],\n",
    "                exc[\"location\"],\n",
    "                #exc[\"unit\"]\n",
    "            )\n",
    "            if key in migration:\n",
    "                exc[\"name\"] = migration[key][\"name\"]\n",
    "                exc[\"reference product\"] = migration[key][\"reference product\"]\n",
    "                #exc[\"unit\"] = migration[key][\"unit\"]\n",
    "                exc[\"location\"] = migration[key][\"location\"]"
   ]
  },
  {
   "cell_type": "code",
   "execution_count": null,
   "id": "1cc1c073-2393-40e2-b0e4-0c999afa5f84",
   "metadata": {},
   "outputs": [],
   "source": [
    "i.match_database(fields=[\"name\", \"reference product\", \"location\"])\n",
    "i.match_database(\"ecoinvent-3.10-cutoff\", fields=[\"name\", \"reference product\", \"location\"])\n",
    "i.match_database(\"ecoinvent-3.10-biosphere\", fields=[\"name\", \"categories\"])\n",
    "i.statistics()"
   ]
  },
  {
   "cell_type": "code",
   "execution_count": null,
   "id": "981729d7-167c-45d4-bd42-c45306f5f603",
   "metadata": {},
   "outputs": [],
   "source": [
    "import json\n",
    "with open(\"ecoinvent-3.9.1-cutoff-ecoinvent-3.10-cutoff.json\") as f_in:\n",
    "    migration = json.load(f_in)"
   ]
  },
  {
   "cell_type": "code",
   "execution_count": null,
   "id": "ce33a06b-2a35-4e78-9004-8d7000ee7c3a",
   "metadata": {},
   "outputs": [],
   "source": [
    "migration = {\n",
    "    (\n",
    "        a[\"source\"][\"name\"],\n",
    "        a[\"source\"][\"reference product\"],\n",
    "        a[\"source\"][\"location\"],\n",
    "        #a[\"source\"][\"unit\"]\n",
    "    ): a[\"targets\"]\n",
    "    for a in migration[\"disaggregate\"]\n",
    "}\n",
    "len(migration)"
   ]
  },
  {
   "cell_type": "code",
   "execution_count": null,
   "id": "a0de041f-ab5f-420c-b2b2-ef744944629c",
   "metadata": {},
   "outputs": [],
   "source": [
    "for act in i.data:\n",
    "    new_excs = []\n",
    "    for exc in act[\"exchanges\"]:\n",
    "        if exc[\"type\"] == \"technosphere\":\n",
    "            key = (\n",
    "                exc[\"name\"],\n",
    "                exc[\"reference product\"],\n",
    "                exc[\"location\"],\n",
    "                #exc[\"unit\"]\n",
    "            )\n",
    "            if key in migration:\n",
    "                for target in migration[key]:\n",
    "                    new_excs.append(\n",
    "                        {\n",
    "                            \"name\": target[\"name\"],\n",
    "                            \"reference product\": target[\"reference product\"],\n",
    "                            \"unit\": exc[\"unit\"],\n",
    "                            \"location\": target[\"location\"],\n",
    "                            \"uncertainty type\": exc.get(\"uncertainty type\", 0),\n",
    "                            \"loc\": exc.get(\"loc\", 0),\n",
    "                            \"scale\": exc.get(\"scale\", 0),\n",
    "                            \"amount\": exc[\"amount\"] * target[\"allocation\"],\n",
    "                            \"type\": \"technosphere\"\n",
    "                        }\n",
    "                    )\n",
    "                exc[\"delete\"] = True\n",
    "    if len(new_excs) > 0:\n",
    "        act[\"exchanges\"].extend(new_excs)\n",
    "    act[\"exchanges\"] = [e for e in act[\"exchanges\"] if e.get(\"delete\", False) is False]\n",
    "                "
   ]
  },
  {
   "cell_type": "code",
   "execution_count": null,
   "id": "de216314-f4dc-42ba-a208-dc4ed6b6c9a1",
   "metadata": {},
   "outputs": [],
   "source": [
    "i.match_database(fields=[\"name\", \"reference product\", \"location\"])\n",
    "i.match_database(\"ecoinvent-3.10-cutoff\", fields=[\"name\", \"reference product\", \"location\"])\n",
    "i.match_database(\"ecoinvent-3.10-biosphere\", fields=[\"name\", \"categories\"])\n",
    "i.statistics()"
   ]
  },
  {
   "cell_type": "code",
   "execution_count": null,
   "id": "8eff7340-9b9c-4728-9721-629786992a04",
   "metadata": {},
   "outputs": [],
   "source": [
    "import json\n",
    "with open(\"ecoinvent-3.9.1-biosphere-ecoinvent-3.10-biosphere.json\") as f_in:\n",
    "    migration = json.load(f_in)"
   ]
  },
  {
   "cell_type": "code",
   "execution_count": null,
   "id": "1068f259-f44f-4cbc-8bf2-480f60cd1d3e",
   "metadata": {},
   "outputs": [],
   "source": [
    "migration = {\n",
    "    (\n",
    "        a[\"source\"][\"name\"],\n",
    "        #a[\"source\"][\"reference product\"],\n",
    "        #a[\"source\"][\"location\"],\n",
    "        #a[\"source\"][\"unit\"]\n",
    "    ): a[\"target\"]\n",
    "    for a in migration[\"replace\"]\n",
    "}\n",
    "len(migration)"
   ]
  },
  {
   "cell_type": "code",
   "execution_count": null,
   "id": "1119912a-4e41-474d-8e6b-430584d2a21f",
   "metadata": {},
   "outputs": [],
   "source": [
    "for act in i.data:\n",
    "    for exc in act[\"exchanges\"]:\n",
    "        if exc[\"type\"] == \"biosphere\":\n",
    "            key = (exc[\"name\"],)\n",
    "            if key in migration:\n",
    "                if \"name\" in migration[key]:\n",
    "                    exc[\"name\"] = migration[key][\"name\"]\n",
    "                exc[\"input\"] = (\"ecoinvent-3.10-biosphere\", migration[key][\"uuid\"])"
   ]
  },
  {
   "cell_type": "code",
   "execution_count": null,
   "id": "ea3edd76-2451-431d-9697-b1f1a0178269",
   "metadata": {},
   "outputs": [],
   "source": [
    "i.match_database(\"ecoinvent-3.10-biosphere\", fields=[\"name\", \"categories\"])\n",
    "i.statistics()"
   ]
  },
  {
   "cell_type": "code",
   "execution_count": null,
   "id": "d1827236-7cc2-45ee-8e9d-8b9fdc19d953",
   "metadata": {},
   "outputs": [],
   "source": [
    "i.drop_unlinked(i_am_reckless=True)\n",
    "if i.db_name in bw2data.databases:\n",
    "    del bw2data.databases[i.db_name]\n",
    "i.write_database()"
   ]
  },
  {
   "cell_type": "code",
   "execution_count": null,
   "id": "6fc376ee-b8a9-436c-a4f5-7ac874112fea",
   "metadata": {},
   "outputs": [],
   "source": [
    "bw2io.export.write_lci_excel(\"ESA LCA External 1.2.0f e3.9.1\")"
   ]
  },
  {
   "cell_type": "code",
   "execution_count": 5,
   "id": "dd75f6d0-e8da-4714-bcd9-3783f412c99f",
   "metadata": {},
   "outputs": [],
   "source": [
    "import bw2io\n",
    "from pathlib import Path\n",
    "import bw2data\n",
    "from brightpath import SimaproConverter\n",
    "fp=\"lci-ESA-LCA-External-120f-ei310.xlsx\"\n",
    "bw2data.projects.set_current(\"ecoinvent-3.11-cutoff\")"
   ]
  },
  {
   "cell_type": "code",
   "execution_count": 6,
   "id": "4fde334f-4906-4311-adfe-88599148f0b8",
   "metadata": {
    "scrolled": true
   },
   "outputs": [
    {
     "name": "stdout",
     "output_type": "stream",
     "text": [
      "Extracted 1 worksheets in 1.41 seconds\n",
      "Applying strategy: csv_restore_tuples\n",
      "Applying strategy: csv_restore_booleans\n",
      "Applying strategy: csv_numerize\n",
      "Applying strategy: csv_drop_unknown\n",
      "Applying strategy: csv_add_missing_exchanges_section\n",
      "Applying strategy: normalize_units\n",
      "Applying strategy: normalize_biosphere_categories\n",
      "Applying strategy: normalize_biosphere_names\n",
      "Applying strategy: strip_biosphere_exc_locations\n",
      "Applying strategy: set_code_by_activity_hash\n",
      "Applying strategy: link_iterable_by_fields\n",
      "Applying strategy: assign_only_product_as_production\n",
      "Applying strategy: link_technosphere_by_activity_hash\n",
      "Applying strategy: drop_falsey_uncertainty_fields_but_keep_zeros\n",
      "Applying strategy: convert_uncertainty_types_to_integers\n",
      "Applying strategy: convert_activity_parameters_to_list\n",
      "Applied 16 strategies in 0.51 seconds\n",
      "Applying strategy: link_iterable_by_fields\n",
      "Applying strategy: link_iterable_by_fields\n",
      "Applying strategy: link_iterable_by_fields\n",
      "Graph statistics for `ESA LCA External 1.2.0f e3.9.1` importer:\n",
      "770 graph nodes:\n",
      "\tprocess: 770\n",
      "29331 graph edges:\n",
      "\tbiosphere: 22930\n",
      "\ttechnosphere: 5631\n",
      "\tproduction: 770\n",
      "28862 edges to the following databases:\n",
      "\tbiosphere3: 22879\n",
      "\tecoinvent-3.11-cutoff: 3384\n",
      "\tESA LCA External 1.2.0f e3.9.1: 2599\n",
      "46 unique unlinked edges (469 total):\n",
      "\ttechnosphere: 42\n",
      "\tbiosphere: 4\n",
      "\n",
      "\n"
     ]
    },
    {
     "data": {
      "text/plain": [
       "(770, 29331, 469, 0)"
      ]
     },
     "execution_count": 6,
     "metadata": {},
     "output_type": "execute_result"
    }
   ],
   "source": [
    "i = bw2io.ExcelImporter(fp)\n",
    "i.apply_strategies()\n",
    "i.match_database(fields=[\"name\", \"reference product\", \"location\"])\n",
    "i.match_database(\"ecoinvent-3.11-cutoff\", fields=[\"name\", \"reference product\", \"location\"])\n",
    "i.match_database(\"biosphere3\", fields=[\"name\", \"categories\"])\n",
    "i.statistics()"
   ]
  },
  {
   "cell_type": "code",
   "execution_count": 7,
   "id": "4ee96caa-0d72-48ba-8295-6f6fbe9b2799",
   "metadata": {},
   "outputs": [],
   "source": [
    "import json\n",
    "with open(\"ecoinvent-3.10.1-biosphere-ecoinvent-3.11-biosphere.json\") as f_in:\n",
    "    migration = json.load(f_in)"
   ]
  },
  {
   "cell_type": "code",
   "execution_count": 8,
   "id": "5985573d-f58a-4a2f-be8e-623d39269694",
   "metadata": {},
   "outputs": [
    {
     "data": {
      "text/plain": [
       "12"
      ]
     },
     "execution_count": 8,
     "metadata": {},
     "output_type": "execute_result"
    }
   ],
   "source": [
    "migration = {\n",
    "    (\n",
    "        a[\"source\"][\"name\"],\n",
    "        #a[\"source\"][\"reference product\"],\n",
    "        #a[\"source\"][\"location\"],\n",
    "        #a[\"source\"][\"unit\"]\n",
    "    ): a[\"target\"]\n",
    "    for a in migration[\"replace\"]\n",
    "}\n",
    "len(migration)"
   ]
  },
  {
   "cell_type": "code",
   "execution_count": 9,
   "id": "f1b19cd9-0487-4268-95da-4e9fba214440",
   "metadata": {},
   "outputs": [],
   "source": [
    "for act in i.data:\n",
    "    for exc in act[\"exchanges\"]:\n",
    "        if exc[\"type\"] == \"biosphere\":\n",
    "            key = (exc[\"name\"],)\n",
    "            if key in migration:\n",
    "                if \"name\" in migration[key]:\n",
    "                    exc[\"name\"] = migration[key][\"name\"]\n",
    "                exc[\"input\"] = (\"biosphere3\", migration[key][\"uuid\"])"
   ]
  },
  {
   "cell_type": "code",
   "execution_count": 10,
   "id": "801f410f-396a-4c59-b1bf-9b09ec0183a4",
   "metadata": {},
   "outputs": [
    {
     "name": "stdout",
     "output_type": "stream",
     "text": [
      "Applying strategy: link_iterable_by_fields\n",
      "Graph statistics for `ESA LCA External 1.2.0f e3.9.1` importer:\n",
      "770 graph nodes:\n",
      "\tprocess: 770\n",
      "29331 graph edges:\n",
      "\tbiosphere: 22930\n",
      "\ttechnosphere: 5631\n",
      "\tproduction: 770\n",
      "28913 edges to the following databases:\n",
      "\tbiosphere3: 22930\n",
      "\tecoinvent-3.11-cutoff: 3384\n",
      "\tESA LCA External 1.2.0f e3.9.1: 2599\n",
      "42 unique unlinked edges (418 total):\n",
      "\ttechnosphere: 42\n",
      "\n",
      "\n"
     ]
    },
    {
     "data": {
      "text/plain": [
       "(770, 29331, 418, 0)"
      ]
     },
     "execution_count": 10,
     "metadata": {},
     "output_type": "execute_result"
    }
   ],
   "source": [
    "i.match_database(\"biosphere3\", fields=[\"name\", \"categories\"])\n",
    "i.statistics()"
   ]
  },
  {
   "cell_type": "code",
   "execution_count": 11,
   "id": "0c6fd5e9-33fc-42d7-82ab-9f7e0781dcbd",
   "metadata": {},
   "outputs": [],
   "source": [
    "import json\n",
    "with open(\"ecoinvent-3.10.1-cutoff-ecoinvent-3.11-cutoff.json\") as f_in:\n",
    "    migration = json.load(f_in)"
   ]
  },
  {
   "cell_type": "code",
   "execution_count": 12,
   "id": "10d74674-7402-448f-a800-c0a3acb56cc0",
   "metadata": {},
   "outputs": [],
   "source": [
    "migration = {\n",
    "    (\n",
    "        a[\"source\"][\"name\"],\n",
    "        a[\"source\"][\"reference product\"],\n",
    "        a[\"source\"][\"location\"],\n",
    "        #a[\"source\"][\"unit\"]\n",
    "    ): a[\"target\"]\n",
    "    for a in migration[\"replace\"]\n",
    "}"
   ]
  },
  {
   "cell_type": "code",
   "execution_count": 13,
   "id": "ed91a158-93b4-4b82-be76-a17529cffb1d",
   "metadata": {},
   "outputs": [],
   "source": [
    "for act in i.data:\n",
    "    for exc in act[\"exchanges\"]:\n",
    "        if exc[\"type\"] == \"technosphere\":\n",
    "            key = (\n",
    "                exc[\"name\"],\n",
    "                exc[\"reference product\"],\n",
    "                exc[\"location\"],\n",
    "                #exc[\"unit\"]\n",
    "            )\n",
    "            if key in migration:\n",
    "                exc[\"name\"] = migration[key][\"name\"]\n",
    "                exc[\"reference product\"] = migration[key][\"reference product\"]\n",
    "                #exc[\"unit\"] = migration[key][\"unit\"]\n",
    "                exc[\"location\"] = migration[key][\"location\"]"
   ]
  },
  {
   "cell_type": "code",
   "execution_count": 14,
   "id": "a592b567-8d72-408f-bf63-c8b91a2726d9",
   "metadata": {},
   "outputs": [
    {
     "name": "stdout",
     "output_type": "stream",
     "text": [
      "Applying strategy: link_iterable_by_fields\n",
      "Graph statistics for `ESA LCA External 1.2.0f e3.9.1` importer:\n",
      "770 graph nodes:\n",
      "\tprocess: 770\n",
      "29331 graph edges:\n",
      "\tbiosphere: 22930\n",
      "\ttechnosphere: 5631\n",
      "\tproduction: 770\n",
      "29324 edges to the following databases:\n",
      "\tbiosphere3: 22930\n",
      "\tecoinvent-3.11-cutoff: 3795\n",
      "\tESA LCA External 1.2.0f e3.9.1: 2599\n",
      "5 unique unlinked edges (7 total):\n",
      "\ttechnosphere: 5\n",
      "\n",
      "\n"
     ]
    },
    {
     "data": {
      "text/plain": [
       "(770, 29331, 7, 0)"
      ]
     },
     "execution_count": 14,
     "metadata": {},
     "output_type": "execute_result"
    }
   ],
   "source": [
    "#i.match_database(fields=[\"name\", \"reference product\", \"location\"])\n",
    "i.match_database(\"ecoinvent-3.11-cutoff\", fields=[\"name\", \"reference product\", \"location\"])\n",
    "#i.match_database(\"ecoinvent-3.10-biosphere\", fields=[\"name\", \"categories\"])\n",
    "i.statistics()"
   ]
  },
  {
   "cell_type": "code",
   "execution_count": 19,
   "id": "4df25856-f4cc-43ea-8415-d2b7baa40040",
   "metadata": {},
   "outputs": [],
   "source": [
    "import json\n",
    "with open(\"ecoinvent-3.10.1-cutoff-ecoinvent-3.11-cutoff.json\") as f_in:\n",
    "    migration = json.load(f_in)"
   ]
  },
  {
   "cell_type": "code",
   "execution_count": 20,
   "id": "7d787368-2e00-4634-8749-ffceddddb5d3",
   "metadata": {},
   "outputs": [
    {
     "data": {
      "text/plain": [
       "160"
      ]
     },
     "execution_count": 20,
     "metadata": {},
     "output_type": "execute_result"
    }
   ],
   "source": [
    "migration = {\n",
    "    (\n",
    "        a[\"source\"][\"name\"],\n",
    "        a[\"source\"][\"reference product\"],\n",
    "        a[\"source\"][\"location\"],\n",
    "        #a[\"source\"][\"unit\"]\n",
    "    ): a[\"targets\"]\n",
    "    for a in migration[\"disaggregate\"]\n",
    "}\n",
    "len(migration)"
   ]
  },
  {
   "cell_type": "code",
   "execution_count": 21,
   "id": "5fb885bb-51db-49f3-a13c-de1918120a99",
   "metadata": {},
   "outputs": [],
   "source": [
    "for act in i.data:\n",
    "    new_excs = []\n",
    "    for exc in act[\"exchanges\"]:\n",
    "        if exc[\"type\"] == \"technosphere\":\n",
    "            key = (\n",
    "                exc[\"name\"],\n",
    "                exc[\"reference product\"],\n",
    "                exc[\"location\"],\n",
    "                #exc[\"unit\"]\n",
    "            )\n",
    "            if key in migration:\n",
    "                for target in migration[key]:\n",
    "                    new_excs.append(\n",
    "                        {\n",
    "                            \"name\": target[\"name\"],\n",
    "                            \"reference product\": target[\"reference product\"],\n",
    "                            \"unit\": exc[\"unit\"],\n",
    "                            \"location\": target[\"location\"],\n",
    "                            \"uncertainty type\": exc.get(\"uncertainty type\", 0),\n",
    "                            \"loc\": exc.get(\"loc\", 0),\n",
    "                            \"scale\": exc.get(\"scale\", 0),\n",
    "                            \"amount\": exc[\"amount\"] * target[\"allocation\"],\n",
    "                            \"type\": \"technosphere\"\n",
    "                        }\n",
    "                    )\n",
    "                exc[\"delete\"] = True\n",
    "    if len(new_excs) > 0:\n",
    "        act[\"exchanges\"].extend(new_excs)\n",
    "    act[\"exchanges\"] = [e for e in act[\"exchanges\"] if e.get(\"delete\", False) is False]\n",
    "                "
   ]
  },
  {
   "cell_type": "code",
   "execution_count": 22,
   "id": "5c7f14a9-39dd-41ed-ab60-50197c227d09",
   "metadata": {},
   "outputs": [
    {
     "name": "stdout",
     "output_type": "stream",
     "text": [
      "Applying strategy: link_iterable_by_fields\n",
      "Graph statistics for `ESA LCA External 1.2.0f e3.9.1` importer:\n",
      "770 graph nodes:\n",
      "\tprocess: 770\n",
      "29614 graph edges:\n",
      "\tbiosphere: 22930\n",
      "\ttechnosphere: 5914\n",
      "\tproduction: 770\n",
      "29613 edges to the following databases:\n",
      "\tbiosphere3: 22930\n",
      "\tecoinvent-3.11-cutoff: 4084\n",
      "\tESA LCA External 1.2.0f e3.9.1: 2599\n",
      "1 unique unlinked edges (1 total):\n",
      "\ttechnosphere: 1\n",
      "\n",
      "\n"
     ]
    },
    {
     "data": {
      "text/plain": [
       "(770, 29614, 1, 0)"
      ]
     },
     "execution_count": 22,
     "metadata": {},
     "output_type": "execute_result"
    }
   ],
   "source": [
    "#i.match_database(fields=[\"name\", \"reference product\", \"location\"])\n",
    "i.match_database(\"ecoinvent-3.11-cutoff\", fields=[\"name\", \"reference product\", \"location\"])\n",
    "#i.match_database(\"ecoinvent-3.10-biosphere\", fields=[\"name\", \"categories\"])\n",
    "i.statistics()"
   ]
  },
  {
   "cell_type": "code",
   "execution_count": 24,
   "id": "bffbcef9-6b2c-48eb-9216-a31a41dab9a5",
   "metadata": {},
   "outputs": [
    {
     "name": "stdout",
     "output_type": "stream",
     "text": [
      "Applying strategy: drop_unlinked\n",
      "Applied 1 strategies in 0.03 seconds\n",
      "\u001b[2m12:50:25\u001b[0m [\u001b[33m\u001b[1mwarning  \u001b[0m] \u001b[1mNot able to determine geocollections for all datasets. This database is not ready for regionalization.\u001b[0m\n"
     ]
    },
    {
     "name": "stderr",
     "output_type": "stream",
     "text": [
      "100%|████████████████████████████████████████| 770/770 [00:01<00:00, 393.45it/s]"
     ]
    },
    {
     "name": "stdout",
     "output_type": "stream",
     "text": [
      "\u001b[2m12:50:29\u001b[0m [\u001b[32m\u001b[1minfo     \u001b[0m] \u001b[1mVacuuming database            \u001b[0m\n"
     ]
    },
    {
     "name": "stderr",
     "output_type": "stream",
     "text": [
      "\n"
     ]
    },
    {
     "name": "stdout",
     "output_type": "stream",
     "text": [
      "Created database: ESA LCA External 1.2.0f e3.9.1\n"
     ]
    }
   ],
   "source": [
    "# 2-methylpentane to generic market for solvent, organic has been removed from ei 3.11\n",
    "i.drop_unlinked(i_am_reckless=True)\n",
    "if i.db_name in bw2data.databases:\n",
    "    del bw2data.databases[i.db_name]\n",
    "i.write_database()"
   ]
  },
  {
   "cell_type": "code",
   "execution_count": 25,
   "id": "c5847185-dfd5-40b5-a474-41f59fb77f74",
   "metadata": {},
   "outputs": [
    {
     "data": {
      "text/plain": [
       "'/Users/romain/Library/Application Support/Brightway3/ecoinvent-311-cutoff.48ac3d3e3f6866ef5f407f0df49b277a/output/lci-ESA-LCA-External-120f-e391.xlsx'"
      ]
     },
     "execution_count": 25,
     "metadata": {},
     "output_type": "execute_result"
    }
   ],
   "source": [
    "bw2io.export.write_lci_excel(\"ESA LCA External 1.2.0f e3.9.1\")"
   ]
  },
  {
   "cell_type": "code",
   "execution_count": 38,
   "id": "bc07329f-9633-4745-bae7-f3124a42d0b6",
   "metadata": {},
   "outputs": [],
   "source": [
    "import bw2io\n",
    "from pathlib import Path\n",
    "import bw2data\n",
    "from brightpath import SimaproConverter\n",
    "fp='lci-ESA-LCA-External-120f-ei391.xlsx'\n",
    "#fp=\"lci-strathclyde_space_systems_database_1_0_3_ei310.xlsx\"\n",
    "bw2data.projects.set_current(\"ecoinvent-3.9.1-cutoff\")"
   ]
  },
  {
   "cell_type": "code",
   "execution_count": 39,
   "id": "b7271ab4-c0e7-4435-9433-6aa826e08ed8",
   "metadata": {},
   "outputs": [
    {
     "name": "stdout",
     "output_type": "stream",
     "text": [
      "Extracted 1 worksheets in 1.62 seconds\n",
      "Applying strategy: csv_restore_tuples\n",
      "Applying strategy: csv_restore_booleans\n",
      "Applying strategy: csv_numerize\n",
      "Applying strategy: csv_drop_unknown\n",
      "Applying strategy: csv_add_missing_exchanges_section\n",
      "Applying strategy: normalize_units\n",
      "Applying strategy: normalize_biosphere_categories\n",
      "Applying strategy: normalize_biosphere_names\n",
      "Applying strategy: strip_biosphere_exc_locations\n",
      "Applying strategy: set_code_by_activity_hash\n",
      "Applying strategy: link_iterable_by_fields\n",
      "Applying strategy: assign_only_product_as_production\n",
      "Applying strategy: link_technosphere_by_activity_hash\n",
      "Applying strategy: drop_falsey_uncertainty_fields_but_keep_zeros\n",
      "Applying strategy: convert_uncertainty_types_to_integers\n",
      "Applying strategy: convert_activity_parameters_to_list\n",
      "Applied 16 strategies in 0.43 seconds\n",
      "Applying strategy: link_iterable_by_fields\n",
      "Applying strategy: link_iterable_by_fields\n",
      "Applying strategy: link_iterable_by_fields\n",
      "Graph statistics for `ESA LCA External 1.2.0f e3.9.1` importer:\n",
      "770 graph nodes:\n",
      "\tprocess: 770\n",
      "29201 graph edges:\n",
      "\tbiosphere: 22930\n",
      "\ttechnosphere: 5501\n",
      "\tproduction: 770\n",
      "29200 edges to the following databases:\n",
      "\tecoinvent-3.9.1-biosphere: 22930\n",
      "\tecoinvent-3.9.1-cutoff: 3671\n",
      "\tESA LCA External 1.2.0f e3.9.1: 2599\n",
      "1 unique unlinked edges (1 total):\n",
      "\ttechnosphere: 1\n",
      "\n",
      "\n"
     ]
    },
    {
     "data": {
      "text/plain": [
       "(770, 29201, 1, 0)"
      ]
     },
     "execution_count": 39,
     "metadata": {},
     "output_type": "execute_result"
    }
   ],
   "source": [
    "i = bw2io.ExcelImporter(fp)\n",
    "i.apply_strategies()\n",
    "i.match_database(fields=[\"name\", \"reference product\", \"location\"])\n",
    "i.match_database(\"ecoinvent-3.9.1-cutoff\", fields=[\"name\", \"reference product\", \"location\"])\n",
    "i.match_database(\"ecoinvent-3.9.1-biosphere\", fields=[\"name\", \"categories\"])\n",
    "i.statistics()"
   ]
  },
  {
   "cell_type": "code",
   "execution_count": 40,
   "id": "c441b188-b072-4b94-a1ff-cb2c116d2f8d",
   "metadata": {},
   "outputs": [
    {
     "name": "stdout",
     "output_type": "stream",
     "text": [
      "[{'name': 'Placeholder', 'amount': 2.4, 'location': 'Placeholder', 'unit': 'kilogram', 'categories': ('Materials/fuels',), 'type': 'technosphere', 'uncertainty type': 2, 'loc': 0.8754687373538999, 'scale': 0.07421000255913658, 'comment': '(2,4,3,1,2,na)Given as \"Arsenic trioxide, 99%\" in Mohr et al.Only included here with an empty process as a placeholder for further iteration.', 'negative': 0, 'product': 'arsenic trioxide, 99%', 'reference product': 'arsenic trioxide, 99%', 'simapro name': 'Arsenic trioxide, 99% {Placeholder} | Placeholder | Placeholder'}]\n"
     ]
    }
   ],
   "source": [
    "print(list(i.unlinked))"
   ]
  },
  {
   "cell_type": "code",
   "execution_count": null,
   "id": "6900975c-dc3c-47a0-bd46-005092ddff99",
   "metadata": {},
   "outputs": [],
   "source": []
  },
  {
   "cell_type": "code",
   "execution_count": null,
   "id": "c8812e64-6e58-4255-bbe7-7a5ad52cd7ed",
   "metadata": {},
   "outputs": [],
   "source": []
  },
  {
   "cell_type": "code",
   "execution_count": null,
   "id": "6fc17f8a-fcd8-4d88-8d71-da620aa559cf",
   "metadata": {},
   "outputs": [],
   "source": [
    "from ecoinvent_migrate import *\n",
    "filepath = generate_biosphere_mapping(\"3.9.1\", \"3.10\")"
   ]
  },
  {
   "cell_type": "code",
   "execution_count": null,
   "id": "c906026c-b149-4129-8fb6-971becec94d5",
   "metadata": {},
   "outputs": [],
   "source": [
    "from ecoinvent_migrate import *\n",
    "filepath = generate_biosphere_mapping(\"3.9.1\", \"3.10\")"
   ]
  },
  {
   "cell_type": "code",
   "execution_count": null,
   "id": "705bead1-21a6-43cf-b102-6e071f913470",
   "metadata": {},
   "outputs": [],
   "source": [
    "from ecoinvent_migrate import *\n",
    "filepath = generate_biosphere_mapping(\"3.10.1\", \"3.11\")"
   ]
  },
  {
   "cell_type": "code",
   "execution_count": 1,
   "id": "3efd26d2-4724-4e82-bbf2-c117357d1dfd",
   "metadata": {},
   "outputs": [
    {
     "data": {
      "text/plain": [
       "'0.5'"
      ]
     },
     "execution_count": 1,
     "metadata": {},
     "output_type": "execute_result"
    }
   ],
   "source": [
    "from ecoinvent_migrate import __version__\n",
    "__version__"
   ]
  },
  {
   "cell_type": "code",
   "execution_count": 22,
   "id": "62a08082-9cb8-41ef-bb92-ffddaa61c32e",
   "metadata": {},
   "outputs": [],
   "source": [
    "import ecoinvent_migrate"
   ]
  },
  {
   "cell_type": "code",
   "execution_count": null,
   "id": "7a5e3c21-e120-4fee-a4c9-74e8e153d2fb",
   "metadata": {},
   "outputs": [],
   "source": [
    "ecoinvent_migrate."
   ]
  },
  {
   "cell_type": "code",
   "execution_count": 1,
   "id": "afcb9936-a21b-4a2c-8b53-f55411d1fb12",
   "metadata": {},
   "outputs": [
    {
     "name": "stderr",
     "output_type": "stream",
     "text": [
      "\u001b[32m2025-01-30 12:44:17.567\u001b[0m | \u001b[1mINFO    \u001b[0m | \u001b[36mecoinvent_migrate.utils\u001b[0m:\u001b[36mconfigure_logs\u001b[0m:\u001b[36m18\u001b[0m - \u001b[1mWriting logs to /Users/romain/Library/Logs/ecoinvent_migrate/2025-01-30T12-44-17\u001b[0m\n",
      "\u001b[32m2025-01-30 12:44:18.747\u001b[0m | \u001b[1mINFO    \u001b[0m | \u001b[36mecoinvent_migrate.main\u001b[0m:\u001b[36mget_change_report_context\u001b[0m:\u001b[36m61\u001b[0m - \u001b[1mVersions available for this license: ['3.11', '3.10.1', '3.10', '3.9.1', '3.9', '3.8', '3.7.1', '3.7', '3.6', '3.5', '3.4', '3.3', '3.2', '3.1', '3.01', '2']\u001b[0m\n",
      "\u001b[32m2025-01-30 12:44:19.618\u001b[0m | \u001b[1mINFO    \u001b[0m | \u001b[36mecoinvent_migrate.main\u001b[0m:\u001b[36mget_change_report_context\u001b[0m:\u001b[36m74\u001b[0m - \u001b[1mUsing change report annex file Change Report Annex v3.10.1 - v3.11.xlsx\u001b[0m\n",
      "\u001b[32m2025-01-30 12:44:24.061\u001b[0m | \u001b[1mINFO    \u001b[0m | \u001b[36mecoinvent_migrate.data_io\u001b[0m:\u001b[36mget_brightway_databases\u001b[0m:\u001b[36m113\u001b[0m - \u001b[1mLoading source database ecoinvent-3.10.1-cutoff to cache data attributes\u001b[0m\n",
      "\u001b[32m2025-01-30 12:44:25.124\u001b[0m | \u001b[1mINFO    \u001b[0m | \u001b[36mecoinvent_migrate.data_io\u001b[0m:\u001b[36mget_brightway_databases\u001b[0m:\u001b[36m118\u001b[0m - \u001b[1mLoading target database ecoinvent-3.11-cutoff to cache data attributes\u001b[0m\n",
      "\u001b[32m2025-01-30 12:44:26.506\u001b[0m | \u001b[33m\u001b[1mWARNING \u001b[0m | \u001b[36mecoinvent_migrate.wrangling\u001b[0m:\u001b[36mresolve_glo_row_rer_roe\u001b[0m:\u001b[36m221\u001b[0m - \u001b[33m\u001b[1mTarget process given in change report but missing in ecoinvent-3.11-cutoff lookup: {'name': 'market for straw', 'location': 'RER', 'reference product': 'straw', 'unit': 'kg'}\u001b[0m\n",
      "\u001b[32m2025-01-30 12:44:26.554\u001b[0m | \u001b[33m\u001b[1mWARNING \u001b[0m | \u001b[36mecoinvent_migrate.wrangling\u001b[0m:\u001b[36mresolve_glo_row_rer_roe\u001b[0m:\u001b[36m221\u001b[0m - \u001b[33m\u001b[1mTarget process given in change report but missing in ecoinvent-3.11-cutoff lookup: {'name': 'pelletising of polyethylene, high density', 'location': 'RER', 'reference product': 'polyethylene, high density, flakes, recycled', 'unit': 'kg'}\u001b[0m\n",
      "\u001b[32m2025-01-30 12:44:26.555\u001b[0m | \u001b[33m\u001b[1mWARNING \u001b[0m | \u001b[36mecoinvent_migrate.wrangling\u001b[0m:\u001b[36mresolve_glo_row_rer_roe\u001b[0m:\u001b[36m221\u001b[0m - \u001b[33m\u001b[1mTarget process given in change report but missing in ecoinvent-3.11-cutoff lookup: {'name': 'pelletising of polyethylene, high density', 'location': 'RER', 'reference product': 'polyethylene, high density, flakes, recycled', 'unit': 'kg'}\u001b[0m\n",
      "\u001b[32m2025-01-30 12:44:26.556\u001b[0m | \u001b[33m\u001b[1mWARNING \u001b[0m | \u001b[36mecoinvent_migrate.wrangling\u001b[0m:\u001b[36mresolve_glo_row_rer_roe\u001b[0m:\u001b[36m221\u001b[0m - \u001b[33m\u001b[1mTarget process given in change report but missing in ecoinvent-3.11-cutoff lookup: {'name': 'pelletising of polyethylene terephthalate', 'location': 'RER', 'reference product': 'polyethylene terephthalate, flakes, recycled', 'unit': 'kg'}\u001b[0m\n",
      "\u001b[32m2025-01-30 12:44:26.556\u001b[0m | \u001b[33m\u001b[1mWARNING \u001b[0m | \u001b[36mecoinvent_migrate.wrangling\u001b[0m:\u001b[36mresolve_glo_row_rer_roe\u001b[0m:\u001b[36m221\u001b[0m - \u001b[33m\u001b[1mTarget process given in change report but missing in ecoinvent-3.11-cutoff lookup: {'name': 'pelletising of polyethylene terephthalate', 'location': 'RER', 'reference product': 'polyethylene terephthalate, flakes, recycled', 'unit': 'kg'}\u001b[0m\n",
      "\u001b[32m2025-01-30 12:44:26.557\u001b[0m | \u001b[33m\u001b[1mWARNING \u001b[0m | \u001b[36mecoinvent_migrate.wrangling\u001b[0m:\u001b[36mresolve_glo_row_rer_roe\u001b[0m:\u001b[36m221\u001b[0m - \u001b[33m\u001b[1mTarget process given in change report but missing in ecoinvent-3.11-cutoff lookup: {'name': 'pelletising of polyethylene terephthalate, food grade', 'location': 'RER', 'reference product': 'polyethylene terephthalate, flakes, food grade, recycled', 'unit': 'kg'}\u001b[0m\n",
      "\u001b[32m2025-01-30 12:44:27.475\u001b[0m | \u001b[1mINFO    \u001b[0m | \u001b[36mecoinvent_migrate.main\u001b[0m:\u001b[36mgenerate_technosphere_mapping\u001b[0m:\u001b[36m189\u001b[0m - \u001b[1mWriting output file /Users/romain/Library/Application Support/ecoinvent_migrate/ecoinvent-3.10.1-cutoff-ecoinvent-3.11-cutoff.json\u001b[0m\n"
     ]
    }
   ],
   "source": [
    "from ecoinvent_migrate import *\n",
    "filepath = generate_technosphere_mapping(\"3.10.1\", \"3.11\")"
   ]
  },
  {
   "cell_type": "code",
   "execution_count": null,
   "id": "dd650977-8085-47b1-99c3-af67f1b83933",
   "metadata": {},
   "outputs": [],
   "source": []
  }
 ],
 "metadata": {
  "kernelspec": {
   "display_name": "Python 3 (ipykernel)",
   "language": "python",
   "name": "python3"
  },
  "language_info": {
   "codemirror_mode": {
    "name": "ipython",
    "version": 3
   },
   "file_extension": ".py",
   "mimetype": "text/x-python",
   "name": "python",
   "nbconvert_exporter": "python",
   "pygments_lexer": "ipython3",
   "version": "3.11.11"
  }
 },
 "nbformat": 4,
 "nbformat_minor": 5
}
