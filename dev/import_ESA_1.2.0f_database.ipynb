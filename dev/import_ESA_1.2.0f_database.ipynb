{
 "cells": [
  {
   "cell_type": "code",
   "execution_count": 25,
   "id": "f50d7b87-859f-409f-aad2-a1cfce899760",
   "metadata": {},
   "outputs": [
    {
     "name": "stdout",
     "output_type": "stream",
     "text": [
      "Extracted 769 unallocated datasets in 0.46 seconds\n",
      "Applying strategy: normalize_units\n",
      "Applying strategy: update_ecoinvent_locations\n",
      "Applying strategy: assign_only_product_as_production\n",
      "Applying strategy: drop_unspecified_subcategories\n",
      "Applying strategy: sp_allocate_products\n",
      "Applying strategy: fix_zero_allocation_products\n",
      "Applying strategy: split_simapro_name_geo\n",
      "Applying strategy: strip_biosphere_exc_locations\n",
      "Applying strategy: migrate_datasets\n",
      "Applying strategy: migrate_exchanges\n",
      "Applying strategy: set_code_by_activity_hash\n",
      "Applying strategy: link_technosphere_based_on_name_unit_location\n",
      "Applying strategy: change_electricity_unit_mj_to_kwh\n",
      "Applying strategy: set_lognormal_loc_value_uncertainty_safe\n",
      "Applying strategy: normalize_biosphere_categories\n",
      "Applying strategy: normalize_simapro_biosphere_categories\n",
      "Applying strategy: normalize_biosphere_names\n",
      "Applying strategy: normalize_simapro_biosphere_names\n",
      "Applying strategy: migrate_exchanges\n",
      "Applying strategy: fix_localized_water_flows\n",
      "Applying strategy: link_iterable_by_fields\n",
      "Applying strategy: convert_activity_parameters_to_list\n",
      "Applied 22 strategies in 3.48 seconds\n"
     ]
    }
   ],
   "source": [
    "import bw2io\n",
    "from pathlib import Path\n",
    "import bw2data\n",
    "from brightpath import SimaproConverter\n",
    "fp=\"ESA db/ESA_LCA_DB_1.2.0f_e3.9.1_-_EXTERNAL_csv_original.CSV\"\n",
    "bw2data.projects.set_current(\"ecoinvent-3.9.1-cutoff\")\n",
    "c = SimaproConverter(fp, ecoinvent_version=\"3.9\")"
   ]
  },
  {
   "cell_type": "code",
   "execution_count": 26,
   "id": "59f94943-c16b-41f9-abc2-d4ec642fecaf",
   "metadata": {},
   "outputs": [
    {
     "name": "stdout",
     "output_type": "stream",
     "text": [
      "- format exchanges\n",
      "- remove empty datasets\n",
      "- remove empty exchanges\n",
      "- check inventories\n",
      "Done!\n"
     ]
    }
   ],
   "source": [
    "c.convert_to_brightway()"
   ]
  },
  {
   "cell_type": "code",
   "execution_count": 9,
   "id": "d3bf92c6-91ad-4546-bbd3-79d9456cdc86",
   "metadata": {},
   "outputs": [],
   "source": [
    "# if links to EI 35\n",
    "#c.i.data = bw2io.strategies.migrate_exchanges(\n",
    "#    db=c.i.data,\n",
    "#    migration=\"ESA-ei-3.5\"\n",
    "#)"
   ]
  },
  {
   "cell_type": "code",
   "execution_count": 28,
   "id": "ade1bc8a-8a84-4670-82bc-d8e71fd89d3c",
   "metadata": {},
   "outputs": [
    {
     "name": "stdout",
     "output_type": "stream",
     "text": [
      "Applying strategy: link_iterable_by_fields\n",
      "Applying strategy: link_iterable_by_fields\n",
      "Applying strategy: link_iterable_by_fields\n"
     ]
    }
   ],
   "source": [
    "c.i.match_database(fields=[\"name\", \"reference product\", \"location\"])\n",
    "c.i.match_database(\"ecoinvent-3.9.1-cutoff\", fields=[\"name\", \"reference product\", \"location\"])\n",
    "c.i.match_database(\"ecoinvent-3.9.1-biosphere\", fields=[\"name\", \"categories\"])"
   ]
  },
  {
   "cell_type": "code",
   "execution_count": 29,
   "id": "b586e97a-0d58-4019-ad0f-84dca4bb1b09",
   "metadata": {},
   "outputs": [
    {
     "name": "stdout",
     "output_type": "stream",
     "text": [
      "774 datasets\n",
      "31787 exchanges\n",
      "2638 unlinked exchanges\n",
      "  Type biosphere: 473 unique unlinked exchanges\n",
      "  Type technosphere: 14 unique unlinked exchanges\n"
     ]
    },
    {
     "data": {
      "text/plain": [
       "(774, 31787, 2638)"
      ]
     },
     "execution_count": 29,
     "metadata": {},
     "output_type": "execute_result"
    }
   ],
   "source": [
    "c.i.statistics()"
   ]
  },
  {
   "cell_type": "code",
   "execution_count": 6,
   "id": "9ffd87f7-6c6a-4208-83c9-6a5f9b146828",
   "metadata": {},
   "outputs": [
    {
     "name": "stdout",
     "output_type": "stream",
     "text": [
      "Applying strategy: drop_unlinked\n",
      "Applied 1 strategies in 0.03 seconds\n"
     ]
    },
    {
     "name": "stderr",
     "output_type": "stream",
     "text": [
      "Writing activities to SQLite3 database:\n",
      "0% [##############################] 100% | ETA: 00:00:00\n",
      "Total time elapsed: 00:00:02\n"
     ]
    },
    {
     "name": "stdout",
     "output_type": "stream",
     "text": [
      "Title: Writing activities to SQLite3 database:\n",
      "  Started: 01/29/2025 14:08:35\n",
      "  Finished: 01/29/2025 14:08:38\n",
      "  Total time elapsed: 00:00:02\n",
      "  CPU %: 99.40\n",
      "  Memory %: 2.53\n",
      "Created database: esa lca db v1.1.8 export_edited\n"
     ]
    },
    {
     "data": {
      "text/plain": [
       "Brightway2 SQLiteBackend: esa lca db v1.1.8 export_edited"
      ]
     },
     "execution_count": 6,
     "metadata": {},
     "output_type": "execute_result"
    }
   ],
   "source": [
    "c.i.drop_unlinked(i_am_reckless=True)\n",
    "if c.i.db_name in bw2data.databases:\n",
    "    del bw2data.databases[c.i.db_name]\n",
    "c.i.write_database()"
   ]
  },
  {
   "cell_type": "code",
   "execution_count": 30,
   "id": "dbe8031d-afef-4df5-965b-fe3c8d2c76c5",
   "metadata": {},
   "outputs": [],
   "source": [
    "# this is to build a migration file\n",
    "migration = {\n",
    "    \"fields\": [\"name\", \"reference product\", \"location\", ],\n",
    "}\n",
    "\n",
    "migration[\"data\"] = [\n",
    "    (\n",
    "        (u[\"name\"], u[\"reference product\"], u[\"location\"], ),\n",
    "        {}\n",
    "    )\n",
    "    for u in c.i.unlinked\n",
    "    if u[\"type\"] == \"technosphere\"\n",
    "]"
   ]
  },
  {
   "cell_type": "code",
   "execution_count": 9,
   "id": "71a380ec-3b8a-453f-88a6-7674ce5e5be7",
   "metadata": {},
   "outputs": [],
   "source": [
    "import json\n",
    "with open(\"ESA-ei-3.5_migration.json\", 'w') as fp:\n",
    "    json.dump(migration, fp, indent=2)"
   ]
  },
  {
   "cell_type": "code",
   "execution_count": 10,
   "id": "2c212578-bfb8-4499-b638-b954acde015e",
   "metadata": {},
   "outputs": [],
   "source": [
    "with open(\"ESA-ei-3.5_migration.json\") as f_in:\n",
    "    migration = json.load(f_in)"
   ]
  },
  {
   "cell_type": "code",
   "execution_count": 32,
   "id": "63369eae-c3f8-4449-b0b8-71ed56b32c3c",
   "metadata": {},
   "outputs": [],
   "source": [
    "import pandas as pd\n",
    "pd.DataFrame.from_dict(c.i.unlinked)[[\"name\", \"reference product\", \"location\", \"categories\", \"unit\", \"simapro name\", \"type\"]].to_excel(\"unlinked_exchanges.xlsx\")"
   ]
  },
  {
   "cell_type": "code",
   "execution_count": null,
   "id": "24edf4f9-e530-4228-af2f-2c99d4888781",
   "metadata": {},
   "outputs": [],
   "source": []
  }
 ],
 "metadata": {
  "kernelspec": {
   "display_name": "Python 3 (ipykernel)",
   "language": "python",
   "name": "python3"
  },
  "language_info": {
   "codemirror_mode": {
    "name": "ipython",
    "version": 3
   },
   "file_extension": ".py",
   "mimetype": "text/x-python",
   "name": "python",
   "nbconvert_exporter": "python",
   "pygments_lexer": "ipython3",
   "version": "3.11.11"
  }
 },
 "nbformat": 4,
 "nbformat_minor": 5
}
