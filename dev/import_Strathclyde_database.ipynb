{
 "cells": [
  {
   "cell_type": "code",
   "execution_count": 1,
   "id": "f50d7b87-859f-409f-aad2-a1cfce899760",
   "metadata": {},
   "outputs": [
    {
     "name": "stdout",
     "output_type": "stream",
     "text": [
      "Extracted 992 unallocated datasets in 0.51 seconds\n",
      "Applying strategy: normalize_units\n",
      "Applying strategy: update_ecoinvent_locations\n",
      "Applying strategy: assign_only_product_as_production\n",
      "Applying strategy: drop_unspecified_subcategories\n",
      "Applying strategy: sp_allocate_products\n",
      "Applying strategy: fix_zero_allocation_products\n",
      "Applying strategy: split_simapro_name_geo\n",
      "Applying strategy: strip_biosphere_exc_locations\n",
      "Applying strategy: migrate_datasets\n",
      "Applying strategy: migrate_exchanges\n",
      "Applying strategy: set_code_by_activity_hash\n",
      "Applying strategy: link_technosphere_based_on_name_unit_location\n",
      "Applying strategy: change_electricity_unit_mj_to_kwh\n",
      "Applying strategy: set_lognormal_loc_value_uncertainty_safe\n",
      "Applying strategy: normalize_biosphere_categories\n",
      "Applying strategy: normalize_simapro_biosphere_categories\n",
      "Applying strategy: normalize_biosphere_names\n",
      "Applying strategy: normalize_simapro_biosphere_names\n",
      "Applying strategy: migrate_exchanges\n",
      "Applying strategy: fix_localized_water_flows\n",
      "Applying strategy: link_iterable_by_fields\n",
      "Applying strategy: convert_activity_parameters_to_list\n",
      "Applied 22 strategies in 3.07 seconds\n"
     ]
    }
   ],
   "source": [
    "import bw2io\n",
    "from pathlib import Path\n",
    "import bw2data\n",
    "from brightpath import SimaproConverter\n",
    "# Simapro CSV file\n",
    "fp=\"Strathclyde db/strathclyde_space_systems_database_1_0_3.csv\"\n",
    "bw2data.projects.set_current(\"ecoinvent-3.9.1-cutoff\")\n",
    "c = SimaproConverter(fp, ecoinvent_version=\"3.9\")"
   ]
  },
  {
   "cell_type": "code",
   "execution_count": 2,
   "id": "59f94943-c16b-41f9-abc2-d4ec642fecaf",
   "metadata": {},
   "outputs": [
    {
     "name": "stdout",
     "output_type": "stream",
     "text": [
      "- format exchanges\n",
      "- remove empty datasets\n",
      "- remove empty exchanges\n",
      "- check inventories\n",
      "Done!\n"
     ]
    }
   ],
   "source": [
    "# brightpath function\n",
    "c.convert_to_brightway()"
   ]
  },
  {
   "cell_type": "code",
   "execution_count": 3,
   "id": "d3bf92c6-91ad-4546-bbd3-79d9456cdc86",
   "metadata": {},
   "outputs": [],
   "source": [
    "# apply migration file previosuly generated\n",
    "c.i.data = bw2io.strategies.migrate_exchanges(\n",
    "   db=c.i.data,\n",
    "   migration=\"SSSD-ei-3.9_migration\"\n",
    ")"
   ]
  },
  {
   "cell_type": "code",
   "execution_count": 4,
   "id": "ade1bc8a-8a84-4670-82bc-d8e71fd89d3c",
   "metadata": {},
   "outputs": [
    {
     "name": "stdout",
     "output_type": "stream",
     "text": [
      "Applying strategy: link_iterable_by_fields\n",
      "Applying strategy: link_iterable_by_fields\n",
      "Applying strategy: link_iterable_by_fields\n"
     ]
    }
   ],
   "source": [
    "c.i.match_database(fields=[\"name\", \"reference product\", \"location\"])\n",
    "c.i.match_database(\"ecoinvent-3.9.1-cutoff\", fields=[\"name\", \"reference product\", \"location\"])\n",
    "c.i.match_database(\"ecoinvent-3.9.1-biosphere\", fields=[\"name\", \"categories\"])"
   ]
  },
  {
   "cell_type": "code",
   "execution_count": 5,
   "id": "b586e97a-0d58-4019-ad0f-84dca4bb1b09",
   "metadata": {},
   "outputs": [
    {
     "name": "stdout",
     "output_type": "stream",
     "text": [
      "1048 datasets\n",
      "8494 exchanges\n",
      "803 unlinked exchanges\n",
      "  Type biosphere: 259 unique unlinked exchanges\n",
      "  Type technosphere: 4 unique unlinked exchanges\n"
     ]
    },
    {
     "data": {
      "text/plain": [
       "(1048, 8494, 803)"
      ]
     },
     "execution_count": 5,
     "metadata": {},
     "output_type": "execute_result"
    }
   ],
   "source": [
    "# unlinked exchanges are fine to be dropped\n",
    "# must revise the migration file otherwise\n",
    "c.i.statistics()"
   ]
  },
  {
   "cell_type": "code",
   "execution_count": 7,
   "id": "9ffd87f7-6c6a-4208-83c9-6a5f9b146828",
   "metadata": {},
   "outputs": [
    {
     "name": "stdout",
     "output_type": "stream",
     "text": [
      "Applying strategy: drop_unlinked\n",
      "Applied 1 strategies in 0.01 seconds\n"
     ]
    },
    {
     "name": "stderr",
     "output_type": "stream",
     "text": [
      "Writing activities to SQLite3 database:\n",
      "0% [##############################] 100% | ETA: 00:00:00\n",
      "Total time elapsed: 00:00:00\n"
     ]
    },
    {
     "name": "stdout",
     "output_type": "stream",
     "text": [
      "Title: Writing activities to SQLite3 database:\n",
      "  Started: 01/29/2025 17:35:24\n",
      "  Finished: 01/29/2025 17:35:24\n",
      "  Total time elapsed: 00:00:00\n",
      "  CPU %: 90.10\n",
      "  Memory %: 0.82\n",
      "Created database: strathclyde_space_systems_database_1_0_3\n"
     ]
    },
    {
     "data": {
      "text/plain": [
       "Brightway2 SQLiteBackend: strathclyde_space_systems_database_1_0_3"
      ]
     },
     "execution_count": 7,
     "metadata": {},
     "output_type": "execute_result"
    }
   ],
   "source": [
    "c.i.drop_unlinked(i_am_reckless=True)\n",
    "if c.i.db_name in bw2data.databases:\n",
    "    del bw2data.databases[c.i.db_name]\n",
    "#c.i.write_database()"
   ]
  },
  {
   "cell_type": "code",
   "execution_count": 8,
   "id": "7b08833c-b997-4d08-bd48-a15720c7614a",
   "metadata": {},
   "outputs": [
    {
     "data": {
      "text/plain": [
       "'/Users/romain/Library/Application Support/Brightway3/ecoinvent-391-cutoff.fa1f817c134dcb954f38875dca138721/output/lci-strathclyde_space_systems_database_1_0_3.xlsx'"
      ]
     },
     "execution_count": 8,
     "metadata": {},
     "output_type": "execute_result"
    }
   ],
   "source": [
    "# export back to Brightway's Excel format\n",
    "bw2io.export.write_lci_excel(\"strathclyde_space_systems_database_1_0_3\")"
   ]
  },
  {
   "cell_type": "code",
   "execution_count": 5,
   "id": "dbe8031d-afef-4df5-965b-fe3c8d2c76c5",
   "metadata": {},
   "outputs": [],
   "source": [
    "# this is to build a migration file from teh previous import attempt\n",
    "migration = {\n",
    "    \"fields\": [\"name\", \"reference product\", \"location\", ],\n",
    "}\n",
    "\n",
    "migration[\"data\"] = [\n",
    "    (\n",
    "        (u[\"name\"], u[\"reference product\"], u[\"location\"], ),\n",
    "        {}\n",
    "    )\n",
    "    for u in c.i.unlinked\n",
    "    if u[\"type\"] == \"technosphere\"\n",
    "]"
   ]
  },
  {
   "cell_type": "code",
   "execution_count": 6,
   "id": "71a380ec-3b8a-453f-88a6-7674ce5e5be7",
   "metadata": {},
   "outputs": [],
   "source": [
    "# save migration file to json\n",
    "import json\n",
    "with open(\"SSSD-ei-3.9_migration.json\", 'w') as fp:\n",
    "    json.dump(migration, fp, indent=2)"
   ]
  },
  {
   "cell_type": "code",
   "execution_count": 9,
   "id": "2c212578-bfb8-4499-b638-b954acde015e",
   "metadata": {},
   "outputs": [],
   "source": [
    "# load it back after populating it\n",
    "import json\n",
    "with open(\"SSSD-ei-3.9_migration.json\") as f_in:\n",
    "    migration = json.load(f_in)"
   ]
  },
  {
   "cell_type": "code",
   "execution_count": 10,
   "id": "c78a8192-0739-4cd1-add3-69c37d5cbd2e",
   "metadata": {},
   "outputs": [],
   "source": [
    "# register to migration file\n",
    "bw2io.Migration(name=\"SSSD-ei-3.9_migration\").write(data=migration, description=\"SSSD-ei-3.9_migration\")"
   ]
  },
  {
   "cell_type": "code",
   "execution_count": 5,
   "id": "24edf4f9-e530-4228-af2f-2c99d4888781",
   "metadata": {},
   "outputs": [],
   "source": [
    "# we try to import now the Excel export for ei 3.9 \n",
    "# to link it to ei 3.10\n",
    "import bw2io\n",
    "from pathlib import Path\n",
    "import bw2data\n",
    "from brightpath import SimaproConverter\n",
    "fp=\"lci-SSSD_1.0.3_ei391.xlsx\"\n",
    "bw2data.projects.set_current(\"ecoinvent-3.10-cutoff\")"
   ]
  },
  {
   "cell_type": "code",
   "execution_count": 6,
   "id": "6411b844-a640-46e8-a12d-60ae1632cd3e",
   "metadata": {},
   "outputs": [
    {
     "name": "stdout",
     "output_type": "stream",
     "text": [
      "Extracted 1 worksheets in 0.62 seconds\n"
     ]
    }
   ],
   "source": [
    "i = bw2io.ExcelImporter(fp)"
   ]
  },
  {
   "cell_type": "code",
   "execution_count": 7,
   "id": "ac0ac280-2b26-4864-87d4-e4f47f40ddc5",
   "metadata": {},
   "outputs": [
    {
     "name": "stdout",
     "output_type": "stream",
     "text": [
      "Applying strategy: csv_restore_tuples\n",
      "Applying strategy: csv_restore_booleans\n",
      "Applying strategy: csv_numerize\n",
      "Applying strategy: csv_drop_unknown\n",
      "Applying strategy: csv_add_missing_exchanges_section\n",
      "Applying strategy: normalize_units\n",
      "Applying strategy: normalize_biosphere_categories\n",
      "Applying strategy: normalize_biosphere_names\n",
      "Applying strategy: strip_biosphere_exc_locations\n",
      "Applying strategy: set_code_by_activity_hash\n",
      "Applying strategy: link_iterable_by_fields\n",
      "Applying strategy: assign_only_product_as_production\n",
      "Applying strategy: link_technosphere_by_activity_hash\n",
      "Applying strategy: drop_falsey_uncertainty_fields_but_keep_zeros\n",
      "Applying strategy: convert_uncertainty_types_to_integers\n",
      "Applying strategy: convert_activity_parameters_to_list\n",
      "Applied 16 strategies in 3.19 seconds\n"
     ]
    }
   ],
   "source": [
    "i.apply_strategies()"
   ]
  },
  {
   "cell_type": "code",
   "execution_count": 8,
   "id": "e285e3c7-7c55-4c1c-ab4d-99a0b4177e31",
   "metadata": {},
   "outputs": [
    {
     "name": "stdout",
     "output_type": "stream",
     "text": [
      "Applying strategy: link_iterable_by_fields\n",
      "Applying strategy: link_iterable_by_fields\n",
      "Applying strategy: link_iterable_by_fields\n"
     ]
    }
   ],
   "source": [
    "i.match_database(fields=[\"name\", \"reference product\", \"location\"])\n",
    "i.match_database(\"ecoinvent-3.10-cutoff\", fields=[\"name\", \"reference product\", \"location\"])\n",
    "i.match_database(\"ecoinvent-3.10-biosphere\", fields=[\"name\", \"categories\"])"
   ]
  },
  {
   "cell_type": "code",
   "execution_count": 9,
   "id": "0397fb6f-913c-41c7-9e8a-90ebfee4674f",
   "metadata": {},
   "outputs": [
    {
     "name": "stdout",
     "output_type": "stream",
     "text": [
      "1047 datasets\n",
      "7690 exchanges\n",
      "173 unlinked exchanges\n",
      "  Type biosphere: 145 unique unlinked exchanges\n",
      "  Type technosphere: 1 unique unlinked exchanges\n"
     ]
    },
    {
     "data": {
      "text/plain": [
       "(1047, 7690, 173)"
      ]
     },
     "execution_count": 9,
     "metadata": {},
     "output_type": "execute_result"
    }
   ],
   "source": [
    "i.statistics()"
   ]
  },
  {
   "cell_type": "code",
   "execution_count": 10,
   "id": "8c2e57c3-0a6c-4d67-b7e5-c7f866fc7379",
   "metadata": {},
   "outputs": [
    {
     "data": {
      "text/plain": [
       "[{'name': 'market for sodium hydroxide, without water, in 50% solution state',\n",
       "  'amount': 0.698,\n",
       "  'location': 'GLO',\n",
       "  'unit': 'kilogram',\n",
       "  'categories': ('Materials/fuels',),\n",
       "  'type': 'technosphere',\n",
       "  'uncertainty type': 0,\n",
       "  'loc': 0.698,\n",
       "  'comment': 'Material Input: Sodium hydroxide',\n",
       "  'product': 'sodium hydroxide, 50% in H2O, production mix, at plant',\n",
       "  'reference product': 'sodium hydroxide, without water, in 50% solution state',\n",
       "  'simapro name': 'sodium hydroxide, 50% in H2O, production mix, at plant {RER}'}]"
      ]
     },
     "execution_count": 10,
     "metadata": {},
     "output_type": "execute_result"
    }
   ],
   "source": [
    "# onle one technosphere exchange unlink\n",
    "[u for u in i.unlinked if u[\"type\"] == \"technosphere\"]"
   ]
  },
  {
   "cell_type": "code",
   "execution_count": 11,
   "id": "a2bdeaa3-e4a8-4b4c-b4b3-55e78b10b282",
   "metadata": {},
   "outputs": [],
   "source": [
    "# we use a migration file generated by bw_ecoinvent_migrations\n",
    "import json\n",
    "with open(\"ecoinvent-3.9.1-cutoff-ecoinvent-3.10-cutoff.json\") as f_in:\n",
    "    migration = json.load(f_in)"
   ]
  },
  {
   "cell_type": "code",
   "execution_count": 12,
   "id": "440a7e09-b447-44b5-a8b0-becd2cb3fff1",
   "metadata": {},
   "outputs": [
    {
     "data": {
      "text/plain": [
       "183"
      ]
     },
     "execution_count": 12,
     "metadata": {},
     "output_type": "execute_result"
    }
   ],
   "source": [
    "migration = {\n",
    "    (\n",
    "        a[\"source\"][\"name\"],\n",
    "        a[\"source\"][\"reference product\"],\n",
    "        a[\"source\"][\"location\"],\n",
    "        #a[\"source\"][\"unit\"]\n",
    "    ): a[\"targets\"]\n",
    "    for a in migration[\"disaggregate\"]\n",
    "}\n",
    "len(migration)"
   ]
  },
  {
   "cell_type": "code",
   "execution_count": 13,
   "id": "0c6858bc-3c70-4ddd-850f-216061e130c8",
   "metadata": {},
   "outputs": [],
   "source": [
    "for act in i.data:\n",
    "    new_excs = []\n",
    "    for exc in act[\"exchanges\"]:\n",
    "        if exc[\"type\"] == \"technosphere\":\n",
    "            key = (\n",
    "                exc[\"name\"],\n",
    "                exc[\"reference product\"],\n",
    "                exc[\"location\"],\n",
    "                #exc[\"unit\"]\n",
    "            )\n",
    "            if key in migration:\n",
    "                for target in migration[key]:\n",
    "                    new_excs.append(\n",
    "                        {\n",
    "                            \"name\": target[\"name\"],\n",
    "                            \"reference product\": target[\"reference product\"],\n",
    "                            \"unit\": exc[\"unit\"],\n",
    "                            \"location\": target[\"location\"],\n",
    "                            \"uncertainty type\": exc.get(\"uncertainty type\", 0),\n",
    "                            \"loc\": exc.get(\"loc\", 0),\n",
    "                            \"scale\": exc.get(\"scale\", 0),\n",
    "                            \"amount\": exc[\"amount\"] * target[\"allocation\"],\n",
    "                            \"type\": \"technosphere\"\n",
    "                        }\n",
    "                    )\n",
    "                exc[\"delete\"] = True\n",
    "    if len(new_excs) > 0:\n",
    "        act[\"exchanges\"].extend(new_excs)\n",
    "    act[\"exchanges\"] = [e for e in act[\"exchanges\"] if e.get(\"delete\", False) is False]\n",
    "                "
   ]
  },
  {
   "cell_type": "code",
   "execution_count": 14,
   "id": "f0ea1dc5-89d4-435f-a217-50cdbe1045d7",
   "metadata": {},
   "outputs": [
    {
     "name": "stdout",
     "output_type": "stream",
     "text": [
      "Applying strategy: link_iterable_by_fields\n",
      "1047 datasets\n",
      "7694 exchanges\n",
      "169 unlinked exchanges\n",
      "  Type biosphere: 145 unique unlinked exchanges\n"
     ]
    },
    {
     "data": {
      "text/plain": [
       "(1047, 7694, 169)"
      ]
     },
     "execution_count": 14,
     "metadata": {},
     "output_type": "execute_result"
    }
   ],
   "source": [
    "# no more unlinked technosphere exchanges ≈\n",
    "i.match_database(\"ecoinvent-3.10-cutoff\", fields=[\"name\", \"reference product\", \"location\"])\n",
    "i.statistics()"
   ]
  },
  {
   "cell_type": "code",
   "execution_count": 15,
   "id": "008b48a2-1c4f-4229-8acb-f528295a3cc5",
   "metadata": {},
   "outputs": [],
   "source": [
    "# we load a migration file for biosphere flows\n",
    "import json\n",
    "with open(\"ecoinvent-3.9.1-biosphere-ecoinvent-3.10-biosphere.json\") as f_in:\n",
    "    migration = json.load(f_in)"
   ]
  },
  {
   "cell_type": "code",
   "execution_count": 16,
   "id": "4d7a802b-c445-444e-8b32-9e3dfc36a05e",
   "metadata": {},
   "outputs": [
    {
     "data": {
      "text/plain": [
       "486"
      ]
     },
     "execution_count": 16,
     "metadata": {},
     "output_type": "execute_result"
    }
   ],
   "source": [
    "migration = {\n",
    "    (\n",
    "        a[\"source\"][\"name\"],\n",
    "        #a[\"source\"][\"reference product\"],\n",
    "        #a[\"source\"][\"location\"],\n",
    "        #a[\"source\"][\"unit\"]\n",
    "    ): a[\"target\"]\n",
    "    for a in migration[\"replace\"]\n",
    "}\n",
    "len(migration)"
   ]
  },
  {
   "cell_type": "code",
   "execution_count": 17,
   "id": "6f747756-97f8-4cbd-b5c7-10d334b3bde8",
   "metadata": {},
   "outputs": [],
   "source": [
    "for act in i.data:\n",
    "    for exc in act[\"exchanges\"]:\n",
    "        if exc[\"type\"] == \"biosphere\":\n",
    "            key = (exc[\"name\"],)\n",
    "            if key in migration:\n",
    "                if \"name\" in migration[key]:\n",
    "                    exc[\"name\"] = migration[key][\"name\"]\n",
    "                exc[\"input\"] = (\"ecoinvent-3.10-biosphere\", migration[key][\"uuid\"])"
   ]
  },
  {
   "cell_type": "code",
   "execution_count": 18,
   "id": "99d09fa3-acd7-4c5a-b8fd-0b6ae4d9432b",
   "metadata": {},
   "outputs": [
    {
     "name": "stdout",
     "output_type": "stream",
     "text": [
      "Applying strategy: link_iterable_by_fields\n",
      "1047 datasets\n",
      "7694 exchanges\n",
      "0 unlinked exchanges\n",
      "  \n"
     ]
    },
    {
     "data": {
      "text/plain": [
       "(1047, 7694, 0)"
      ]
     },
     "execution_count": 18,
     "metadata": {},
     "output_type": "execute_result"
    }
   ],
   "source": [
    "i.match_database(\"ecoinvent-3.10-biosphere\", fields=[\"name\", \"categories\"])\n",
    "i.statistics()"
   ]
  },
  {
   "cell_type": "code",
   "execution_count": 19,
   "id": "6ed2912f-d9c4-452a-89c0-640f21b9a5a7",
   "metadata": {},
   "outputs": [
    {
     "name": "stderr",
     "output_type": "stream",
     "text": [
      "Writing activities to SQLite3 database:\n",
      "0% [##############################] 100% | ETA: 00:00:00\n",
      "Total time elapsed: 00:00:00\n"
     ]
    },
    {
     "name": "stdout",
     "output_type": "stream",
     "text": [
      "Title: Writing activities to SQLite3 database:\n",
      "  Started: 01/30/2025 10:46:04\n",
      "  Finished: 01/30/2025 10:46:04\n",
      "  Total time elapsed: 00:00:00\n",
      "  CPU %: 91.70\n",
      "  Memory %: 1.26\n",
      "Created database: strathclyde_space_systems_database_1_0_3\n"
     ]
    }
   ],
   "source": [
    "i.write_database()"
   ]
  },
  {
   "cell_type": "code",
   "execution_count": 20,
   "id": "1dad8c43-923f-4e6a-8833-3ac02d8951dc",
   "metadata": {},
   "outputs": [
    {
     "data": {
      "text/plain": [
       "'/Users/romain/Library/Application Support/Brightway3/ecoinvent-310-cutoff.83f3565fcb85bf5a57f44f5f1e703837/output/lci-strathclyde_space_systems_database_1_0_3.xlsx'"
      ]
     },
     "execution_count": 20,
     "metadata": {},
     "output_type": "execute_result"
    }
   ],
   "source": [
    "bw2io.export.write_lci_excel(\"strathclyde_space_systems_database_1_0_3\")"
   ]
  },
  {
   "cell_type": "code",
   "execution_count": null,
   "id": "0b159487-0a8f-4a6e-8cf4-72591a1cf01f",
   "metadata": {},
   "outputs": [],
   "source": []
  },
  {
   "cell_type": "code",
   "execution_count": 13,
   "id": "6e0d7af0-de54-4440-b6be-6f65d52da28a",
   "metadata": {},
   "outputs": [],
   "source": [
    "import bw2io\n",
    "from pathlib import Path\n",
    "import bw2data\n",
    "from brightpath import SimaproConverter\n",
    "fp=\"lci-SSSD_1_0_3_ei310.xlsx\"\n",
    "bw2data.projects.set_current(\"ecoinvent-3.11-cutoff\")"
   ]
  },
  {
   "cell_type": "code",
   "execution_count": 14,
   "id": "5f4f1bcb-6ab7-4ced-8af5-a91d1faaccc0",
   "metadata": {
    "scrolled": true
   },
   "outputs": [
    {
     "name": "stdout",
     "output_type": "stream",
     "text": [
      "Extracted 1 worksheets in 0.63 seconds\n",
      "Applying strategy: csv_restore_tuples\n",
      "Applying strategy: csv_restore_booleans\n",
      "Applying strategy: csv_numerize\n",
      "Applying strategy: csv_drop_unknown\n",
      "Applying strategy: csv_add_missing_exchanges_section\n",
      "Applying strategy: normalize_units\n",
      "Applying strategy: normalize_biosphere_categories\n",
      "Applying strategy: normalize_biosphere_names\n",
      "Applying strategy: strip_biosphere_exc_locations\n",
      "Applying strategy: set_code_by_activity_hash\n",
      "Applying strategy: link_iterable_by_fields\n",
      "Applying strategy: assign_only_product_as_production\n",
      "Applying strategy: link_technosphere_by_activity_hash\n",
      "Applying strategy: drop_falsey_uncertainty_fields_but_keep_zeros\n",
      "Applying strategy: convert_uncertainty_types_to_integers\n",
      "Applying strategy: convert_activity_parameters_to_list\n",
      "Applied 16 strategies in 0.30 seconds\n",
      "Applying strategy: link_iterable_by_fields\n",
      "Applying strategy: link_iterable_by_fields\n",
      "Applying strategy: link_iterable_by_fields\n",
      "Graph statistics for `strathclyde_space_systems_database_1_0_3` importer:\n",
      "1047 graph nodes:\n",
      "\tprocess: 1047\n",
      "7694 graph edges:\n",
      "\ttechnosphere: 5023\n",
      "\tbiosphere: 1624\n",
      "\tproduction: 1047\n",
      "7689 edges to the following databases:\n",
      "\tstrathclyde_space_systems_database_1_0_3: 6053\n",
      "\tbiosphere3: 1619\n",
      "\tecoinvent-3.11-cutoff: 17\n",
      "4 unique unlinked edges (5 total):\n",
      "\tbiosphere: 4\n",
      "\n",
      "\n"
     ]
    },
    {
     "data": {
      "text/plain": [
       "(1047, 7694, 5, 0)"
      ]
     },
     "execution_count": 14,
     "metadata": {},
     "output_type": "execute_result"
    }
   ],
   "source": [
    "i = bw2io.ExcelImporter(fp)\n",
    "i.apply_strategies()\n",
    "i.match_database(fields=[\"name\", \"reference product\", \"location\"])\n",
    "i.match_database(\"ecoinvent-3.11-cutoff\", fields=[\"name\", \"reference product\", \"location\"])\n",
    "i.match_database(\"biosphere3\", fields=[\"name\", \"categories\"])\n",
    "i.statistics()"
   ]
  },
  {
   "cell_type": "code",
   "execution_count": 15,
   "id": "4940a592-3e0f-4b19-8358-3997d63debd8",
   "metadata": {},
   "outputs": [],
   "source": [
    "import json\n",
    "with open(\"ecoinvent-3.10.1-biosphere-ecoinvent-3.11-biosphere.json\") as f_in:\n",
    "    migration = json.load(f_in)"
   ]
  },
  {
   "cell_type": "code",
   "execution_count": 16,
   "id": "0d12b5a7-db1e-4adb-93d6-6d80b3732490",
   "metadata": {},
   "outputs": [
    {
     "data": {
      "text/plain": [
       "12"
      ]
     },
     "execution_count": 16,
     "metadata": {},
     "output_type": "execute_result"
    }
   ],
   "source": [
    "migration = {\n",
    "    (\n",
    "        a[\"source\"][\"name\"],\n",
    "        #a[\"source\"][\"reference product\"],\n",
    "        #a[\"source\"][\"location\"],\n",
    "        #a[\"source\"][\"unit\"]\n",
    "    ): a[\"target\"]\n",
    "    for a in migration[\"replace\"]\n",
    "}\n",
    "len(migration)"
   ]
  },
  {
   "cell_type": "code",
   "execution_count": 17,
   "id": "4ae6056a-b378-49a5-8579-b7ab2931cecd",
   "metadata": {},
   "outputs": [
    {
     "name": "stdout",
     "output_type": "stream",
     "text": [
      "yes\n",
      "yes\n",
      "yes\n",
      "yes\n",
      "yes\n"
     ]
    }
   ],
   "source": [
    "for act in i.data:\n",
    "    for exc in act[\"exchanges\"]:\n",
    "        if exc[\"type\"] == \"biosphere\":\n",
    "            key = (exc[\"name\"],)\n",
    "            if key in migration:\n",
    "                if \"name\" in migration[key]:\n",
    "                    print(\"yes\")\n",
    "                    exc[\"name\"] = migration[key][\"name\"]\n",
    "                exc[\"input\"] = (\"biosphere3\", migration[key][\"uuid\"])"
   ]
  },
  {
   "cell_type": "code",
   "execution_count": 18,
   "id": "ee7dae75-46b6-4e04-b92e-5195c88bbbfc",
   "metadata": {},
   "outputs": [
    {
     "name": "stdout",
     "output_type": "stream",
     "text": [
      "Applying strategy: link_iterable_by_fields\n",
      "Graph statistics for `strathclyde_space_systems_database_1_0_3` importer:\n",
      "1047 graph nodes:\n",
      "\tprocess: 1047\n",
      "7694 graph edges:\n",
      "\ttechnosphere: 5023\n",
      "\tbiosphere: 1624\n",
      "\tproduction: 1047\n",
      "7694 edges to the following databases:\n",
      "\tstrathclyde_space_systems_database_1_0_3: 6053\n",
      "\tbiosphere3: 1624\n",
      "\tecoinvent-3.11-cutoff: 17\n",
      "0 unique unlinked edges (0 total):\n",
      "\n",
      "\n"
     ]
    },
    {
     "data": {
      "text/plain": [
       "(1047, 7694, 0, 0)"
      ]
     },
     "execution_count": 18,
     "metadata": {},
     "output_type": "execute_result"
    }
   ],
   "source": [
    "i.match_database(\"biosphere3\", fields=[\"name\", \"categories\"])\n",
    "i.statistics()"
   ]
  },
  {
   "cell_type": "code",
   "execution_count": 19,
   "id": "76596742-a9e2-46b3-86e5-80205d250afd",
   "metadata": {},
   "outputs": [
    {
     "name": "stdout",
     "output_type": "stream",
     "text": [
      "\u001b[2m13:04:29\u001b[0m [\u001b[33m\u001b[1mwarning  \u001b[0m] \u001b[1mNot able to determine geocollections for all datasets. This database is not ready for regionalization.\u001b[0m\n"
     ]
    },
    {
     "name": "stderr",
     "output_type": "stream",
     "text": [
      "100%|█████████████████████████████████████| 1047/1047 [00:00<00:00, 1522.21it/s]"
     ]
    },
    {
     "name": "stdout",
     "output_type": "stream",
     "text": [
      "\u001b[2m13:04:31\u001b[0m [\u001b[32m\u001b[1minfo     \u001b[0m] \u001b[1mVacuuming database            \u001b[0m\n"
     ]
    },
    {
     "name": "stderr",
     "output_type": "stream",
     "text": [
      "\n"
     ]
    },
    {
     "name": "stdout",
     "output_type": "stream",
     "text": [
      "Created database: strathclyde_space_systems_database_1_0_3\n"
     ]
    }
   ],
   "source": [
    "if i.db_name in bw2data.databases:\n",
    "    del bw2data.databases[i.db_name]\n",
    "i.write_database()"
   ]
  },
  {
   "cell_type": "code",
   "execution_count": 20,
   "id": "84100fac-1256-4d60-b6c9-7d33cbc7db98",
   "metadata": {},
   "outputs": [
    {
     "data": {
      "text/plain": [
       "'/Users/romain/Library/Application Support/Brightway3/ecoinvent-311-cutoff.48ac3d3e3f6866ef5f407f0df49b277a/output/lci-strathclyde_space_systems_database_1_0_3.xlsx'"
      ]
     },
     "execution_count": 20,
     "metadata": {},
     "output_type": "execute_result"
    }
   ],
   "source": [
    "bw2io.export.write_lci_excel(\"strathclyde_space_systems_database_1_0_3\")"
   ]
  },
  {
   "cell_type": "code",
   "execution_count": null,
   "id": "5cbc191d-425a-4181-9b98-d9dbb004fc62",
   "metadata": {},
   "outputs": [],
   "source": []
  }
 ],
 "metadata": {
  "kernelspec": {
   "display_name": "Python 3 (ipykernel)",
   "language": "python",
   "name": "python3"
  },
  "language_info": {
   "codemirror_mode": {
    "name": "ipython",
    "version": 3
   },
   "file_extension": ".py",
   "mimetype": "text/x-python",
   "name": "python",
   "nbconvert_exporter": "python",
   "pygments_lexer": "ipython3",
   "version": "3.11.11"
  }
 },
 "nbformat": 4,
 "nbformat_minor": 5
}
