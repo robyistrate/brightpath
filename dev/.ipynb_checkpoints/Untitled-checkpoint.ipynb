{
 "cells": [
  {
   "cell_type": "code",
   "execution_count": 1,
   "id": "6d93e33a-b89e-4e56-bfb7-5a8a0a232053",
   "metadata": {},
   "outputs": [],
   "source": [
    "import brightpath"
   ]
  },
  {
   "cell_type": "code",
   "execution_count": 3,
   "id": "78d7a866-3371-42e5-b1d2-6b8df2a801a4",
   "metadata": {},
   "outputs": [
    {
     "ename": "TypeError",
     "evalue": "Converter.__init__() missing 1 required positional argument: 'filepath'",
     "output_type": "error",
     "traceback": [
      "\u001b[0;31m---------------------------------------------------------------------------\u001b[0m",
      "\u001b[0;31mTypeError\u001b[0m                                 Traceback (most recent call last)",
      "Cell \u001b[0;32mIn[3], line 1\u001b[0m\n\u001b[0;32m----> 1\u001b[0m \u001b[43mbrightpath\u001b[49m\u001b[38;5;241;43m.\u001b[39;49m\u001b[43mConverter\u001b[49m\u001b[43m(\u001b[49m\u001b[43m)\u001b[49m\n",
      "\u001b[0;31mTypeError\u001b[0m: Converter.__init__() missing 1 required positional argument: 'filepath'"
     ]
    }
   ],
   "source": [
    "brightpath.Converter(filepath=\"\")"
   ]
  },
  {
   "cell_type": "code",
   "execution_count": null,
   "id": "23d2b3d1",
   "metadata": {},
   "outputs": [],
   "source": []
  }
 ],
 "metadata": {
  "kernelspec": {
   "display_name": "Python 3 (ipykernel)",
   "language": "python",
   "name": "python3"
  },
  "language_info": {
   "codemirror_mode": {
    "name": "ipython",
    "version": 3
   },
   "file_extension": ".py",
   "mimetype": "text/x-python",
   "name": "python",
   "nbconvert_exporter": "python",
   "pygments_lexer": "ipython3",
   "version": "3.10.8"
  }
 },
 "nbformat": 4,
 "nbformat_minor": 5
}
